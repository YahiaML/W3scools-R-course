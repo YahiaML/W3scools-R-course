{
  "nbformat": 4,
  "nbformat_minor": 0,
  "metadata": {
    "colab": {
      "name": "L_8 If ... Else.ipynb",
      "provenance": [],
      "collapsed_sections": [],
      "authorship_tag": "ABX9TyPHAmURRvG0yNrRjrSvHntn"
    },
    "kernelspec": {
      "name": "ir",
      "display_name": "R"
    },
    "language_info": {
      "name": "R"
    }
  },
  "cells": [
    {
      "cell_type": "markdown",
      "source": [
        "Python . . . . . . . | . . . . . . . R\n",
        "\n",
        "if . . . . . . . . . . . . |  . . . . . . if\n",
        "\n",
        "elif . . . . . . . . . . .| . . . . . . else if\n",
        "\n",
        "else . . . . . . . . . .| . . . . . . else"
      ],
      "metadata": {
        "id": "QdFXHfF6OSiA"
      }
    },
    {
      "cell_type": "code",
      "source": [
        "x <- 10\n",
        "y <- 5\n",
        "\n",
        "if (x < y) {\n",
        "  print(\"Y is greater than X\")\n",
        "} else if (x == y) {                                                        # We must set the \"else\" in front of the \"}\" sign\n",
        "  print(\"Y is equal to X\")\n",
        "} else {\n",
        "  \"Y is smaller than X\"                                                    # We can put it without print() if it's the last operation in the branch\n",
        " # \"The previous text will not appear if we removed te comment sign\"\n",
        "}"
      ],
      "metadata": {
        "colab": {
          "base_uri": "https://localhost:8080/",
          "height": 34
        },
        "id": "ukOQ3F-hNz_5",
        "outputId": "e43235fd-4881-480e-944d-b88b67b7d96a"
      },
      "execution_count": 69,
      "outputs": [
        {
          "output_type": "display_data",
          "data": {
            "text/html": [
              "11"
            ],
            "text/markdown": "11",
            "text/latex": "11",
            "text/plain": [
              "[1] 11"
            ]
          },
          "metadata": {}
        }
      ]
    },
    {
      "cell_type": "markdown",
      "source": [
        "# Nested IF"
      ],
      "metadata": {
        "id": "33IIcdLqQylD"
      }
    },
    {
      "cell_type": "code",
      "source": [
        "x <- 10\n",
        "Y <- 20\n",
        "\n",
        "if (x < 20) {\n",
        "  print(\"First loop\")        # in nested ifs we must use print()\n",
        "  if (x == y) {\n",
        "    \"X is equal to Y\"\n",
        "  } else {\n",
        "    \"X is not equal to Y\"\n",
        "  }\n",
        "} else {\n",
        "  \"x is greater than 20\"\n",
        "}"
      ],
      "metadata": {
        "colab": {
          "base_uri": "https://localhost:8080/",
          "height": 52
        },
        "id": "ieNj7vhnQxG9",
        "outputId": "9cf2cc17-dd8b-4f71-e4ca-defc23970909"
      },
      "execution_count": 68,
      "outputs": [
        {
          "output_type": "stream",
          "name": "stdout",
          "text": [
            "[1] \"First loop\"\n"
          ]
        },
        {
          "output_type": "display_data",
          "data": {
            "text/html": [
              "'X is not equal to Y'"
            ],
            "text/markdown": "'X is not equal to Y'",
            "text/latex": "'X is not equal to Y'",
            "text/plain": [
              "[1] \"X is not equal to Y\""
            ]
          },
          "metadata": {}
        }
      ]
    },
    {
      "cell_type": "markdown",
      "source": [
        "# & and |"
      ],
      "metadata": {
        "id": "jtkmUxg6Set6"
      }
    },
    {
      "cell_type": "code",
      "source": [
        "x <- 5\n",
        "y <- 10\n",
        "z <- 15\n",
        "\n",
        "# x<- 20\n",
        "\n",
        "if (z > y & y>x) {\n",
        "  \"Both are TRUE\"\n",
        "\n",
        "} else if (z<y | y < x) {\n",
        "  \"There is a mistake\"\n",
        "}"
      ],
      "metadata": {
        "colab": {
          "base_uri": "https://localhost:8080/",
          "height": 34
        },
        "id": "wvaB7cRcSh8J",
        "outputId": "4c4c3a31-37b7-45e5-c467-59e75cd44dad"
      },
      "execution_count": 73,
      "outputs": [
        {
          "output_type": "display_data",
          "data": {
            "text/html": [
              "'Both are TRUE'"
            ],
            "text/markdown": "'Both are TRUE'",
            "text/latex": "'Both are TRUE'",
            "text/plain": [
              "[1] \"Both are TRUE\""
            ]
          },
          "metadata": {}
        }
      ]
    }
  ]
}