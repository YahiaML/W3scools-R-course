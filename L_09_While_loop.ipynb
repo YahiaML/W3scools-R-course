{
  "nbformat": 4,
  "nbformat_minor": 0,
  "metadata": {
    "colab": {
      "name": "L_9 While loop.ipynb",
      "provenance": [],
      "collapsed_sections": [],
      "authorship_tag": "ABX9TyOx08bBCRzJt0euwFvnIUeg"
    },
    "kernelspec": {
      "name": "ir",
      "display_name": "R"
    },
    "language_info": {
      "name": "R"
    }
  },
  "cells": [
    {
      "cell_type": "code",
      "source": [
        "continue <- TRUE\n",
        "x <- 0\n",
        "while (continue) {\n",
        "  if (x < 10) {\n",
        "    print(x)\n",
        "    x <- x+1\n",
        "\n",
        "  } else {\n",
        "    continue <- FALSE\n",
        "  }\n",
        "}"
      ],
      "metadata": {
        "colab": {
          "base_uri": "https://localhost:8080/"
        },
        "id": "Tbg4n8wJbhLA",
        "outputId": "6eeaaa7b-ad9d-4b46-e65b-c60f8b8103f4"
      },
      "execution_count": 74,
      "outputs": [
        {
          "output_type": "stream",
          "name": "stdout",
          "text": [
            "[1] 0\n",
            "[1] 1\n",
            "[1] 2\n",
            "[1] 3\n",
            "[1] 4\n",
            "[1] 5\n",
            "[1] 6\n",
            "[1] 7\n",
            "[1] 8\n",
            "[1] 9\n"
          ]
        }
      ]
    },
    {
      "cell_type": "markdown",
      "source": [
        "# Break"
      ],
      "metadata": {
        "id": "coXvO9PdclKX"
      }
    },
    {
      "cell_type": "code",
      "source": [
        "continue <- TRUE\n",
        "x <- 0\n",
        "while (continue) {\n",
        "  if (x < 10) {\n",
        "    print(x)\n",
        "    x <- x+1\n",
        "\n",
        "  } else if (x == 10) {\n",
        "    break\n",
        "  }\n",
        "}"
      ],
      "metadata": {
        "colab": {
          "base_uri": "https://localhost:8080/"
        },
        "id": "5u8_DSxxccc_",
        "outputId": "b02a3d55-8c52-4ccf-d71f-9a4f18b1479e"
      },
      "execution_count": 79,
      "outputs": [
        {
          "output_type": "stream",
          "name": "stdout",
          "text": [
            "[1] 0\n",
            "[1] 1\n",
            "[1] 2\n",
            "[1] 3\n",
            "[1] 4\n",
            "[1] 5\n",
            "[1] 6\n",
            "[1] 7\n",
            "[1] 8\n",
            "[1] 9\n"
          ]
        }
      ]
    },
    {
      "cell_type": "markdown",
      "source": [
        "#Next (= pass in python)"
      ],
      "metadata": {
        "id": "Kz1jw6agco6e"
      }
    },
    {
      "cell_type": "code",
      "source": [
        "continue <- TRUE\n",
        "x <- 0\n",
        "\n",
        "while (continue) {\n",
        "  x <- x+1 \n",
        "\n",
        "  if (x == 5) {  \n",
        "    next   \n",
        "\n",
        "  } else if (x < 10) {\n",
        "    print(x)  \n",
        "\n",
        "  } else if (x > 20) {\n",
        "    print(x)\n",
        "    continue <- FALSE\n",
        "  } \n",
        " \n",
        "\n",
        "}"
      ],
      "metadata": {
        "colab": {
          "base_uri": "https://localhost:8080/"
        },
        "id": "JaaNA0HJcvdN",
        "outputId": "49c056ed-1d54-4cb3-d63e-a92f727cb613"
      },
      "execution_count": 98,
      "outputs": [
        {
          "output_type": "stream",
          "name": "stdout",
          "text": [
            "[1] 1\n",
            "[1] 2\n",
            "[1] 3\n",
            "[1] 4\n",
            "[1] 6\n",
            "[1] 7\n",
            "[1] 8\n",
            "[1] 9\n",
            "[1] 21\n"
          ]
        }
      ]
    }
  ]
}
