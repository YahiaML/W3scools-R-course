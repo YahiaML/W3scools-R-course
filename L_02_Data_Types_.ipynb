{
  "nbformat": 4,
  "nbformat_minor": 0,
  "metadata": {
    "colab": {
      "name": "L_2 Data Types..ipynb",
      "provenance": [],
      "collapsed_sections": [],
      "authorship_tag": "ABX9TyOfeLm2hGIKpnAsJ0zzVjpb"
    },
    "kernelspec": {
      "name": "ir",
      "display_name": "R"
    },
    "language_info": {
      "name": "R"
    }
  },
  "cells": [
    {
      "cell_type": "markdown",
      "source": [
        "#.\n",
        "Basic data types in R can be divided into the following types:\n",
        "\n",
        "* numeric - (10.5, 55, 787)\n",
        "* integer - (1L, 55L, 100L, where the letter \"L\" declares this as an integer)\n",
        "* complex - (9 + 3i, where \"i\" is the imaginary part)\n",
        "* character (a.k.a. string) - (\"k\", \"R is exciting\", \"FALSE\", \"11.5\")\n",
        "* logical (a.k.a. boolean) - (TRUE or FALSE)\n",
        "\n",
        "We can use the class() function to check the data type of a variable:"
      ],
      "metadata": {
        "id": "m8khCQjRLVJV"
      }
    },
    {
      "cell_type": "code",
      "source": [
        "num <- 50L\n",
        "class(num)"
      ],
      "metadata": {
        "colab": {
          "base_uri": "https://localhost:8080/",
          "height": 34
        },
        "id": "Rtpc5HpsLfMl",
        "outputId": "d2167f95-a023-4e38-d22c-6bfde2b98bd8"
      },
      "execution_count": 13,
      "outputs": [
        {
          "output_type": "display_data",
          "data": {
            "text/html": [
              "'numeric'"
            ],
            "text/markdown": "'numeric'",
            "text/latex": "'numeric'",
            "text/plain": [
              "[1] \"numeric\""
            ]
          },
          "metadata": {}
        }
      ]
    },
    {
      "cell_type": "code",
      "source": [
        "num <- 50L\n",
        "class(num)"
      ],
      "metadata": {
        "colab": {
          "base_uri": "https://localhost:8080/",
          "height": 34
        },
        "id": "0OFiRsMiLlcR",
        "outputId": "e7a87c94-dd77-452b-cf21-2a51e2c8aea9"
      },
      "execution_count": 8,
      "outputs": [
        {
          "output_type": "display_data",
          "data": {
            "text/html": [
              "'integer'"
            ],
            "text/markdown": "'integer'",
            "text/latex": "'integer'",
            "text/plain": [
              "[1] \"integer\""
            ]
          },
          "metadata": {}
        }
      ]
    },
    {
      "cell_type": "code",
      "source": [
        "num <- 50i\n",
        "class(num)"
      ],
      "metadata": {
        "colab": {
          "base_uri": "https://localhost:8080/",
          "height": 34
        },
        "id": "DPzR-MqCLqFz",
        "outputId": "3280f852-099b-43e4-e2fc-448ff7938667"
      },
      "execution_count": 9,
      "outputs": [
        {
          "output_type": "display_data",
          "data": {
            "text/html": [
              "'complex'"
            ],
            "text/markdown": "'complex'",
            "text/latex": "'complex'",
            "text/plain": [
              "[1] \"complex\""
            ]
          },
          "metadata": {}
        }
      ]
    },
    {
      "cell_type": "code",
      "source": [
        "name <- \"ABC\"\n",
        "class(name)"
      ],
      "metadata": {
        "colab": {
          "base_uri": "https://localhost:8080/",
          "height": 34
        },
        "id": "jtMy5IPTLt5s",
        "outputId": "e25a38bf-b564-4034-adc5-f320de4e2c1e"
      },
      "execution_count": 10,
      "outputs": [
        {
          "output_type": "display_data",
          "data": {
            "text/html": [
              "'character'"
            ],
            "text/markdown": "'character'",
            "text/latex": "'character'",
            "text/plain": [
              "[1] \"character\""
            ]
          },
          "metadata": {}
        }
      ]
    },
    {
      "cell_type": "code",
      "source": [
        "num1 <- 50.9L\n",
        "num2 <- 50\n",
        "num1 + num2"
      ],
      "metadata": {
        "colab": {
          "base_uri": "https://localhost:8080/",
          "height": 34
        },
        "id": "lqv-ogRkMDo8",
        "outputId": "4df66705-5648-4839-ab2b-4ff0b638a891"
      },
      "execution_count": 15,
      "outputs": [
        {
          "output_type": "display_data",
          "data": {
            "text/html": [
              "100.9"
            ],
            "text/markdown": "100.9",
            "text/latex": "100.9",
            "text/plain": [
              "[1] 100.9"
            ]
          },
          "metadata": {}
        }
      ]
    }
  ]
}
