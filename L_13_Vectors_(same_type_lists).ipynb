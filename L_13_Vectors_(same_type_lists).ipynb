{
  "nbformat": 4,
  "nbformat_minor": 0,
  "metadata": {
    "colab": {
      "name": "L_13 Vectors (same type lists).ipynb",
      "provenance": [],
      "collapsed_sections": [],
      "authorship_tag": "ABX9TyPTVcDdkUiKlN7/Z3tBgQcd",
      "include_colab_link": true
    },
    "kernelspec": {
      "name": "ir",
      "display_name": "R"
    },
    "language_info": {
      "name": "R"
    }
  },
  "cells": [
    {
      "cell_type": "markdown",
      "metadata": {
        "id": "view-in-github",
        "colab_type": "text"
      },
      "source": [
        "<a href=\"https://colab.research.google.com/github/YahiaML/W3scools-R-course/blob/main/L_13_Vectors_(same_type_lists).ipynb\" target=\"_parent\"><img src=\"https://colab.research.google.com/assets/colab-badge.svg\" alt=\"Open In Colab\"/></a>"
      ]
    },
    {
      "cell_type": "markdown",
      "source": [
        "# Vectors (= same type lists)\n",
        "A vector is simply a list of items that are of the same type.\n",
        "\n",
        "To combine the list of items to a vector, use the c() function and separate the items by a comma."
      ],
      "metadata": {
        "id": "ZDoEx1NvE5f8"
      }
    },
    {
      "cell_type": "code",
      "source": [
        "V1 <- c(\"Yahia\", \"Mahmoud\", \"Ali\")\n",
        "V1\n",
        "\n",
        "V2 <- c(\"Yahia\", \"Mahmoud\", 20)  #Turned 20 to a string\n",
        "V2\n",
        "\n",
        "V3 <- c(20,30,40)\n",
        "V3\n",
        "\n",
        "# V4 <- (20,30,\"Yahia\")  # EROR\n",
        "# V4"
      ],
      "metadata": {
        "colab": {
          "base_uri": "https://localhost:8080/",
          "height": 69
        },
        "id": "6ajDoj0N--pw",
        "outputId": "03b75ebe-a397-42b0-d8bc-44e710e503e4"
      },
      "execution_count": 8,
      "outputs": [
        {
          "output_type": "display_data",
          "data": {
            "text/html": [
              "<style>\n",
              ".list-inline {list-style: none; margin:0; padding: 0}\n",
              ".list-inline>li {display: inline-block}\n",
              ".list-inline>li:not(:last-child)::after {content: \"\\00b7\"; padding: 0 .5ex}\n",
              "</style>\n",
              "<ol class=list-inline><li>'Yahia'</li><li>'Mahmoud'</li><li>'Ali'</li></ol>\n"
            ],
            "text/markdown": "1. 'Yahia'\n2. 'Mahmoud'\n3. 'Ali'\n\n\n",
            "text/latex": "\\begin{enumerate*}\n\\item 'Yahia'\n\\item 'Mahmoud'\n\\item 'Ali'\n\\end{enumerate*}\n",
            "text/plain": [
              "[1] \"Yahia\"   \"Mahmoud\" \"Ali\"    "
            ]
          },
          "metadata": {}
        },
        {
          "output_type": "display_data",
          "data": {
            "text/html": [
              "<style>\n",
              ".list-inline {list-style: none; margin:0; padding: 0}\n",
              ".list-inline>li {display: inline-block}\n",
              ".list-inline>li:not(:last-child)::after {content: \"\\00b7\"; padding: 0 .5ex}\n",
              "</style>\n",
              "<ol class=list-inline><li>'Yahia'</li><li>'Mahmoud'</li><li>'20'</li></ol>\n"
            ],
            "text/markdown": "1. 'Yahia'\n2. 'Mahmoud'\n3. '20'\n\n\n",
            "text/latex": "\\begin{enumerate*}\n\\item 'Yahia'\n\\item 'Mahmoud'\n\\item '20'\n\\end{enumerate*}\n",
            "text/plain": [
              "[1] \"Yahia\"   \"Mahmoud\" \"20\"     "
            ]
          },
          "metadata": {}
        },
        {
          "output_type": "display_data",
          "data": {
            "text/html": [
              "<style>\n",
              ".list-inline {list-style: none; margin:0; padding: 0}\n",
              ".list-inline>li {display: inline-block}\n",
              ".list-inline>li:not(:last-child)::after {content: \"\\00b7\"; padding: 0 .5ex}\n",
              "</style>\n",
              "<ol class=list-inline><li>20</li><li>30</li><li>40</li></ol>\n"
            ],
            "text/markdown": "1. 20\n2. 30\n3. 40\n\n\n",
            "text/latex": "\\begin{enumerate*}\n\\item 20\n\\item 30\n\\item 40\n\\end{enumerate*}\n",
            "text/plain": [
              "[1] 20 30 40"
            ]
          },
          "metadata": {}
        }
      ]
    },
    {
      "cell_type": "code",
      "source": [
        "v1 <- 1:10\n",
        "v1\n",
        "\n",
        "v2 <- 0.5:10.5\n",
        "v2"
      ],
      "metadata": {
        "colab": {
          "base_uri": "https://localhost:8080/",
          "height": 52
        },
        "id": "X71nCXnfFJqh",
        "outputId": "d519ea18-1105-4f94-8dc7-d0d728ca355d"
      },
      "execution_count": 10,
      "outputs": [
        {
          "output_type": "display_data",
          "data": {
            "text/html": [
              "<style>\n",
              ".list-inline {list-style: none; margin:0; padding: 0}\n",
              ".list-inline>li {display: inline-block}\n",
              ".list-inline>li:not(:last-child)::after {content: \"\\00b7\"; padding: 0 .5ex}\n",
              "</style>\n",
              "<ol class=list-inline><li>1</li><li>2</li><li>3</li><li>4</li><li>5</li><li>6</li><li>7</li><li>8</li><li>9</li><li>10</li></ol>\n"
            ],
            "text/markdown": "1. 1\n2. 2\n3. 3\n4. 4\n5. 5\n6. 6\n7. 7\n8. 8\n9. 9\n10. 10\n\n\n",
            "text/latex": "\\begin{enumerate*}\n\\item 1\n\\item 2\n\\item 3\n\\item 4\n\\item 5\n\\item 6\n\\item 7\n\\item 8\n\\item 9\n\\item 10\n\\end{enumerate*}\n",
            "text/plain": [
              " [1]  1  2  3  4  5  6  7  8  9 10"
            ]
          },
          "metadata": {}
        },
        {
          "output_type": "display_data",
          "data": {
            "text/html": [
              "<style>\n",
              ".list-inline {list-style: none; margin:0; padding: 0}\n",
              ".list-inline>li {display: inline-block}\n",
              ".list-inline>li:not(:last-child)::after {content: \"\\00b7\"; padding: 0 .5ex}\n",
              "</style>\n",
              "<ol class=list-inline><li>0.5</li><li>1.5</li><li>2.5</li><li>3.5</li><li>4.5</li><li>5.5</li><li>6.5</li><li>7.5</li><li>8.5</li><li>9.5</li><li>10.5</li></ol>\n"
            ],
            "text/markdown": "1. 0.5\n2. 1.5\n3. 2.5\n4. 3.5\n5. 4.5\n6. 5.5\n7. 6.5\n8. 7.5\n9. 8.5\n10. 9.5\n11. 10.5\n\n\n",
            "text/latex": "\\begin{enumerate*}\n\\item 0.5\n\\item 1.5\n\\item 2.5\n\\item 3.5\n\\item 4.5\n\\item 5.5\n\\item 6.5\n\\item 7.5\n\\item 8.5\n\\item 9.5\n\\item 10.5\n\\end{enumerate*}\n",
            "text/plain": [
              " [1]  0.5  1.5  2.5  3.5  4.5  5.5  6.5  7.5  8.5  9.5 10.5"
            ]
          },
          "metadata": {}
        }
      ]
    },
    {
      "cell_type": "code",
      "source": [
        "logic_V <- c(TRUE, FALSE, TRUE, FALSE)\n",
        "logic_V"
      ],
      "metadata": {
        "colab": {
          "base_uri": "https://localhost:8080/",
          "height": 34
        },
        "id": "n0dg-KloFya3",
        "outputId": "82d3767b-9952-4468-a1ba-a8390f51331a"
      },
      "execution_count": 11,
      "outputs": [
        {
          "output_type": "display_data",
          "data": {
            "text/html": [
              "<style>\n",
              ".list-inline {list-style: none; margin:0; padding: 0}\n",
              ".list-inline>li {display: inline-block}\n",
              ".list-inline>li:not(:last-child)::after {content: \"\\00b7\"; padding: 0 .5ex}\n",
              "</style>\n",
              "<ol class=list-inline><li>TRUE</li><li>FALSE</li><li>TRUE</li><li>FALSE</li></ol>\n"
            ],
            "text/markdown": "1. TRUE\n2. FALSE\n3. TRUE\n4. FALSE\n\n\n",
            "text/latex": "\\begin{enumerate*}\n\\item TRUE\n\\item FALSE\n\\item TRUE\n\\item FALSE\n\\end{enumerate*}\n",
            "text/plain": [
              "[1]  TRUE FALSE  TRUE FALSE"
            ]
          },
          "metadata": {}
        }
      ]
    },
    {
      "cell_type": "markdown",
      "source": [
        "#Find the length"
      ],
      "metadata": {
        "id": "PmI_otfiG1hg"
      }
    },
    {
      "cell_type": "code",
      "source": [
        "v1 <- 1:10\n",
        "length(v1)"
      ],
      "metadata": {
        "colab": {
          "base_uri": "https://localhost:8080/",
          "height": 34
        },
        "id": "c-CDeygsGNzi",
        "outputId": "3c284a85-dcae-4b10-f5e8-378a0205602d"
      },
      "execution_count": 13,
      "outputs": [
        {
          "output_type": "display_data",
          "data": {
            "text/html": [
              "10"
            ],
            "text/markdown": "10",
            "text/latex": "10",
            "text/plain": [
              "[1] 10"
            ]
          },
          "metadata": {}
        }
      ]
    },
    {
      "cell_type": "markdown",
      "source": [
        "#Sort the Vector"
      ],
      "metadata": {
        "id": "p6aeq5nsG8rY"
      }
    },
    {
      "cell_type": "code",
      "source": [
        "names <- c(\"Yahia\", \"Abdo\", \"Ammar\", \"Saeed\", \"Waeel\")\n",
        "\n",
        "ages <- c(\"21\", \"20\", \"19\", \"20\",\"20\")\n",
        "\n",
        "sort(names)\n",
        "sort(names, decreasing = TRUE)\n",
        "sort(ages)\n",
        "sort(ages, decreasing = TRUE)"
      ],
      "metadata": {
        "colab": {
          "base_uri": "https://localhost:8080/",
          "height": 86
        },
        "id": "koLYaon-HBLZ",
        "outputId": "8f44df2a-08db-4100-81fc-a14bd6ff6827"
      },
      "execution_count": 15,
      "outputs": [
        {
          "output_type": "display_data",
          "data": {
            "text/html": [
              "<style>\n",
              ".list-inline {list-style: none; margin:0; padding: 0}\n",
              ".list-inline>li {display: inline-block}\n",
              ".list-inline>li:not(:last-child)::after {content: \"\\00b7\"; padding: 0 .5ex}\n",
              "</style>\n",
              "<ol class=list-inline><li>'Abdo'</li><li>'Ammar'</li><li>'Saeed'</li><li>'Waeel'</li><li>'Yahia'</li></ol>\n"
            ],
            "text/markdown": "1. 'Abdo'\n2. 'Ammar'\n3. 'Saeed'\n4. 'Waeel'\n5. 'Yahia'\n\n\n",
            "text/latex": "\\begin{enumerate*}\n\\item 'Abdo'\n\\item 'Ammar'\n\\item 'Saeed'\n\\item 'Waeel'\n\\item 'Yahia'\n\\end{enumerate*}\n",
            "text/plain": [
              "[1] \"Abdo\"  \"Ammar\" \"Saeed\" \"Waeel\" \"Yahia\""
            ]
          },
          "metadata": {}
        },
        {
          "output_type": "display_data",
          "data": {
            "text/html": [
              "<style>\n",
              ".list-inline {list-style: none; margin:0; padding: 0}\n",
              ".list-inline>li {display: inline-block}\n",
              ".list-inline>li:not(:last-child)::after {content: \"\\00b7\"; padding: 0 .5ex}\n",
              "</style>\n",
              "<ol class=list-inline><li>'Yahia'</li><li>'Waeel'</li><li>'Saeed'</li><li>'Ammar'</li><li>'Abdo'</li></ol>\n"
            ],
            "text/markdown": "1. 'Yahia'\n2. 'Waeel'\n3. 'Saeed'\n4. 'Ammar'\n5. 'Abdo'\n\n\n",
            "text/latex": "\\begin{enumerate*}\n\\item 'Yahia'\n\\item 'Waeel'\n\\item 'Saeed'\n\\item 'Ammar'\n\\item 'Abdo'\n\\end{enumerate*}\n",
            "text/plain": [
              "[1] \"Yahia\" \"Waeel\" \"Saeed\" \"Ammar\" \"Abdo\" "
            ]
          },
          "metadata": {}
        },
        {
          "output_type": "display_data",
          "data": {
            "text/html": [
              "<style>\n",
              ".list-inline {list-style: none; margin:0; padding: 0}\n",
              ".list-inline>li {display: inline-block}\n",
              ".list-inline>li:not(:last-child)::after {content: \"\\00b7\"; padding: 0 .5ex}\n",
              "</style>\n",
              "<ol class=list-inline><li>'19'</li><li>'20'</li><li>'20'</li><li>'20'</li><li>'21'</li></ol>\n"
            ],
            "text/markdown": "1. '19'\n2. '20'\n3. '20'\n4. '20'\n5. '21'\n\n\n",
            "text/latex": "\\begin{enumerate*}\n\\item '19'\n\\item '20'\n\\item '20'\n\\item '20'\n\\item '21'\n\\end{enumerate*}\n",
            "text/plain": [
              "[1] \"19\" \"20\" \"20\" \"20\" \"21\""
            ]
          },
          "metadata": {}
        },
        {
          "output_type": "display_data",
          "data": {
            "text/html": [
              "<style>\n",
              ".list-inline {list-style: none; margin:0; padding: 0}\n",
              ".list-inline>li {display: inline-block}\n",
              ".list-inline>li:not(:last-child)::after {content: \"\\00b7\"; padding: 0 .5ex}\n",
              "</style>\n",
              "<ol class=list-inline><li>'21'</li><li>'20'</li><li>'20'</li><li>'20'</li><li>'19'</li></ol>\n"
            ],
            "text/markdown": "1. '21'\n2. '20'\n3. '20'\n4. '20'\n5. '19'\n\n\n",
            "text/latex": "\\begin{enumerate*}\n\\item '21'\n\\item '20'\n\\item '20'\n\\item '20'\n\\item '19'\n\\end{enumerate*}\n",
            "text/plain": [
              "[1] \"21\" \"20\" \"20\" \"20\" \"19\""
            ]
          },
          "metadata": {}
        }
      ]
    },
    {
      "cell_type": "markdown",
      "source": [
        "#Access The Vector\n",
        "\n",
        "index starts from 1 not 0 as in python"
      ],
      "metadata": {
        "id": "OqdBZ3HgH3ap"
      }
    },
    {
      "cell_type": "code",
      "source": [
        "names <- c(\"Yahia\", \"Abdo\", \"Ammar\", \"Saeed\", \"Waeel\")\n",
        "\n",
        "names[1]                                    #get the 1st item\n",
        "names[c(1, 3)]                              #get the 1st and 3rd item\n",
        "names[c(1: 3)]                              #get items from 1 to 3 (3 is incloded)\n",
        "names[c(-1)]                                #get all items except the first item\n",
        "tail(names , 2)                             #get the last two items\n",
        "\n",
        "names[c(length(names)-2 : length(names))]   #prints items in desc. order and delete the last \"n\" items we don't want\n",
        "                                            "
      ],
      "metadata": {
        "colab": {
          "base_uri": "https://localhost:8080/",
          "height": 121
        },
        "id": "EH2LIcOQHg6s",
        "outputId": "00fc9857-52a0-4a3a-d445-25a999f5a7bc"
      },
      "execution_count": 30,
      "outputs": [
        {
          "output_type": "display_data",
          "data": {
            "text/html": [
              "'Yahia'"
            ],
            "text/markdown": "'Yahia'",
            "text/latex": "'Yahia'",
            "text/plain": [
              "[1] \"Yahia\""
            ]
          },
          "metadata": {}
        },
        {
          "output_type": "display_data",
          "data": {
            "text/html": [
              "<style>\n",
              ".list-inline {list-style: none; margin:0; padding: 0}\n",
              ".list-inline>li {display: inline-block}\n",
              ".list-inline>li:not(:last-child)::after {content: \"\\00b7\"; padding: 0 .5ex}\n",
              "</style>\n",
              "<ol class=list-inline><li>'Yahia'</li><li>'Ammar'</li></ol>\n"
            ],
            "text/markdown": "1. 'Yahia'\n2. 'Ammar'\n\n\n",
            "text/latex": "\\begin{enumerate*}\n\\item 'Yahia'\n\\item 'Ammar'\n\\end{enumerate*}\n",
            "text/plain": [
              "[1] \"Yahia\" \"Ammar\""
            ]
          },
          "metadata": {}
        },
        {
          "output_type": "display_data",
          "data": {
            "text/html": [
              "<style>\n",
              ".list-inline {list-style: none; margin:0; padding: 0}\n",
              ".list-inline>li {display: inline-block}\n",
              ".list-inline>li:not(:last-child)::after {content: \"\\00b7\"; padding: 0 .5ex}\n",
              "</style>\n",
              "<ol class=list-inline><li>'Yahia'</li><li>'Abdo'</li><li>'Ammar'</li></ol>\n"
            ],
            "text/markdown": "1. 'Yahia'\n2. 'Abdo'\n3. 'Ammar'\n\n\n",
            "text/latex": "\\begin{enumerate*}\n\\item 'Yahia'\n\\item 'Abdo'\n\\item 'Ammar'\n\\end{enumerate*}\n",
            "text/plain": [
              "[1] \"Yahia\" \"Abdo\"  \"Ammar\""
            ]
          },
          "metadata": {}
        },
        {
          "output_type": "display_data",
          "data": {
            "text/html": [
              "<style>\n",
              ".list-inline {list-style: none; margin:0; padding: 0}\n",
              ".list-inline>li {display: inline-block}\n",
              ".list-inline>li:not(:last-child)::after {content: \"\\00b7\"; padding: 0 .5ex}\n",
              "</style>\n",
              "<ol class=list-inline><li>'Abdo'</li><li>'Ammar'</li><li>'Saeed'</li><li>'Waeel'</li></ol>\n"
            ],
            "text/markdown": "1. 'Abdo'\n2. 'Ammar'\n3. 'Saeed'\n4. 'Waeel'\n\n\n",
            "text/latex": "\\begin{enumerate*}\n\\item 'Abdo'\n\\item 'Ammar'\n\\item 'Saeed'\n\\item 'Waeel'\n\\end{enumerate*}\n",
            "text/plain": [
              "[1] \"Abdo\"  \"Ammar\" \"Saeed\" \"Waeel\""
            ]
          },
          "metadata": {}
        },
        {
          "output_type": "display_data",
          "data": {
            "text/html": [
              "<style>\n",
              ".list-inline {list-style: none; margin:0; padding: 0}\n",
              ".list-inline>li {display: inline-block}\n",
              ".list-inline>li:not(:last-child)::after {content: \"\\00b7\"; padding: 0 .5ex}\n",
              "</style>\n",
              "<ol class=list-inline><li>'Saeed'</li><li>'Waeel'</li></ol>\n"
            ],
            "text/markdown": "1. 'Saeed'\n2. 'Waeel'\n\n\n",
            "text/latex": "\\begin{enumerate*}\n\\item 'Saeed'\n\\item 'Waeel'\n\\end{enumerate*}\n",
            "text/plain": [
              "[1] \"Saeed\" \"Waeel\""
            ]
          },
          "metadata": {}
        },
        {
          "output_type": "display_data",
          "data": {
            "text/html": [
              "<style>\n",
              ".list-inline {list-style: none; margin:0; padding: 0}\n",
              ".list-inline>li {display: inline-block}\n",
              ".list-inline>li:not(:last-child)::after {content: \"\\00b7\"; padding: 0 .5ex}\n",
              "</style>\n",
              "<ol class=list-inline><li>'Ammar'</li><li>'Abdo'</li><li>'Yahia'</li></ol>\n"
            ],
            "text/markdown": "1. 'Ammar'\n2. 'Abdo'\n3. 'Yahia'\n\n\n",
            "text/latex": "\\begin{enumerate*}\n\\item 'Ammar'\n\\item 'Abdo'\n\\item 'Yahia'\n\\end{enumerate*}\n",
            "text/plain": [
              "[1] \"Ammar\" \"Abdo\"  \"Yahia\""
            ]
          },
          "metadata": {}
        }
      ]
    },
    {
      "cell_type": "markdown",
      "source": [
        "#Change an Item"
      ],
      "metadata": {
        "id": "dpeoChw1Kehj"
      }
    },
    {
      "cell_type": "code",
      "source": [
        "names <- c(\"Yahia\", \"Abdo\", \"Ammar\", \"Saeed\", \"Waeel\")\n",
        "names[1] <- \"Yahia_ML\"\n",
        "names"
      ],
      "metadata": {
        "colab": {
          "base_uri": "https://localhost:8080/",
          "height": 34
        },
        "id": "sH8lpQJ2KlSZ",
        "outputId": "b912cb8e-fb08-4e3d-f6c0-3a39520d4693"
      },
      "execution_count": 32,
      "outputs": [
        {
          "output_type": "display_data",
          "data": {
            "text/html": [
              "<style>\n",
              ".list-inline {list-style: none; margin:0; padding: 0}\n",
              ".list-inline>li {display: inline-block}\n",
              ".list-inline>li:not(:last-child)::after {content: \"\\00b7\"; padding: 0 .5ex}\n",
              "</style>\n",
              "<ol class=list-inline><li>'Yahia_ML'</li><li>'Abdo'</li><li>'Ammar'</li><li>'Saeed'</li><li>'Waeel'</li></ol>\n"
            ],
            "text/markdown": "1. 'Yahia_ML'\n2. 'Abdo'\n3. 'Ammar'\n4. 'Saeed'\n5. 'Waeel'\n\n\n",
            "text/latex": "\\begin{enumerate*}\n\\item 'Yahia\\_ML'\n\\item 'Abdo'\n\\item 'Ammar'\n\\item 'Saeed'\n\\item 'Waeel'\n\\end{enumerate*}\n",
            "text/plain": [
              "[1] \"Yahia_ML\" \"Abdo\"     \"Ammar\"    \"Saeed\"    \"Waeel\"   "
            ]
          },
          "metadata": {}
        }
      ]
    },
    {
      "cell_type": "markdown",
      "source": [
        "# Deleting items"
      ],
      "metadata": {
        "id": "kK7CniZ4Me7O"
      }
    },
    {
      "cell_type": "code",
      "source": [
        "names <- c(\"Yahia\", \"Abdo\", \"Ammar\", \"Saeed\", \"Waeel\")\n",
        "names <- names[-c(1, 2)]\n",
        "print(names)"
      ],
      "metadata": {
        "colab": {
          "base_uri": "https://localhost:8080/"
        },
        "id": "g_oNaKcyMimu",
        "outputId": "e99e081d-a14c-4d7b-b4f7-5dc0d8213b68"
      },
      "execution_count": 49,
      "outputs": [
        {
          "output_type": "stream",
          "name": "stdout",
          "text": [
            "[1] \"Ammar\" \"Saeed\" \"Waeel\"\n"
          ]
        }
      ]
    },
    {
      "cell_type": "markdown",
      "source": [
        "#Repeat Vectors"
      ],
      "metadata": {
        "id": "Kp5TAvzeK0wZ"
      }
    },
    {
      "cell_type": "code",
      "source": [
        "repeated_names <- rep(c(\"Yahia\", \"Abdo\", \"Ammar\", \"Saeed\", \"Waeel\"), each = 3)\n",
        "\n",
        "repeated_names"
      ],
      "metadata": {
        "colab": {
          "base_uri": "https://localhost:8080/",
          "height": 34
        },
        "id": "wzgvNG3GK3DB",
        "outputId": "53ccfde3-9c18-46e2-8d51-00856cdfd030"
      },
      "execution_count": 34,
      "outputs": [
        {
          "output_type": "display_data",
          "data": {
            "text/html": [
              "<style>\n",
              ".list-inline {list-style: none; margin:0; padding: 0}\n",
              ".list-inline>li {display: inline-block}\n",
              ".list-inline>li:not(:last-child)::after {content: \"\\00b7\"; padding: 0 .5ex}\n",
              "</style>\n",
              "<ol class=list-inline><li>'Yahia'</li><li>'Yahia'</li><li>'Yahia'</li><li>'Abdo'</li><li>'Abdo'</li><li>'Abdo'</li><li>'Ammar'</li><li>'Ammar'</li><li>'Ammar'</li><li>'Saeed'</li><li>'Saeed'</li><li>'Saeed'</li><li>'Waeel'</li><li>'Waeel'</li><li>'Waeel'</li></ol>\n"
            ],
            "text/markdown": "1. 'Yahia'\n2. 'Yahia'\n3. 'Yahia'\n4. 'Abdo'\n5. 'Abdo'\n6. 'Abdo'\n7. 'Ammar'\n8. 'Ammar'\n9. 'Ammar'\n10. 'Saeed'\n11. 'Saeed'\n12. 'Saeed'\n13. 'Waeel'\n14. 'Waeel'\n15. 'Waeel'\n\n\n",
            "text/latex": "\\begin{enumerate*}\n\\item 'Yahia'\n\\item 'Yahia'\n\\item 'Yahia'\n\\item 'Abdo'\n\\item 'Abdo'\n\\item 'Abdo'\n\\item 'Ammar'\n\\item 'Ammar'\n\\item 'Ammar'\n\\item 'Saeed'\n\\item 'Saeed'\n\\item 'Saeed'\n\\item 'Waeel'\n\\item 'Waeel'\n\\item 'Waeel'\n\\end{enumerate*}\n",
            "text/plain": [
              " [1] \"Yahia\" \"Yahia\" \"Yahia\" \"Abdo\"  \"Abdo\"  \"Abdo\"  \"Ammar\" \"Ammar\" \"Ammar\"\n",
              "[10] \"Saeed\" \"Saeed\" \"Saeed\" \"Waeel\" \"Waeel\" \"Waeel\""
            ]
          },
          "metadata": {}
        }
      ]
    },
    {
      "cell_type": "code",
      "source": [
        "repeat_specific_names <- rep(c(\"Yahia\", \"Abdo\", \"Ammar\", \"Saeed\", \"Waeel\"), times = c(0,1,2,1,2)) # \"times\" items must be equal the vector items\n",
        "                                                                                                  # 0 delets the item\n",
        "\n",
        "repeat_specific_names"
      ],
      "metadata": {
        "colab": {
          "base_uri": "https://localhost:8080/",
          "height": 34
        },
        "id": "Zs5CLW0_LIWZ",
        "outputId": "9f88dce1-998f-44d8-bf80-aba3344c11e2"
      },
      "execution_count": 37,
      "outputs": [
        {
          "output_type": "display_data",
          "data": {
            "text/html": [
              "<style>\n",
              ".list-inline {list-style: none; margin:0; padding: 0}\n",
              ".list-inline>li {display: inline-block}\n",
              ".list-inline>li:not(:last-child)::after {content: \"\\00b7\"; padding: 0 .5ex}\n",
              "</style>\n",
              "<ol class=list-inline><li>'Abdo'</li><li>'Ammar'</li><li>'Ammar'</li><li>'Saeed'</li><li>'Waeel'</li><li>'Waeel'</li></ol>\n"
            ],
            "text/markdown": "1. 'Abdo'\n2. 'Ammar'\n3. 'Ammar'\n4. 'Saeed'\n5. 'Waeel'\n6. 'Waeel'\n\n\n",
            "text/latex": "\\begin{enumerate*}\n\\item 'Abdo'\n\\item 'Ammar'\n\\item 'Ammar'\n\\item 'Saeed'\n\\item 'Waeel'\n\\item 'Waeel'\n\\end{enumerate*}\n",
            "text/plain": [
              "[1] \"Abdo\"  \"Ammar\" \"Ammar\" \"Saeed\" \"Waeel\" \"Waeel\""
            ]
          },
          "metadata": {}
        }
      ]
    },
    {
      "cell_type": "markdown",
      "source": [
        "# Generating Sequenced Vectors"
      ],
      "metadata": {
        "id": "jhHJNgOoLBrw"
      }
    },
    {
      "cell_type": "code",
      "source": [
        "num <- 1:10\n",
        "num\n",
        "\n",
        "num_by_10 <- seq(from = 10, to = 100, by = 10)\n",
        "num_by_10"
      ],
      "metadata": {
        "colab": {
          "base_uri": "https://localhost:8080/",
          "height": 52
        },
        "id": "2ynT4t16L8AB",
        "outputId": "4108a966-29eb-40b4-cc73-b7bf926a27af"
      },
      "execution_count": 41,
      "outputs": [
        {
          "output_type": "display_data",
          "data": {
            "text/html": [
              "<style>\n",
              ".list-inline {list-style: none; margin:0; padding: 0}\n",
              ".list-inline>li {display: inline-block}\n",
              ".list-inline>li:not(:last-child)::after {content: \"\\00b7\"; padding: 0 .5ex}\n",
              "</style>\n",
              "<ol class=list-inline><li>1</li><li>2</li><li>3</li><li>4</li><li>5</li><li>6</li><li>7</li><li>8</li><li>9</li><li>10</li></ol>\n"
            ],
            "text/markdown": "1. 1\n2. 2\n3. 3\n4. 4\n5. 5\n6. 6\n7. 7\n8. 8\n9. 9\n10. 10\n\n\n",
            "text/latex": "\\begin{enumerate*}\n\\item 1\n\\item 2\n\\item 3\n\\item 4\n\\item 5\n\\item 6\n\\item 7\n\\item 8\n\\item 9\n\\item 10\n\\end{enumerate*}\n",
            "text/plain": [
              " [1]  1  2  3  4  5  6  7  8  9 10"
            ]
          },
          "metadata": {}
        },
        {
          "output_type": "display_data",
          "data": {
            "text/html": [
              "<style>\n",
              ".list-inline {list-style: none; margin:0; padding: 0}\n",
              ".list-inline>li {display: inline-block}\n",
              ".list-inline>li:not(:last-child)::after {content: \"\\00b7\"; padding: 0 .5ex}\n",
              "</style>\n",
              "<ol class=list-inline><li>10</li><li>20</li><li>30</li><li>40</li><li>50</li><li>60</li><li>70</li><li>80</li><li>90</li><li>100</li></ol>\n"
            ],
            "text/markdown": "1. 10\n2. 20\n3. 30\n4. 40\n5. 50\n6. 60\n7. 70\n8. 80\n9. 90\n10. 100\n\n\n",
            "text/latex": "\\begin{enumerate*}\n\\item 10\n\\item 20\n\\item 30\n\\item 40\n\\item 50\n\\item 60\n\\item 70\n\\item 80\n\\item 90\n\\item 100\n\\end{enumerate*}\n",
            "text/plain": [
              " [1]  10  20  30  40  50  60  70  80  90 100"
            ]
          },
          "metadata": {}
        }
      ]
    }
  ]
}