{
  "nbformat": 4,
  "nbformat_minor": 0,
  "metadata": {
    "colab": {
      "name": "L_13 Vectors (same type lists).ipynb",
      "provenance": [],
      "collapsed_sections": [],
      "authorship_tag": "ABX9TyOH0M3ZWUrAkRixWM/LQY6x",
      "include_colab_link": true
    },
    "kernelspec": {
      "name": "ir",
      "display_name": "R"
    },
    "language_info": {
      "name": "R"
    }
  },
  "cells": [
    {
      "cell_type": "markdown",
      "metadata": {
        "id": "view-in-github",
        "colab_type": "text"
      },
      "source": [
        "<a href=\"https://colab.research.google.com/github/YahiaML/W3scools-R-course/blob/main/L_13_Vectors_(same_type_lists).ipynb\" target=\"_parent\"><img src=\"https://colab.research.google.com/assets/colab-badge.svg\" alt=\"Open In Colab\"/></a>"
      ]
    },
    {
      "cell_type": "markdown",
      "source": [
        "# Vectors (= same type lists)\n",
        "A vector is simply a list of items that are of the same type.\n",
        "\n",
        "To combine the list of items to a vector, use the c() function and separate the items by a comma."
      ],
      "metadata": {
        "id": "ZDoEx1NvE5f8"
      }
    },
    {
      "cell_type": "code",
      "source": [
        "V1 <- c(\"Yahia\", \"Mahmoud\", \"Ali\")\n",
        "V1\n",
        "\n",
        "V2 <- c(\"Yahia\", \"Mahmoud\", 20)  #Turned 20 to a string\n",
        "V2\n",
        "\n",
        "V3 <- c(20,30,40)\n",
        "V3\n",
        "\n",
        "# V4 <- (20,30,\"Yahia\")  # EROR\n",
        "# V4"
      ],
      "metadata": {
        "colab": {
          "base_uri": "https://localhost:8080/",
          "height": 69
        },
        "id": "6ajDoj0N--pw",
        "outputId": "03b75ebe-a397-42b0-d8bc-44e710e503e4"
      },
      "execution_count": 8,
      "outputs": [
        {
          "output_type": "display_data",
          "data": {
            "text/html": [
              "<style>\n",
              ".list-inline {list-style: none; margin:0; padding: 0}\n",
              ".list-inline>li {display: inline-block}\n",
              ".list-inline>li:not(:last-child)::after {content: \"\\00b7\"; padding: 0 .5ex}\n",
              "</style>\n",
              "<ol class=list-inline><li>'Yahia'</li><li>'Mahmoud'</li><li>'Ali'</li></ol>\n"
            ],
            "text/markdown": "1. 'Yahia'\n2. 'Mahmoud'\n3. 'Ali'\n\n\n",
            "text/latex": "\\begin{enumerate*}\n\\item 'Yahia'\n\\item 'Mahmoud'\n\\item 'Ali'\n\\end{enumerate*}\n",
            "text/plain": [
              "[1] \"Yahia\"   \"Mahmoud\" \"Ali\"    "
            ]
          },
          "metadata": {}
        },
        {
          "output_type": "display_data",
          "data": {
            "text/html": [
              "<style>\n",
              ".list-inline {list-style: none; margin:0; padding: 0}\n",
              ".list-inline>li {display: inline-block}\n",
              ".list-inline>li:not(:last-child)::after {content: \"\\00b7\"; padding: 0 .5ex}\n",
              "</style>\n",
              "<ol class=list-inline><li>'Yahia'</li><li>'Mahmoud'</li><li>'20'</li></ol>\n"
            ],
            "text/markdown": "1. 'Yahia'\n2. 'Mahmoud'\n3. '20'\n\n\n",
            "text/latex": "\\begin{enumerate*}\n\\item 'Yahia'\n\\item 'Mahmoud'\n\\item '20'\n\\end{enumerate*}\n",
            "text/plain": [
              "[1] \"Yahia\"   \"Mahmoud\" \"20\"     "
            ]
          },
          "metadata": {}
        },
        {
          "output_type": "display_data",
          "data": {
            "text/html": [
              "<style>\n",
              ".list-inline {list-style: none; margin:0; padding: 0}\n",
              ".list-inline>li {display: inline-block}\n",
              ".list-inline>li:not(:last-child)::after {content: \"\\00b7\"; padding: 0 .5ex}\n",
              "</style>\n",
              "<ol class=list-inline><li>20</li><li>30</li><li>40</li></ol>\n"
            ],
            "text/markdown": "1. 20\n2. 30\n3. 40\n\n\n",
            "text/latex": "\\begin{enumerate*}\n\\item 20\n\\item 30\n\\item 40\n\\end{enumerate*}\n",
            "text/plain": [
              "[1] 20 30 40"
            ]
          },
          "metadata": {}
        }
      ]
    },
    {
      "cell_type": "code",
      "source": [
        "v1 <- 1:10\n",
        "v1\n",
        "\n",
        "v2 <- 0.5:10.5\n",
        "v2"
      ],
      "metadata": {
        "colab": {
          "base_uri": "https://localhost:8080/",
          "height": 52
        },
        "id": "X71nCXnfFJqh",
        "outputId": "d519ea18-1105-4f94-8dc7-d0d728ca355d"
      },
      "execution_count": 10,
      "outputs": [
        {
          "output_type": "display_data",
          "data": {
            "text/html": [
              "<style>\n",
              ".list-inline {list-style: none; margin:0; padding: 0}\n",
              ".list-inline>li {display: inline-block}\n",
              ".list-inline>li:not(:last-child)::after {content: \"\\00b7\"; padding: 0 .5ex}\n",
              "</style>\n",
              "<ol class=list-inline><li>1</li><li>2</li><li>3</li><li>4</li><li>5</li><li>6</li><li>7</li><li>8</li><li>9</li><li>10</li></ol>\n"
            ],
            "text/markdown": "1. 1\n2. 2\n3. 3\n4. 4\n5. 5\n6. 6\n7. 7\n8. 8\n9. 9\n10. 10\n\n\n",
            "text/latex": "\\begin{enumerate*}\n\\item 1\n\\item 2\n\\item 3\n\\item 4\n\\item 5\n\\item 6\n\\item 7\n\\item 8\n\\item 9\n\\item 10\n\\end{enumerate*}\n",
            "text/plain": [
              " [1]  1  2  3  4  5  6  7  8  9 10"
            ]
          },
          "metadata": {}
        },
        {
          "output_type": "display_data",
          "data": {
            "text/html": [
              "<style>\n",
              ".list-inline {list-style: none; margin:0; padding: 0}\n",
              ".list-inline>li {display: inline-block}\n",
              ".list-inline>li:not(:last-child)::after {content: \"\\00b7\"; padding: 0 .5ex}\n",
              "</style>\n",
              "<ol class=list-inline><li>0.5</li><li>1.5</li><li>2.5</li><li>3.5</li><li>4.5</li><li>5.5</li><li>6.5</li><li>7.5</li><li>8.5</li><li>9.5</li><li>10.5</li></ol>\n"
            ],
            "text/markdown": "1. 0.5\n2. 1.5\n3. 2.5\n4. 3.5\n5. 4.5\n6. 5.5\n7. 6.5\n8. 7.5\n9. 8.5\n10. 9.5\n11. 10.5\n\n\n",
            "text/latex": "\\begin{enumerate*}\n\\item 0.5\n\\item 1.5\n\\item 2.5\n\\item 3.5\n\\item 4.5\n\\item 5.5\n\\item 6.5\n\\item 7.5\n\\item 8.5\n\\item 9.5\n\\item 10.5\n\\end{enumerate*}\n",
            "text/plain": [
              " [1]  0.5  1.5  2.5  3.5  4.5  5.5  6.5  7.5  8.5  9.5 10.5"
            ]
          },
          "metadata": {}
        }
      ]
    },
    {
      "cell_type": "code",
      "source": [
        "logic_V <- c(TRUE, FALSE, TRUE, FALSE)\n",
        "logic_V"
      ],
      "metadata": {
        "colab": {
          "base_uri": "https://localhost:8080/",
          "height": 34
        },
        "id": "n0dg-KloFya3",
        "outputId": "82d3767b-9952-4468-a1ba-a8390f51331a"
      },
      "execution_count": 11,
      "outputs": [
        {
          "output_type": "display_data",
          "data": {
            "text/html": [
              "<style>\n",
              ".list-inline {list-style: none; margin:0; padding: 0}\n",
              ".list-inline>li {display: inline-block}\n",
              ".list-inline>li:not(:last-child)::after {content: \"\\00b7\"; padding: 0 .5ex}\n",
              "</style>\n",
              "<ol class=list-inline><li>TRUE</li><li>FALSE</li><li>TRUE</li><li>FALSE</li></ol>\n"
            ],
            "text/markdown": "1. TRUE\n2. FALSE\n3. TRUE\n4. FALSE\n\n\n",
            "text/latex": "\\begin{enumerate*}\n\\item TRUE\n\\item FALSE\n\\item TRUE\n\\item FALSE\n\\end{enumerate*}\n",
            "text/plain": [
              "[1]  TRUE FALSE  TRUE FALSE"
            ]
          },
          "metadata": {}
        }
      ]
    },
    {
      "cell_type": "code",
      "source": [
        "length(logic_V)"
      ],
      "metadata": {
        "colab": {
          "base_uri": "https://localhost:8080/",
          "height": 34
        },
        "id": "c-CDeygsGNzi",
        "outputId": "18d870c1-f883-45b9-8471-5838b3c4321d"
      },
      "execution_count": 12,
      "outputs": [
        {
          "output_type": "display_data",
          "data": {
            "text/html": [
              "4"
            ],
            "text/markdown": "4",
            "text/latex": "4",
            "text/plain": [
              "[1] 4"
            ]
          },
          "metadata": {}
        }
      ]
    }
  ]
}