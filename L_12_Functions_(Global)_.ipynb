{
  "nbformat": 4,
  "nbformat_minor": 0,
  "metadata": {
    "colab": {
      "name": "L_12 Functions (Global) .ipynb",
      "provenance": [],
      "collapsed_sections": [],
      "authorship_tag": "ABX9TyMHdPhmVp8lh9VsNfPccGlP"
    },
    "kernelspec": {
      "name": "ir",
      "display_name": "R"
    },
    "language_info": {
      "name": "R"
    }
  },
  "cells": [
    {
      "cell_type": "code",
      "source": [
        "txt <- \"global variable\"\n",
        "my_function <- function() {\n",
        "  txt = \"fantastic\"\n",
        "  paste(\"R is\", txt)\n",
        "}\n",
        "\n",
        "my_function()\n",
        "\n",
        "txt # print txt"
      ],
      "metadata": {
        "colab": {
          "base_uri": "https://localhost:8080/",
          "height": 52
        },
        "id": "rsgc7U2RA5VU",
        "outputId": "89749c92-11d7-46b1-cb2d-5ad799ca73fe"
      },
      "execution_count": 121,
      "outputs": [
        {
          "output_type": "display_data",
          "data": {
            "text/html": [
              "'R is fantastic'"
            ],
            "text/markdown": "'R is fantastic'",
            "text/latex": "'R is fantastic'",
            "text/plain": [
              "[1] \"R is fantastic\""
            ]
          },
          "metadata": {}
        },
        {
          "output_type": "display_data",
          "data": {
            "text/html": [
              "'global variable'"
            ],
            "text/markdown": "'global variable'",
            "text/latex": "'global variable'",
            "text/plain": [
              "[1] \"global variable\""
            ]
          },
          "metadata": {}
        }
      ]
    },
    {
      "cell_type": "code",
      "source": [
        "txt <- \"global variable\"\n",
        "my_function <- function() {\n",
        "  txt <<- \"fantastic\"\n",
        "  paste(\"R is\", txt)\n",
        "}\n",
        "\n",
        "my_function()\n",
        "\n",
        "print(txt)"
      ],
      "metadata": {
        "colab": {
          "base_uri": "https://localhost:8080/",
          "height": 52
        },
        "id": "6ajDoj0N--pw",
        "outputId": "1c7effab-1a86-4dfc-fd0d-64ea47c611d0"
      },
      "execution_count": 122,
      "outputs": [
        {
          "output_type": "display_data",
          "data": {
            "text/html": [
              "'R is fantastic'"
            ],
            "text/markdown": "'R is fantastic'",
            "text/latex": "'R is fantastic'",
            "text/plain": [
              "[1] \"R is fantastic\""
            ]
          },
          "metadata": {}
        },
        {
          "output_type": "stream",
          "name": "stdout",
          "text": [
            "[1] \"fantastic\"\n"
          ]
        }
      ]
    }
  ]
}