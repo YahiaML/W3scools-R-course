{
  "nbformat": 4,
  "nbformat_minor": 0,
  "metadata": {
    "colab": {
      "name": "L_10 For loop .ipynb",
      "provenance": [],
      "collapsed_sections": [],
      "authorship_tag": "ABX9TyOYBUCMM6bauTgI4RCVCGaX"
    },
    "kernelspec": {
      "name": "ir",
      "display_name": "R"
    },
    "language_info": {
      "name": "R"
    }
  },
  "cells": [
    {
      "cell_type": "code",
      "source": [
        "for (i in 0:10) {\n",
        "  print(i)\n",
        "}\n",
        "\n",
        "#q <- 0:10\n",
        "#for (i in q) {\n",
        "#  print(i)\n",
        "#}"
      ],
      "metadata": {
        "colab": {
          "base_uri": "https://localhost:8080/"
        },
        "id": "lZbDAfc26ESR",
        "outputId": "7432fa3f-a749-4854-cccd-f4a46b035640"
      },
      "execution_count": 107,
      "outputs": [
        {
          "output_type": "stream",
          "name": "stdout",
          "text": [
            "[1] 0\n",
            "[1] 1\n",
            "[1] 2\n",
            "[1] 3\n",
            "[1] 4\n",
            "[1] 5\n",
            "[1] 6\n",
            "[1] 7\n",
            "[1] 8\n",
            "[1] 9\n",
            "[1] 10\n"
          ]
        }
      ]
    },
    {
      "cell_type": "code",
      "source": [
        "fruits <- list(\"apple\", \"banana\", \"cherry\")\n",
        "\n",
        "for (x in fruits) {\n",
        "  print(x)\n",
        "}"
      ],
      "metadata": {
        "colab": {
          "base_uri": "https://localhost:8080/"
        },
        "id": "n_ChemLf6Mvl",
        "outputId": "57ceadbc-f2b6-4123-9029-18b311ae340c"
      },
      "execution_count": 103,
      "outputs": [
        {
          "output_type": "stream",
          "name": "stdout",
          "text": [
            "[1] \"apple\"\n",
            "[1] \"banana\"\n",
            "[1] \"cherry\"\n"
          ]
        }
      ]
    },
    {
      "cell_type": "code",
      "source": [
        "adj <- list(\"red\", \"big\", \"tasty\")\n",
        "\n",
        "fruits <- list(\"apple\", \"banana\", \"cherry\")\n",
        "  for (x in adj) {\n",
        "    for (y in fruits) {\n",
        "      print(paste(x, y))\n",
        "  }\n",
        "}"
      ],
      "metadata": {
        "colab": {
          "base_uri": "https://localhost:8080/"
        },
        "id": "-cy6f57F7VGG",
        "outputId": "5a5e366e-72f2-4f12-c71a-b953180cd9b7"
      },
      "execution_count": 108,
      "outputs": [
        {
          "output_type": "stream",
          "name": "stdout",
          "text": [
            "[1] \"red apple\"\n",
            "[1] \"red banana\"\n",
            "[1] \"red cherry\"\n",
            "[1] \"big apple\"\n",
            "[1] \"big banana\"\n",
            "[1] \"big cherry\"\n",
            "[1] \"tasty apple\"\n",
            "[1] \"tasty banana\"\n",
            "[1] \"tasty cherry\"\n"
          ]
        }
      ]
    }
  ]
}