{
  "nbformat": 4,
  "nbformat_minor": 0,
  "metadata": {
    "colab": {
      "name": "L_14 lists .ipynb",
      "provenance": [],
      "collapsed_sections": [],
      "authorship_tag": "ABX9TyPLBZ0X4TKk1fjMOz3/Xdgn",
      "include_colab_link": true
    },
    "kernelspec": {
      "name": "ir",
      "display_name": "R"
    },
    "language_info": {
      "name": "R"
    }
  },
  "cells": [
    {
      "cell_type": "markdown",
      "metadata": {
        "id": "view-in-github",
        "colab_type": "text"
      },
      "source": [
        "<a href=\"https://colab.research.google.com/github/YahiaML/W3scools-R-course/blob/main/L_14_lists_.ipynb\" target=\"_parent\"><img src=\"https://colab.research.google.com/assets/colab-badge.svg\" alt=\"Open In Colab\"/></a>"
      ]
    },
    {
      "cell_type": "markdown",
      "source": [
        "# Vectors (= same type lists)\n",
        "A vector is simply a list of items that are of the same type.\n",
        "\n",
        "To combine the list of items to a vector, use the c() function and separate the items by a comma."
      ],
      "metadata": {
        "id": "ZDoEx1NvE5f8"
      }
    },
    {
      "cell_type": "code",
      "source": [
        "names_and_ages <- list(\"Yahia\", 21, \"Abdo\", 20, \"Ammar\", 19, \"Saeed\", 20, \"Waeel\", 20)\n",
        "names_and_ages"
      ],
      "metadata": {
        "colab": {
          "base_uri": "https://localhost:8080/",
          "height": 219
        },
        "id": "PSNFBT5kNyPD",
        "outputId": "dcd77ed2-ae65-415d-c084-d6778dfc767a"
      },
      "execution_count": 50,
      "outputs": [
        {
          "output_type": "display_data",
          "data": {
            "text/html": [
              "<ol>\n",
              "\t<li>'Yahia'</li>\n",
              "\t<li>21</li>\n",
              "\t<li>'Abdo'</li>\n",
              "\t<li>20</li>\n",
              "\t<li>'Ammar'</li>\n",
              "\t<li>19</li>\n",
              "\t<li>'Saeed'</li>\n",
              "\t<li>20</li>\n",
              "\t<li>'Waeel'</li>\n",
              "\t<li>20</li>\n",
              "</ol>\n"
            ],
            "text/markdown": "1. 'Yahia'\n2. 21\n3. 'Abdo'\n4. 20\n5. 'Ammar'\n6. 19\n7. 'Saeed'\n8. 20\n9. 'Waeel'\n10. 20\n\n\n",
            "text/latex": "\\begin{enumerate}\n\\item 'Yahia'\n\\item 21\n\\item 'Abdo'\n\\item 20\n\\item 'Ammar'\n\\item 19\n\\item 'Saeed'\n\\item 20\n\\item 'Waeel'\n\\item 20\n\\end{enumerate}\n",
            "text/plain": [
              "[[1]]\n",
              "[1] \"Yahia\"\n",
              "\n",
              "[[2]]\n",
              "[1] 21\n",
              "\n",
              "[[3]]\n",
              "[1] \"Abdo\"\n",
              "\n",
              "[[4]]\n",
              "[1] 20\n",
              "\n",
              "[[5]]\n",
              "[1] \"Ammar\"\n",
              "\n",
              "[[6]]\n",
              "[1] 19\n",
              "\n",
              "[[7]]\n",
              "[1] \"Saeed\"\n",
              "\n",
              "[[8]]\n",
              "[1] 20\n",
              "\n",
              "[[9]]\n",
              "[1] \"Waeel\"\n",
              "\n",
              "[[10]]\n",
              "[1] 20\n"
            ]
          },
          "metadata": {}
        }
      ]
    },
    {
      "cell_type": "markdown",
      "source": [
        "#Find the length"
      ],
      "metadata": {
        "id": "9YR1Xj-lOMA5"
      }
    },
    {
      "cell_type": "code",
      "source": [
        "names_and_ages <- list(\"Yahia\", 21, \"Abdo\", 20, \"Ammar\", 19, \"Saeed\", 20, \"Waeel\", 20)\n",
        "length(names_and_ages)"
      ],
      "metadata": {
        "colab": {
          "base_uri": "https://localhost:8080/",
          "height": 34
        },
        "id": "poA4swcLONGC",
        "outputId": "0303a43c-2e5e-4127-9d6d-f99266fc842c"
      },
      "execution_count": 51,
      "outputs": [
        {
          "output_type": "display_data",
          "data": {
            "text/html": [
              "10"
            ],
            "text/markdown": "10",
            "text/latex": "10",
            "text/plain": [
              "[1] 10"
            ]
          },
          "metadata": {}
        }
      ]
    },
    {
      "cell_type": "markdown",
      "source": [
        "# There is no SORT for lists"
      ],
      "metadata": {
        "id": "ceurWxjiOtHg"
      }
    },
    {
      "cell_type": "markdown",
      "source": [
        "#Access Lists\n"
      ],
      "metadata": {
        "id": "LzzijCWhO3bZ"
      }
    },
    {
      "cell_type": "code",
      "source": [
        "names_and_ages <- list(\"Yahia\", 21, \"Abdo\", 20, \"Ammar\", 19, \"Saeed\", 20, \"Waeel\", 20)\n",
        "\n",
        "names_and_ages[1]   \n",
        "names_and_ages[c(1,3)]    # names_and_ages[1,3] is not going to work\n",
        "names_and_ages[c(1:3)]\n",
        "(names_and_ages)[1:3]"
      ],
      "metadata": {
        "colab": {
          "base_uri": "https://localhost:8080/",
          "height": 243
        },
        "id": "EVpbo_EAO4Hq",
        "outputId": "f9b4d4ee-0706-4fa2-d6d1-e67e41e090fa"
      },
      "execution_count": 76,
      "outputs": [
        {
          "output_type": "display_data",
          "data": {
            "text/html": [
              "<ol>\n",
              "\t<li>'Yahia'</li>\n",
              "</ol>\n"
            ],
            "text/markdown": "1. 'Yahia'\n\n\n",
            "text/latex": "\\begin{enumerate}\n\\item 'Yahia'\n\\end{enumerate}\n",
            "text/plain": [
              "[[1]]\n",
              "[1] \"Yahia\"\n"
            ]
          },
          "metadata": {}
        },
        {
          "output_type": "display_data",
          "data": {
            "text/html": [
              "<ol>\n",
              "\t<li>'Yahia'</li>\n",
              "\t<li>'Abdo'</li>\n",
              "</ol>\n"
            ],
            "text/markdown": "1. 'Yahia'\n2. 'Abdo'\n\n\n",
            "text/latex": "\\begin{enumerate}\n\\item 'Yahia'\n\\item 'Abdo'\n\\end{enumerate}\n",
            "text/plain": [
              "[[1]]\n",
              "[1] \"Yahia\"\n",
              "\n",
              "[[2]]\n",
              "[1] \"Abdo\"\n"
            ]
          },
          "metadata": {}
        },
        {
          "output_type": "display_data",
          "data": {
            "text/html": [
              "<ol>\n",
              "\t<li>'Yahia'</li>\n",
              "\t<li>21</li>\n",
              "\t<li>'Abdo'</li>\n",
              "</ol>\n"
            ],
            "text/markdown": "1. 'Yahia'\n2. 21\n3. 'Abdo'\n\n\n",
            "text/latex": "\\begin{enumerate}\n\\item 'Yahia'\n\\item 21\n\\item 'Abdo'\n\\end{enumerate}\n",
            "text/plain": [
              "[[1]]\n",
              "[1] \"Yahia\"\n",
              "\n",
              "[[2]]\n",
              "[1] 21\n",
              "\n",
              "[[3]]\n",
              "[1] \"Abdo\"\n"
            ]
          },
          "metadata": {}
        },
        {
          "output_type": "display_data",
          "data": {
            "text/html": [
              "<ol>\n",
              "\t<li>'Yahia'</li>\n",
              "\t<li>21</li>\n",
              "\t<li>'Abdo'</li>\n",
              "</ol>\n"
            ],
            "text/markdown": "1. 'Yahia'\n2. 21\n3. 'Abdo'\n\n\n",
            "text/latex": "\\begin{enumerate}\n\\item 'Yahia'\n\\item 21\n\\item 'Abdo'\n\\end{enumerate}\n",
            "text/plain": [
              "[[1]]\n",
              "[1] \"Yahia\"\n",
              "\n",
              "[[2]]\n",
              "[1] 21\n",
              "\n",
              "[[3]]\n",
              "[1] \"Abdo\"\n"
            ]
          },
          "metadata": {}
        }
      ]
    },
    {
      "cell_type": "markdown",
      "source": [
        "#Change Item Value"
      ],
      "metadata": {
        "id": "Kh9zSSWlPh3x"
      }
    },
    {
      "cell_type": "code",
      "source": [
        "names_and_ages <- list(\"Yahia\", 21, \"Abdo\", 20, \"Ammar\", 19, \"Saeed\", 20, \"Waeel\", 20)\n",
        "\n",
        "names_and_ages[1] <- \"Yahia_ML\"\n",
        "names_and_ages"
      ],
      "metadata": {
        "colab": {
          "base_uri": "https://localhost:8080/",
          "height": 219
        },
        "id": "EaUGGHjmPjKn",
        "outputId": "98452bc0-d515-4cb0-eaf6-e207bdac1cc1"
      },
      "execution_count": 62,
      "outputs": [
        {
          "output_type": "display_data",
          "data": {
            "text/html": [
              "<ol>\n",
              "\t<li>'Yahia_ML'</li>\n",
              "\t<li>21</li>\n",
              "\t<li>'Abdo'</li>\n",
              "\t<li>20</li>\n",
              "\t<li>'Ammar'</li>\n",
              "\t<li>19</li>\n",
              "\t<li>'Saeed'</li>\n",
              "\t<li>20</li>\n",
              "\t<li>'Waeel'</li>\n",
              "\t<li>20</li>\n",
              "</ol>\n"
            ],
            "text/markdown": "1. 'Yahia_ML'\n2. 21\n3. 'Abdo'\n4. 20\n5. 'Ammar'\n6. 19\n7. 'Saeed'\n8. 20\n9. 'Waeel'\n10. 20\n\n\n",
            "text/latex": "\\begin{enumerate}\n\\item 'Yahia\\_ML'\n\\item 21\n\\item 'Abdo'\n\\item 20\n\\item 'Ammar'\n\\item 19\n\\item 'Saeed'\n\\item 20\n\\item 'Waeel'\n\\item 20\n\\end{enumerate}\n",
            "text/plain": [
              "[[1]]\n",
              "[1] \"Yahia_ML\"\n",
              "\n",
              "[[2]]\n",
              "[1] 21\n",
              "\n",
              "[[3]]\n",
              "[1] \"Abdo\"\n",
              "\n",
              "[[4]]\n",
              "[1] 20\n",
              "\n",
              "[[5]]\n",
              "[1] \"Ammar\"\n",
              "\n",
              "[[6]]\n",
              "[1] 19\n",
              "\n",
              "[[7]]\n",
              "[1] \"Saeed\"\n",
              "\n",
              "[[8]]\n",
              "[1] 20\n",
              "\n",
              "[[9]]\n",
              "[1] \"Waeel\"\n",
              "\n",
              "[[10]]\n",
              "[1] 20\n"
            ]
          },
          "metadata": {}
        }
      ]
    },
    {
      "cell_type": "markdown",
      "source": [
        "#Add List Items"
      ],
      "metadata": {
        "id": "WIu8XBJdQBXH"
      }
    },
    {
      "cell_type": "code",
      "source": [
        "names_and_ages <- list(\"Yahia\", 21, \"Abdo\", 20, \"Ammar\", 19, \"Saeed\", 20, \"Waeel\", 20)\n",
        "\n",
        "names_and_ages <- append(names_and_ages, c(\"Mohannad\", 20))    # we must use vector if we want to append more than 1 value\n",
        "names_and_ages"
      ],
      "metadata": {
        "colab": {
          "base_uri": "https://localhost:8080/",
          "height": 253
        },
        "id": "hxV4fji5QnvX",
        "outputId": "158f1eb4-0ccd-43e4-a55f-ba785e6a72ba"
      },
      "execution_count": 68,
      "outputs": [
        {
          "output_type": "display_data",
          "data": {
            "text/html": [
              "<ol>\n",
              "\t<li>'Yahia'</li>\n",
              "\t<li>21</li>\n",
              "\t<li>'Abdo'</li>\n",
              "\t<li>20</li>\n",
              "\t<li>'Ammar'</li>\n",
              "\t<li>19</li>\n",
              "\t<li>'Saeed'</li>\n",
              "\t<li>20</li>\n",
              "\t<li>'Waeel'</li>\n",
              "\t<li>20</li>\n",
              "\t<li>'Mohannad'</li>\n",
              "\t<li>'20'</li>\n",
              "</ol>\n"
            ],
            "text/markdown": "1. 'Yahia'\n2. 21\n3. 'Abdo'\n4. 20\n5. 'Ammar'\n6. 19\n7. 'Saeed'\n8. 20\n9. 'Waeel'\n10. 20\n11. 'Mohannad'\n12. '20'\n\n\n",
            "text/latex": "\\begin{enumerate}\n\\item 'Yahia'\n\\item 21\n\\item 'Abdo'\n\\item 20\n\\item 'Ammar'\n\\item 19\n\\item 'Saeed'\n\\item 20\n\\item 'Waeel'\n\\item 20\n\\item 'Mohannad'\n\\item '20'\n\\end{enumerate}\n",
            "text/plain": [
              "[[1]]\n",
              "[1] \"Yahia\"\n",
              "\n",
              "[[2]]\n",
              "[1] 21\n",
              "\n",
              "[[3]]\n",
              "[1] \"Abdo\"\n",
              "\n",
              "[[4]]\n",
              "[1] 20\n",
              "\n",
              "[[5]]\n",
              "[1] \"Ammar\"\n",
              "\n",
              "[[6]]\n",
              "[1] 19\n",
              "\n",
              "[[7]]\n",
              "[1] \"Saeed\"\n",
              "\n",
              "[[8]]\n",
              "[1] 20\n",
              "\n",
              "[[9]]\n",
              "[1] \"Waeel\"\n",
              "\n",
              "[[10]]\n",
              "[1] 20\n",
              "\n",
              "[[11]]\n",
              "[1] \"Mohannad\"\n",
              "\n",
              "[[12]]\n",
              "[1] \"20\"\n"
            ]
          },
          "metadata": {}
        }
      ]
    },
    {
      "cell_type": "markdown",
      "source": [
        "#Deleting items"
      ],
      "metadata": {
        "id": "0lOPbJemSHtt"
      }
    },
    {
      "cell_type": "code",
      "source": [
        "names_and_ages <- list(\"Yahia\", 21, \"Abdo\", 20, \"Ammar\", 19, \"Saeed\", 20, \"Waeel\", 20)\n",
        "names_and_ages <- names_and_ages[-c(1, 2)]\n",
        "names_and_ages"
      ],
      "metadata": {
        "colab": {
          "base_uri": "https://localhost:8080/",
          "height": 184
        },
        "id": "jvA4F4yfSJnT",
        "outputId": "99450dc0-cd00-492a-ea78-2f1d62713e7a"
      },
      "execution_count": 72,
      "outputs": [
        {
          "output_type": "display_data",
          "data": {
            "text/html": [
              "<ol>\n",
              "\t<li>'Abdo'</li>\n",
              "\t<li>20</li>\n",
              "\t<li>'Ammar'</li>\n",
              "\t<li>19</li>\n",
              "\t<li>'Saeed'</li>\n",
              "\t<li>20</li>\n",
              "\t<li>'Waeel'</li>\n",
              "\t<li>20</li>\n",
              "</ol>\n"
            ],
            "text/markdown": "1. 'Abdo'\n2. 20\n3. 'Ammar'\n4. 19\n5. 'Saeed'\n6. 20\n7. 'Waeel'\n8. 20\n\n\n",
            "text/latex": "\\begin{enumerate}\n\\item 'Abdo'\n\\item 20\n\\item 'Ammar'\n\\item 19\n\\item 'Saeed'\n\\item 20\n\\item 'Waeel'\n\\item 20\n\\end{enumerate}\n",
            "text/plain": [
              "[[1]]\n",
              "[1] \"Abdo\"\n",
              "\n",
              "[[2]]\n",
              "[1] 20\n",
              "\n",
              "[[3]]\n",
              "[1] \"Ammar\"\n",
              "\n",
              "[[4]]\n",
              "[1] 19\n",
              "\n",
              "[[5]]\n",
              "[1] \"Saeed\"\n",
              "\n",
              "[[6]]\n",
              "[1] 20\n",
              "\n",
              "[[7]]\n",
              "[1] \"Waeel\"\n",
              "\n",
              "[[8]]\n",
              "[1] 20\n"
            ]
          },
          "metadata": {}
        }
      ]
    },
    {
      "cell_type": "markdown",
      "source": [
        "#Check if Item Exists"
      ],
      "metadata": {
        "id": "4TZ_yeAKP09H"
      }
    },
    {
      "cell_type": "code",
      "source": [
        "names_and_ages <- list(\"Yahia\", 21, \"Abdo\", 20, \"Ammar\", 19, \"Saeed\", 20, \"Waeel\", 20)\n",
        "\n",
        "\"Yahia\" %in% names_and_ages\n",
        "\"Yahia_ML\" %in% names_and_ages"
      ],
      "metadata": {
        "colab": {
          "base_uri": "https://localhost:8080/",
          "height": 52
        },
        "id": "a1yCBq8mPvyI",
        "outputId": "992103bc-38cc-4271-e43a-cc72e955d0e0"
      },
      "execution_count": 63,
      "outputs": [
        {
          "output_type": "display_data",
          "data": {
            "text/html": [
              "TRUE"
            ],
            "text/markdown": "TRUE",
            "text/latex": "TRUE",
            "text/plain": [
              "[1] TRUE"
            ]
          },
          "metadata": {}
        },
        {
          "output_type": "display_data",
          "data": {
            "text/html": [
              "FALSE"
            ],
            "text/markdown": "FALSE",
            "text/latex": "FALSE",
            "text/plain": [
              "[1] FALSE"
            ]
          },
          "metadata": {}
        }
      ]
    },
    {
      "cell_type": "markdown",
      "source": [
        "# Loop Through List"
      ],
      "metadata": {
        "id": "fKVz3pLVSwlj"
      }
    },
    {
      "cell_type": "code",
      "source": [
        "names_and_ages <- list(\"Yahia\", 21, \"Abdo\", 20, \"Ammar\", 19, \"Saeed\", 20, \"Waeel\", 20)\n",
        "\n",
        "for (item in names_and_ages) {\n",
        "  print(item)\n",
        "}"
      ],
      "metadata": {
        "id": "zF6TtAGESwyC",
        "outputId": "47ba1f3d-a161-467f-c9fa-444606b43838",
        "colab": {
          "base_uri": "https://localhost:8080/"
        }
      },
      "execution_count": 77,
      "outputs": [
        {
          "output_type": "stream",
          "name": "stdout",
          "text": [
            "[1] \"Yahia\"\n",
            "[1] 21\n",
            "[1] \"Abdo\"\n",
            "[1] 20\n",
            "[1] \"Ammar\"\n",
            "[1] 19\n",
            "[1] \"Saeed\"\n",
            "[1] 20\n",
            "[1] \"Waeel\"\n",
            "[1] 20\n"
          ]
        }
      ]
    },
    {
      "cell_type": "markdown",
      "source": [
        "# Join lists"
      ],
      "metadata": {
        "id": "aK-S9ZK5TQsS"
      }
    },
    {
      "cell_type": "code",
      "source": [
        "names <- list(\"Yahia\", \"Abdo\", \"Ammar\", \"Saeed\", \"Waeel\")\n",
        "ages <- list(21, 20, 19, 20, 20)\n",
        "\n",
        "names_and_ages <- c(names,ages)\n",
        "names_and_ages\n"
      ],
      "metadata": {
        "colab": {
          "base_uri": "https://localhost:8080/",
          "height": 219
        },
        "id": "-8c66M-BTRFA",
        "outputId": "92bd6525-f81c-4aef-b7ee-f0486c423bed"
      },
      "execution_count": 79,
      "outputs": [
        {
          "output_type": "display_data",
          "data": {
            "text/html": [
              "<ol>\n",
              "\t<li>'Yahia'</li>\n",
              "\t<li>'Abdo'</li>\n",
              "\t<li>'Ammar'</li>\n",
              "\t<li>'Saeed'</li>\n",
              "\t<li>'Waeel'</li>\n",
              "\t<li>21</li>\n",
              "\t<li>20</li>\n",
              "\t<li>19</li>\n",
              "\t<li>20</li>\n",
              "\t<li>20</li>\n",
              "</ol>\n"
            ],
            "text/markdown": "1. 'Yahia'\n2. 'Abdo'\n3. 'Ammar'\n4. 'Saeed'\n5. 'Waeel'\n6. 21\n7. 20\n8. 19\n9. 20\n10. 20\n\n\n",
            "text/latex": "\\begin{enumerate}\n\\item 'Yahia'\n\\item 'Abdo'\n\\item 'Ammar'\n\\item 'Saeed'\n\\item 'Waeel'\n\\item 21\n\\item 20\n\\item 19\n\\item 20\n\\item 20\n\\end{enumerate}\n",
            "text/plain": [
              "[[1]]\n",
              "[1] \"Yahia\"\n",
              "\n",
              "[[2]]\n",
              "[1] \"Abdo\"\n",
              "\n",
              "[[3]]\n",
              "[1] \"Ammar\"\n",
              "\n",
              "[[4]]\n",
              "[1] \"Saeed\"\n",
              "\n",
              "[[5]]\n",
              "[1] \"Waeel\"\n",
              "\n",
              "[[6]]\n",
              "[1] 21\n",
              "\n",
              "[[7]]\n",
              "[1] 20\n",
              "\n",
              "[[8]]\n",
              "[1] 19\n",
              "\n",
              "[[9]]\n",
              "[1] 20\n",
              "\n",
              "[[10]]\n",
              "[1] 20\n"
            ]
          },
          "metadata": {}
        }
      ]
    }
  ]
}