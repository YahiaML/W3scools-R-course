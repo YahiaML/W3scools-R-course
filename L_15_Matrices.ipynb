{
  "nbformat": 4,
  "nbformat_minor": 0,
  "metadata": {
    "colab": {
      "name": "L_15 Matrices.ipynb",
      "provenance": [],
      "collapsed_sections": [],
      "authorship_tag": "ABX9TyPcfWDA7wCRfwJpB5mGrboZ",
      "include_colab_link": true
    },
    "kernelspec": {
      "name": "ir",
      "display_name": "R"
    },
    "language_info": {
      "name": "R"
    }
  },
  "cells": [
    {
      "cell_type": "markdown",
      "metadata": {
        "id": "view-in-github",
        "colab_type": "text"
      },
      "source": [
        "<a href=\"https://colab.research.google.com/github/YahiaML/W3scools-R-course/blob/main/L_15_Matrices.ipynb\" target=\"_parent\"><img src=\"https://colab.research.google.com/assets/colab-badge.svg\" alt=\"Open In Colab\"/></a>"
      ]
    },
    {
      "cell_type": "markdown",
      "source": [
        "# Forming a Matrix"
      ],
      "metadata": {
        "id": "OZvG-L9iW6Xb"
      }
    },
    {
      "cell_type": "code",
      "source": [
        "My_matrix <- matrix(c(1,2,3,4,5,6), nrow = 3, ncol = 2)\n",
        "\n",
        "My_matrix"
      ],
      "metadata": {
        "colab": {
          "base_uri": "https://localhost:8080/",
          "height": 198
        },
        "id": "LUPRWIjWVzes",
        "outputId": "213a3537-f556-4c88-e1b5-fff7d4c8536f"
      },
      "execution_count": 80,
      "outputs": [
        {
          "output_type": "display_data",
          "data": {
            "text/html": [
              "<table class=\"dataframe\">\n",
              "<caption>A matrix: 3 × 2 of type dbl</caption>\n",
              "<tbody>\n",
              "\t<tr><td>1</td><td>4</td></tr>\n",
              "\t<tr><td>2</td><td>5</td></tr>\n",
              "\t<tr><td>3</td><td>6</td></tr>\n",
              "</tbody>\n",
              "</table>\n"
            ],
            "text/markdown": "\nA matrix: 3 × 2 of type dbl\n\n| 1 | 4 |\n| 2 | 5 |\n| 3 | 6 |\n\n",
            "text/latex": "A matrix: 3 × 2 of type dbl\n\\begin{tabular}{ll}\n\t 1 & 4\\\\\n\t 2 & 5\\\\\n\t 3 & 6\\\\\n\\end{tabular}\n",
            "text/plain": [
              "     [,1] [,2]\n",
              "[1,] 1    4   \n",
              "[2,] 2    5   \n",
              "[3,] 3    6   "
            ]
          },
          "metadata": {}
        }
      ]
    },
    {
      "cell_type": "markdown",
      "source": [
        "**Note:**\n",
        "\n",
        "You can also create a matrix with strings:"
      ],
      "metadata": {
        "id": "xsWs4Da6WLgj"
      }
    },
    {
      "cell_type": "code",
      "source": [
        "names <- matrix(c(\"Yahia\", \"Abdo\", \"Ammar\", \"Saeed\", \"Waeel\", \"Mohannad\"), nrow = 3, ncol = 2)\n",
        "names"
      ],
      "metadata": {
        "colab": {
          "base_uri": "https://localhost:8080/",
          "height": 146
        },
        "id": "RpFADZsZWISz",
        "outputId": "6a445158-5260-44c8-988a-d57a0df407f1"
      },
      "execution_count": 82,
      "outputs": [
        {
          "output_type": "display_data",
          "data": {
            "text/html": [
              "<table class=\"dataframe\">\n",
              "<caption>A matrix: 3 × 2 of type chr</caption>\n",
              "<tbody>\n",
              "\t<tr><td>Yahia</td><td>Saeed   </td></tr>\n",
              "\t<tr><td>Abdo </td><td>Waeel   </td></tr>\n",
              "\t<tr><td>Ammar</td><td>Mohannad</td></tr>\n",
              "</tbody>\n",
              "</table>\n"
            ],
            "text/markdown": "\nA matrix: 3 × 2 of type chr\n\n| Yahia | Saeed    |\n| Abdo  | Waeel    |\n| Ammar | Mohannad |\n\n",
            "text/latex": "A matrix: 3 × 2 of type chr\n\\begin{tabular}{ll}\n\t Yahia & Saeed   \\\\\n\t Abdo  & Waeel   \\\\\n\t Ammar & Mohannad\\\\\n\\end{tabular}\n",
            "text/plain": [
              "     [,1]  [,2]    \n",
              "[1,] Yahia Saeed   \n",
              "[2,] Abdo  Waeel   \n",
              "[3,] Ammar Mohannad"
            ]
          },
          "metadata": {}
        }
      ]
    },
    {
      "cell_type": "markdown",
      "source": [
        "#Access Matrix Items"
      ],
      "metadata": {
        "id": "f8vYCt0pXIWi"
      }
    },
    {
      "cell_type": "code",
      "source": [
        "names <- matrix(c(\"Yahia\", \"Abdo\", \"Ammar\", \"Saeed\", \"Waeel\", \"Mohannad\"), nrow = 3, ncol = 2)\n",
        "names[,2]            #Access the second colomn\n",
        "names[2,]            #Access the second row\n",
        "names[2,2]           #Access the second item in the second colomn\n"
      ],
      "metadata": {
        "colab": {
          "base_uri": "https://localhost:8080/",
          "height": 69
        },
        "id": "HNYYfxTbXCA7",
        "outputId": "1b747f89-9536-47e2-c8a2-394d8b6ed64e"
      },
      "execution_count": 99,
      "outputs": [
        {
          "output_type": "display_data",
          "data": {
            "text/html": [
              "<style>\n",
              ".list-inline {list-style: none; margin:0; padding: 0}\n",
              ".list-inline>li {display: inline-block}\n",
              ".list-inline>li:not(:last-child)::after {content: \"\\00b7\"; padding: 0 .5ex}\n",
              "</style>\n",
              "<ol class=list-inline><li>'Saeed'</li><li>'Waeel'</li><li>'Mohannad'</li></ol>\n"
            ],
            "text/markdown": "1. 'Saeed'\n2. 'Waeel'\n3. 'Mohannad'\n\n\n",
            "text/latex": "\\begin{enumerate*}\n\\item 'Saeed'\n\\item 'Waeel'\n\\item 'Mohannad'\n\\end{enumerate*}\n",
            "text/plain": [
              "[1] \"Saeed\"    \"Waeel\"    \"Mohannad\""
            ]
          },
          "metadata": {}
        },
        {
          "output_type": "display_data",
          "data": {
            "text/html": [
              "<style>\n",
              ".list-inline {list-style: none; margin:0; padding: 0}\n",
              ".list-inline>li {display: inline-block}\n",
              ".list-inline>li:not(:last-child)::after {content: \"\\00b7\"; padding: 0 .5ex}\n",
              "</style>\n",
              "<ol class=list-inline><li>'Abdo'</li><li>'Waeel'</li></ol>\n"
            ],
            "text/markdown": "1. 'Abdo'\n2. 'Waeel'\n\n\n",
            "text/latex": "\\begin{enumerate*}\n\\item 'Abdo'\n\\item 'Waeel'\n\\end{enumerate*}\n",
            "text/plain": [
              "[1] \"Abdo\"  \"Waeel\""
            ]
          },
          "metadata": {}
        },
        {
          "output_type": "display_data",
          "data": {
            "text/html": [
              "'Waeel'"
            ],
            "text/markdown": "'Waeel'",
            "text/latex": "'Waeel'",
            "text/plain": [
              "[1] \"Waeel\""
            ]
          },
          "metadata": {}
        }
      ]
    },
    {
      "cell_type": "code",
      "source": [
        "thismatrix <- matrix(c(\"apple\", \"banana\", \"cherry\", \"orange\",\"grape\", \"pineapple\", \"pear\", \"melon\", \"fig\"), nrow = 3, ncol = 3)\n",
        "\n",
        "thismatrix\n",
        "thismatrix[c(1,2),]"
      ],
      "metadata": {
        "colab": {
          "base_uri": "https://localhost:8080/",
          "height": 209
        },
        "id": "NtrI0v5ZYJxB",
        "outputId": "380061de-bfaf-49cb-eb13-ffbdafd24704"
      },
      "execution_count": 92,
      "outputs": [
        {
          "output_type": "display_data",
          "data": {
            "text/html": [
              "<table class=\"dataframe\">\n",
              "<caption>A matrix: 3 × 3 of type chr</caption>\n",
              "<tbody>\n",
              "\t<tr><td>apple </td><td>orange   </td><td>pear </td></tr>\n",
              "\t<tr><td>banana</td><td>grape    </td><td>melon</td></tr>\n",
              "\t<tr><td>cherry</td><td>pineapple</td><td>fig  </td></tr>\n",
              "</tbody>\n",
              "</table>\n"
            ],
            "text/markdown": "\nA matrix: 3 × 3 of type chr\n\n| apple  | orange    | pear  |\n| banana | grape     | melon |\n| cherry | pineapple | fig   |\n\n",
            "text/latex": "A matrix: 3 × 3 of type chr\n\\begin{tabular}{lll}\n\t apple  & orange    & pear \\\\\n\t banana & grape     & melon\\\\\n\t cherry & pineapple & fig  \\\\\n\\end{tabular}\n",
            "text/plain": [
              "     [,1]   [,2]      [,3] \n",
              "[1,] apple  orange    pear \n",
              "[2,] banana grape     melon\n",
              "[3,] cherry pineapple fig  "
            ]
          },
          "metadata": {}
        },
        {
          "output_type": "display_data",
          "data": {
            "text/html": [
              "<table class=\"dataframe\">\n",
              "<caption>A matrix: 2 × 3 of type chr</caption>\n",
              "<tbody>\n",
              "\t<tr><td>apple </td><td>orange</td><td>pear </td></tr>\n",
              "\t<tr><td>banana</td><td>grape </td><td>melon</td></tr>\n",
              "</tbody>\n",
              "</table>\n"
            ],
            "text/markdown": "\nA matrix: 2 × 3 of type chr\n\n| apple  | orange | pear  |\n| banana | grape  | melon |\n\n",
            "text/latex": "A matrix: 2 × 3 of type chr\n\\begin{tabular}{lll}\n\t apple  & orange & pear \\\\\n\t banana & grape  & melon\\\\\n\\end{tabular}\n",
            "text/plain": [
              "     [,1]   [,2]   [,3] \n",
              "[1,] apple  orange pear \n",
              "[2,] banana grape  melon"
            ]
          },
          "metadata": {}
        }
      ]
    },
    {
      "cell_type": "code",
      "source": [
        "thismatrix <- matrix(c(\"apple\", \"banana\", \"cherry\", \"orange\",\"grape\", \"pineapple\", \"pear\", \"melon\", \"fig\"), nrow = 3, ncol = 3)\n",
        "\n",
        "thismatrix[, c(1,2)]"
      ],
      "metadata": {
        "colab": {
          "base_uri": "https://localhost:8080/",
          "height": 146
        },
        "id": "yCAx0CxqYke3",
        "outputId": "ec3f2439-b00a-48fc-c5dd-21378cab3d91"
      },
      "execution_count": 98,
      "outputs": [
        {
          "output_type": "display_data",
          "data": {
            "text/html": [
              "<table class=\"dataframe\">\n",
              "<caption>A matrix: 3 × 2 of type chr</caption>\n",
              "<tbody>\n",
              "\t<tr><td>apple </td><td>orange   </td></tr>\n",
              "\t<tr><td>banana</td><td>grape    </td></tr>\n",
              "\t<tr><td>cherry</td><td>pineapple</td></tr>\n",
              "</tbody>\n",
              "</table>\n"
            ],
            "text/markdown": "\nA matrix: 3 × 2 of type chr\n\n| apple  | orange    |\n| banana | grape     |\n| cherry | pineapple |\n\n",
            "text/latex": "A matrix: 3 × 2 of type chr\n\\begin{tabular}{ll}\n\t apple  & orange   \\\\\n\t banana & grape    \\\\\n\t cherry & pineapple\\\\\n\\end{tabular}\n",
            "text/plain": [
              "     [,1]   [,2]     \n",
              "[1,] apple  orange   \n",
              "[2,] banana grape    \n",
              "[3,] cherry pineapple"
            ]
          },
          "metadata": {}
        }
      ]
    },
    {
      "cell_type": "markdown",
      "source": [
        "#Add Rows"
      ],
      "metadata": {
        "id": "ELERc50_YsDn"
      }
    },
    {
      "cell_type": "code",
      "source": [
        "names <- matrix(c(\"Yahia\", \"Abdo\", \"Ammar\", \"Saeed\", \"Waeel\", \"Mohannad\"), nrow = 3, ncol = 2)\n",
        "\n",
        "names1 <- rbind(names, c(\"Yahia\", \"Abdo\", \"Ammar\", \"Saeed\", \"Waeel\", \"Mohannad\"))   #rbind == add rows with same number of columns\n",
        "\n",
        "print(\"Matr 1\")\n",
        "\n",
        "names1   # The extra values were ignored\n",
        "\n",
        "names2 <- rbind(names, c(\"Yahia\", \"Abdo\"))\n",
        "print(\"Matr 2\")\n",
        "names2  # The same as names1\n",
        "\n",
        "names3 <- rbind(names, c(\"A\", \"B\"), c(\"X\", \"Y\"))                  # Add more than 1 row\n",
        "print(\"Matr 3\")\n",
        "names3\n",
        "\n",
        "\n"
      ],
      "metadata": {
        "colab": {
          "base_uri": "https://localhost:8080/",
          "height": 616
        },
        "id": "6mTdAdV4Zwnl",
        "outputId": "eb54c2d2-4377-43e7-b361-d1fe3d900d44"
      },
      "execution_count": 110,
      "outputs": [
        {
          "output_type": "stream",
          "name": "stderr",
          "text": [
            "Warning message in rbind(names, c(\"Yahia\", \"Abdo\", \"Ammar\", \"Saeed\", \"Waeel\", \"Mohannad\")):\n",
            "“number of columns of result is not a multiple of vector length (arg 2)”\n"
          ]
        },
        {
          "output_type": "stream",
          "name": "stdout",
          "text": [
            "[1] \"Matr 1\"\n"
          ]
        },
        {
          "output_type": "display_data",
          "data": {
            "text/html": [
              "<table class=\"dataframe\">\n",
              "<caption>A matrix: 4 × 2 of type chr</caption>\n",
              "<tbody>\n",
              "\t<tr><td>Yahia</td><td>Saeed   </td></tr>\n",
              "\t<tr><td>Abdo </td><td>Waeel   </td></tr>\n",
              "\t<tr><td>Ammar</td><td>Mohannad</td></tr>\n",
              "\t<tr><td>Yahia</td><td>Abdo    </td></tr>\n",
              "</tbody>\n",
              "</table>\n"
            ],
            "text/markdown": "\nA matrix: 4 × 2 of type chr\n\n| Yahia | Saeed    |\n| Abdo  | Waeel    |\n| Ammar | Mohannad |\n| Yahia | Abdo     |\n\n",
            "text/latex": "A matrix: 4 × 2 of type chr\n\\begin{tabular}{ll}\n\t Yahia & Saeed   \\\\\n\t Abdo  & Waeel   \\\\\n\t Ammar & Mohannad\\\\\n\t Yahia & Abdo    \\\\\n\\end{tabular}\n",
            "text/plain": [
              "     [,1]  [,2]    \n",
              "[1,] Yahia Saeed   \n",
              "[2,] Abdo  Waeel   \n",
              "[3,] Ammar Mohannad\n",
              "[4,] Yahia Abdo    "
            ]
          },
          "metadata": {}
        },
        {
          "output_type": "stream",
          "name": "stdout",
          "text": [
            "[1] \"Matr 2\"\n"
          ]
        },
        {
          "output_type": "display_data",
          "data": {
            "text/html": [
              "<table class=\"dataframe\">\n",
              "<caption>A matrix: 4 × 2 of type chr</caption>\n",
              "<tbody>\n",
              "\t<tr><td>Yahia</td><td>Saeed   </td></tr>\n",
              "\t<tr><td>Abdo </td><td>Waeel   </td></tr>\n",
              "\t<tr><td>Ammar</td><td>Mohannad</td></tr>\n",
              "\t<tr><td>Yahia</td><td>Abdo    </td></tr>\n",
              "</tbody>\n",
              "</table>\n"
            ],
            "text/markdown": "\nA matrix: 4 × 2 of type chr\n\n| Yahia | Saeed    |\n| Abdo  | Waeel    |\n| Ammar | Mohannad |\n| Yahia | Abdo     |\n\n",
            "text/latex": "A matrix: 4 × 2 of type chr\n\\begin{tabular}{ll}\n\t Yahia & Saeed   \\\\\n\t Abdo  & Waeel   \\\\\n\t Ammar & Mohannad\\\\\n\t Yahia & Abdo    \\\\\n\\end{tabular}\n",
            "text/plain": [
              "     [,1]  [,2]    \n",
              "[1,] Yahia Saeed   \n",
              "[2,] Abdo  Waeel   \n",
              "[3,] Ammar Mohannad\n",
              "[4,] Yahia Abdo    "
            ]
          },
          "metadata": {}
        },
        {
          "output_type": "stream",
          "name": "stdout",
          "text": [
            "[1] \"Matr 3\"\n"
          ]
        },
        {
          "output_type": "display_data",
          "data": {
            "text/html": [
              "<table class=\"dataframe\">\n",
              "<caption>A matrix: 5 × 2 of type chr</caption>\n",
              "<tbody>\n",
              "\t<tr><td>Yahia</td><td>Saeed   </td></tr>\n",
              "\t<tr><td>Abdo </td><td>Waeel   </td></tr>\n",
              "\t<tr><td>Ammar</td><td>Mohannad</td></tr>\n",
              "\t<tr><td>A    </td><td>B       </td></tr>\n",
              "\t<tr><td>X    </td><td>Y       </td></tr>\n",
              "</tbody>\n",
              "</table>\n"
            ],
            "text/markdown": "\nA matrix: 5 × 2 of type chr\n\n| Yahia | Saeed    |\n| Abdo  | Waeel    |\n| Ammar | Mohannad |\n| A     | B        |\n| X     | Y        |\n\n",
            "text/latex": "A matrix: 5 × 2 of type chr\n\\begin{tabular}{ll}\n\t Yahia & Saeed   \\\\\n\t Abdo  & Waeel   \\\\\n\t Ammar & Mohannad\\\\\n\t A     & B       \\\\\n\t X     & Y       \\\\\n\\end{tabular}\n",
            "text/plain": [
              "     [,1]  [,2]    \n",
              "[1,] Yahia Saeed   \n",
              "[2,] Abdo  Waeel   \n",
              "[3,] Ammar Mohannad\n",
              "[4,] A     B       \n",
              "[5,] X     Y       "
            ]
          },
          "metadata": {}
        }
      ]
    },
    {
      "cell_type": "markdown",
      "source": [
        "#Add Columns"
      ],
      "metadata": {
        "id": "nEADjoMOZulG"
      }
    },
    {
      "cell_type": "code",
      "source": [
        "names <- matrix(c(\"Yahia\", \"Abdo\", \"Ammar\", \"Saeed\", \"Waeel\", \"Mohannad\"), nrow = 3, ncol = 2)\n",
        "\n",
        "names1 <- cbind(names, c(\"Yahia\", \"Abdo\", \"Ammar\", \"Saeed\", \"Waeel\", \"Mohannad\"))   #cbind == add columns with same number of rows\n",
        "\n",
        "print(\"Matr 1\")\n",
        "\n",
        "names1   # The extra values were ignored\n",
        "\n",
        "names2 <- cbind(names, c(\"Yahia\", \"Abdo\", \"Ammar\"))\n",
        "print(\"Matr 2\")\n",
        "names2   # The same as n1\n",
        "\n",
        "names3 <- cbind(names, c(\"A\", \"B\", \"C\"), c(\"X\", \"Y\", \"Z\"))   # Add more than 1 column\n",
        "\n",
        "print(\"Matr 3\")\n",
        "\n",
        "names3   \n"
      ],
      "metadata": {
        "colab": {
          "base_uri": "https://localhost:8080/",
          "height": 438
        },
        "id": "HtV2ay8fYuoH",
        "outputId": "b0806164-4554-4f0e-e2f1-606ae0c509e3"
      },
      "execution_count": 109,
      "outputs": [
        {
          "output_type": "stream",
          "name": "stderr",
          "text": [
            "Warning message in cbind(names, c(\"Yahia\", \"Abdo\", \"Ammar\", \"Saeed\", \"Waeel\", \"Mohannad\")):\n",
            "“number of rows of result is not a multiple of vector length (arg 2)”\n"
          ]
        },
        {
          "output_type": "stream",
          "name": "stdout",
          "text": [
            "[1] \"Matr 1\"\n"
          ]
        },
        {
          "output_type": "display_data",
          "data": {
            "text/html": [
              "<table class=\"dataframe\">\n",
              "<caption>A matrix: 3 × 3 of type chr</caption>\n",
              "<tbody>\n",
              "\t<tr><td>Yahia</td><td>Saeed   </td><td>Yahia</td></tr>\n",
              "\t<tr><td>Abdo </td><td>Waeel   </td><td>Abdo </td></tr>\n",
              "\t<tr><td>Ammar</td><td>Mohannad</td><td>Ammar</td></tr>\n",
              "</tbody>\n",
              "</table>\n"
            ],
            "text/markdown": "\nA matrix: 3 × 3 of type chr\n\n| Yahia | Saeed    | Yahia |\n| Abdo  | Waeel    | Abdo  |\n| Ammar | Mohannad | Ammar |\n\n",
            "text/latex": "A matrix: 3 × 3 of type chr\n\\begin{tabular}{lll}\n\t Yahia & Saeed    & Yahia\\\\\n\t Abdo  & Waeel    & Abdo \\\\\n\t Ammar & Mohannad & Ammar\\\\\n\\end{tabular}\n",
            "text/plain": [
              "     [,1]  [,2]     [,3] \n",
              "[1,] Yahia Saeed    Yahia\n",
              "[2,] Abdo  Waeel    Abdo \n",
              "[3,] Ammar Mohannad Ammar"
            ]
          },
          "metadata": {}
        },
        {
          "output_type": "stream",
          "name": "stdout",
          "text": [
            "[1] \"Matr 2\"\n"
          ]
        },
        {
          "output_type": "display_data",
          "data": {
            "text/html": [
              "<table class=\"dataframe\">\n",
              "<caption>A matrix: 3 × 3 of type chr</caption>\n",
              "<tbody>\n",
              "\t<tr><td>Yahia</td><td>Saeed   </td><td>Yahia</td></tr>\n",
              "\t<tr><td>Abdo </td><td>Waeel   </td><td>Abdo </td></tr>\n",
              "\t<tr><td>Ammar</td><td>Mohannad</td><td>Ammar</td></tr>\n",
              "</tbody>\n",
              "</table>\n"
            ],
            "text/markdown": "\nA matrix: 3 × 3 of type chr\n\n| Yahia | Saeed    | Yahia |\n| Abdo  | Waeel    | Abdo  |\n| Ammar | Mohannad | Ammar |\n\n",
            "text/latex": "A matrix: 3 × 3 of type chr\n\\begin{tabular}{lll}\n\t Yahia & Saeed    & Yahia\\\\\n\t Abdo  & Waeel    & Abdo \\\\\n\t Ammar & Mohannad & Ammar\\\\\n\\end{tabular}\n",
            "text/plain": [
              "     [,1]  [,2]     [,3] \n",
              "[1,] Yahia Saeed    Yahia\n",
              "[2,] Abdo  Waeel    Abdo \n",
              "[3,] Ammar Mohannad Ammar"
            ]
          },
          "metadata": {}
        },
        {
          "output_type": "stream",
          "name": "stdout",
          "text": [
            "[1] \"Matr 3\"\n"
          ]
        },
        {
          "output_type": "display_data",
          "data": {
            "text/html": [
              "<table class=\"dataframe\">\n",
              "<caption>A matrix: 3 × 4 of type chr</caption>\n",
              "<tbody>\n",
              "\t<tr><td>Yahia</td><td>Saeed   </td><td>A</td><td>X</td></tr>\n",
              "\t<tr><td>Abdo </td><td>Waeel   </td><td>B</td><td>Y</td></tr>\n",
              "\t<tr><td>Ammar</td><td>Mohannad</td><td>C</td><td>Z</td></tr>\n",
              "</tbody>\n",
              "</table>\n"
            ],
            "text/markdown": "\nA matrix: 3 × 4 of type chr\n\n| Yahia | Saeed    | A | X |\n| Abdo  | Waeel    | B | Y |\n| Ammar | Mohannad | C | Z |\n\n",
            "text/latex": "A matrix: 3 × 4 of type chr\n\\begin{tabular}{llll}\n\t Yahia & Saeed    & A & X\\\\\n\t Abdo  & Waeel    & B & Y\\\\\n\t Ammar & Mohannad & C & Z\\\\\n\\end{tabular}\n",
            "text/plain": [
              "     [,1]  [,2]     [,3] [,4]\n",
              "[1,] Yahia Saeed    A    X   \n",
              "[2,] Abdo  Waeel    B    Y   \n",
              "[3,] Ammar Mohannad C    Z   "
            ]
          },
          "metadata": {}
        }
      ]
    },
    {
      "cell_type": "markdown",
      "source": [
        "#Remove Rows and Columns"
      ],
      "metadata": {
        "id": "anZ6mM6PcSUQ"
      }
    },
    {
      "cell_type": "code",
      "source": [
        "names <- matrix(c(\"Yahia\", \"Abdo\", \"Ammar\", \"Saeed\", \"Waeel\", \"Mohannad\", \"A\", \"B\", \"C\", \"X\", \"Y\", \"Z\" ), nrow = 3, ncol = 4)\n",
        "\n",
        "names <- names[-c(1,1)] #Remove the first row and the first column\n",
        "names"
      ],
      "metadata": {
        "colab": {
          "base_uri": "https://localhost:8080/",
          "height": 34
        },
        "id": "iPE3xkfncRdS",
        "outputId": "ff3ee2b8-81c2-4272-d90a-0f13fc0be96e"
      },
      "execution_count": 115,
      "outputs": [
        {
          "output_type": "display_data",
          "data": {
            "text/html": [
              "<style>\n",
              ".list-inline {list-style: none; margin:0; padding: 0}\n",
              ".list-inline>li {display: inline-block}\n",
              ".list-inline>li:not(:last-child)::after {content: \"\\00b7\"; padding: 0 .5ex}\n",
              "</style>\n",
              "<ol class=list-inline><li>'Abdo'</li><li>'Ammar'</li><li>'Saeed'</li><li>'Waeel'</li><li>'Mohannad'</li><li>'A'</li><li>'B'</li><li>'C'</li><li>'X'</li><li>'Y'</li><li>'Z'</li></ol>\n"
            ],
            "text/markdown": "1. 'Abdo'\n2. 'Ammar'\n3. 'Saeed'\n4. 'Waeel'\n5. 'Mohannad'\n6. 'A'\n7. 'B'\n8. 'C'\n9. 'X'\n10. 'Y'\n11. 'Z'\n\n\n",
            "text/latex": "\\begin{enumerate*}\n\\item 'Abdo'\n\\item 'Ammar'\n\\item 'Saeed'\n\\item 'Waeel'\n\\item 'Mohannad'\n\\item 'A'\n\\item 'B'\n\\item 'C'\n\\item 'X'\n\\item 'Y'\n\\item 'Z'\n\\end{enumerate*}\n",
            "text/plain": [
              " [1] \"Abdo\"     \"Ammar\"    \"Saeed\"    \"Waeel\"    \"Mohannad\" \"A\"       \n",
              " [7] \"B\"        \"C\"        \"X\"        \"Y\"        \"Z\"       "
            ]
          },
          "metadata": {}
        }
      ]
    },
    {
      "cell_type": "markdown",
      "source": [
        "#Check if an Item Exists"
      ],
      "metadata": {
        "id": "SF1JfYtadK_X"
      }
    },
    {
      "cell_type": "code",
      "source": [
        "names <- matrix(c(\"Yahia\", \"Abdo\", \"Ammar\", \"Saeed\", \"Waeel\", \"Mohannad\", \"A\", \"B\", \"C\", \"X\", \"Y\", \"Z\" ), nrow = 3, ncol = 4)\n",
        "\n",
        "\"Yahia_ML\" %in% names\n",
        "\"Yahia\" %in% names\n"
      ],
      "metadata": {
        "colab": {
          "base_uri": "https://localhost:8080/",
          "height": 52
        },
        "id": "7-48EicmdJNY",
        "outputId": "d43f731c-b0dc-4843-e985-e81fdfa980d2"
      },
      "execution_count": 116,
      "outputs": [
        {
          "output_type": "display_data",
          "data": {
            "text/html": [
              "FALSE"
            ],
            "text/markdown": "FALSE",
            "text/latex": "FALSE",
            "text/plain": [
              "[1] FALSE"
            ]
          },
          "metadata": {}
        },
        {
          "output_type": "display_data",
          "data": {
            "text/html": [
              "TRUE"
            ],
            "text/markdown": "TRUE",
            "text/latex": "TRUE",
            "text/plain": [
              "[1] TRUE"
            ]
          },
          "metadata": {}
        }
      ]
    },
    {
      "cell_type": "markdown",
      "source": [
        "#Number of Rows and Columns"
      ],
      "metadata": {
        "id": "g3gIZIXWdZG2"
      }
    },
    {
      "cell_type": "code",
      "source": [
        "names <- matrix(c(\"Yahia\", \"Abdo\", \"Ammar\", \"Saeed\", \"Waeel\", \"Mohannad\", \"A\", \"B\", \"C\", \"X\", \"Y\", \"Z\" ), nrow = 3, ncol = 4)\n",
        "\n",
        "dim(names)\n",
        "nrow(names)\n",
        "ncol(names)"
      ],
      "metadata": {
        "colab": {
          "base_uri": "https://localhost:8080/",
          "height": 69
        },
        "id": "KmZO2I6odY2-",
        "outputId": "0c661c7b-fd5b-4a90-c85c-2f0681b2c751"
      },
      "execution_count": 119,
      "outputs": [
        {
          "output_type": "display_data",
          "data": {
            "text/html": [
              "<style>\n",
              ".list-inline {list-style: none; margin:0; padding: 0}\n",
              ".list-inline>li {display: inline-block}\n",
              ".list-inline>li:not(:last-child)::after {content: \"\\00b7\"; padding: 0 .5ex}\n",
              "</style>\n",
              "<ol class=list-inline><li>3</li><li>4</li></ol>\n"
            ],
            "text/markdown": "1. 3\n2. 4\n\n\n",
            "text/latex": "\\begin{enumerate*}\n\\item 3\n\\item 4\n\\end{enumerate*}\n",
            "text/plain": [
              "[1] 3 4"
            ]
          },
          "metadata": {}
        },
        {
          "output_type": "display_data",
          "data": {
            "text/html": [
              "3"
            ],
            "text/markdown": "3",
            "text/latex": "3",
            "text/plain": [
              "[1] 3"
            ]
          },
          "metadata": {}
        },
        {
          "output_type": "display_data",
          "data": {
            "text/html": [
              "4"
            ],
            "text/markdown": "4",
            "text/latex": "4",
            "text/plain": [
              "[1] 4"
            ]
          },
          "metadata": {}
        }
      ]
    },
    {
      "cell_type": "markdown",
      "source": [
        "#Matrix Length"
      ],
      "metadata": {
        "id": "kePIsrs_djdH"
      }
    },
    {
      "cell_type": "code",
      "source": [
        "names <- matrix(c(\"Yahia\", \"Abdo\", \"Ammar\", \"Saeed\", \"Waeel\", \"Mohannad\", \"A\", \"B\", \"C\", \"X\", \"Y\", \"Z\" ), nrow = 3, ncol = 4)\n",
        "\n",
        "length(names)"
      ],
      "metadata": {
        "colab": {
          "base_uri": "https://localhost:8080/",
          "height": 34
        },
        "id": "r1MFAd86dipO",
        "outputId": "45dfc318-c925-408a-8b35-46351347c5a1"
      },
      "execution_count": 118,
      "outputs": [
        {
          "output_type": "display_data",
          "data": {
            "text/html": [
              "12"
            ],
            "text/markdown": "12",
            "text/latex": "12",
            "text/plain": [
              "[1] 12"
            ]
          },
          "metadata": {}
        }
      ]
    },
    {
      "cell_type": "markdown",
      "source": [
        "#Loop Through a Matrix"
      ],
      "metadata": {
        "id": "cFfio1E_dqDm"
      }
    },
    {
      "cell_type": "code",
      "source": [
        "names <- matrix(c(\"Yahia\", \"Abdo\", \"Ammar\", \"Saeed\", \"Waeel\", \"Mohannad\", \"A\", \"B\", \"C\", \"X\", \"Y\", \"Z\" ), nrow = 3, ncol = 4)\n",
        "names"
      ],
      "metadata": {
        "colab": {
          "base_uri": "https://localhost:8080/",
          "height": 128
        },
        "id": "2dD3onceeBon",
        "outputId": "88f13038-4622-4fba-c354-d61b8b37c4f3"
      },
      "execution_count": 122,
      "outputs": [
        {
          "output_type": "display_data",
          "data": {
            "text/html": [
              "<table class=\"dataframe\">\n",
              "<caption>A matrix: 3 × 4 of type chr</caption>\n",
              "<tbody>\n",
              "\t<tr><td>Yahia</td><td>Saeed   </td><td>A</td><td>X</td></tr>\n",
              "\t<tr><td>Abdo </td><td>Waeel   </td><td>B</td><td>Y</td></tr>\n",
              "\t<tr><td>Ammar</td><td>Mohannad</td><td>C</td><td>Z</td></tr>\n",
              "</tbody>\n",
              "</table>\n"
            ],
            "text/markdown": "\nA matrix: 3 × 4 of type chr\n\n| Yahia | Saeed    | A | X |\n| Abdo  | Waeel    | B | Y |\n| Ammar | Mohannad | C | Z |\n\n",
            "text/latex": "A matrix: 3 × 4 of type chr\n\\begin{tabular}{llll}\n\t Yahia & Saeed    & A & X\\\\\n\t Abdo  & Waeel    & B & Y\\\\\n\t Ammar & Mohannad & C & Z\\\\\n\\end{tabular}\n",
            "text/plain": [
              "     [,1]  [,2]     [,3] [,4]\n",
              "[1,] Yahia Saeed    A    X   \n",
              "[2,] Abdo  Waeel    B    Y   \n",
              "[3,] Ammar Mohannad C    Z   "
            ]
          },
          "metadata": {}
        }
      ]
    },
    {
      "cell_type": "code",
      "source": [
        "names <- matrix(c(\"Yahia\", \"Abdo\", \"Ammar\", \"Saeed\", \"Waeel\", \"Mohannad\", \"A\", \"B\", \"C\", \"X\", \"Y\", \"Z\" ), nrow = 3, ncol = 4)\n",
        "\n",
        "for (rows in 1:nrow(names)) {\n",
        "  for (columns in 1:ncol(names)) {\n",
        "    print(names[rows, columns])\n",
        "  }\n",
        "}"
      ],
      "metadata": {
        "colab": {
          "base_uri": "https://localhost:8080/"
        },
        "id": "4E5644WKdvXO",
        "outputId": "f3e42a17-b897-4b24-fae3-294097433b7d"
      },
      "execution_count": 120,
      "outputs": [
        {
          "output_type": "stream",
          "name": "stdout",
          "text": [
            "[1] \"Yahia\"\n",
            "[1] \"Saeed\"\n",
            "[1] \"A\"\n",
            "[1] \"X\"\n",
            "[1] \"Abdo\"\n",
            "[1] \"Waeel\"\n",
            "[1] \"B\"\n",
            "[1] \"Y\"\n",
            "[1] \"Ammar\"\n",
            "[1] \"Mohannad\"\n",
            "[1] \"C\"\n",
            "[1] \"Z\"\n"
          ]
        }
      ]
    },
    {
      "cell_type": "markdown",
      "source": [
        "#Combine two Matrices"
      ],
      "metadata": {
        "id": "ZlXkqvzrezjF"
      }
    },
    {
      "cell_type": "code",
      "source": [
        "# Combine matrices\n",
        "Matrix1 <- matrix(c(\"apple\", \"banana\", \"cherry\", \"grape\"), nrow = 2, ncol = 2)\n",
        "Matrix2 <- matrix(c(\"orange\", \"mango\", \"pineapple\", \"watermelon\"), nrow = 2, ncol = 2)\n",
        "\n",
        "# Adding it as a rows\n",
        "Matrix_Combined <- rbind(Matrix1, Matrix2)\n",
        "Matrix_Combined\n",
        "\n",
        "# Adding it as a columns\n",
        "Matrix_Combined <- cbind(Matrix1, Matrix2)\n",
        "Matrix_Combined"
      ],
      "metadata": {
        "colab": {
          "base_uri": "https://localhost:8080/",
          "height": 257
        },
        "id": "ByW0bLWye07s",
        "outputId": "6f8cdd65-c188-4710-b747-434d5e236f0e"
      },
      "execution_count": 123,
      "outputs": [
        {
          "output_type": "display_data",
          "data": {
            "text/html": [
              "<table class=\"dataframe\">\n",
              "<caption>A matrix: 4 × 2 of type chr</caption>\n",
              "<tbody>\n",
              "\t<tr><td>apple </td><td>cherry    </td></tr>\n",
              "\t<tr><td>banana</td><td>grape     </td></tr>\n",
              "\t<tr><td>orange</td><td>pineapple </td></tr>\n",
              "\t<tr><td>mango </td><td>watermelon</td></tr>\n",
              "</tbody>\n",
              "</table>\n"
            ],
            "text/markdown": "\nA matrix: 4 × 2 of type chr\n\n| apple  | cherry     |\n| banana | grape      |\n| orange | pineapple  |\n| mango  | watermelon |\n\n",
            "text/latex": "A matrix: 4 × 2 of type chr\n\\begin{tabular}{ll}\n\t apple  & cherry    \\\\\n\t banana & grape     \\\\\n\t orange & pineapple \\\\\n\t mango  & watermelon\\\\\n\\end{tabular}\n",
            "text/plain": [
              "     [,1]   [,2]      \n",
              "[1,] apple  cherry    \n",
              "[2,] banana grape     \n",
              "[3,] orange pineapple \n",
              "[4,] mango  watermelon"
            ]
          },
          "metadata": {}
        },
        {
          "output_type": "display_data",
          "data": {
            "text/html": [
              "<table class=\"dataframe\">\n",
              "<caption>A matrix: 2 × 4 of type chr</caption>\n",
              "<tbody>\n",
              "\t<tr><td>apple </td><td>cherry</td><td>orange</td><td>pineapple </td></tr>\n",
              "\t<tr><td>banana</td><td>grape </td><td>mango </td><td>watermelon</td></tr>\n",
              "</tbody>\n",
              "</table>\n"
            ],
            "text/markdown": "\nA matrix: 2 × 4 of type chr\n\n| apple  | cherry | orange | pineapple  |\n| banana | grape  | mango  | watermelon |\n\n",
            "text/latex": "A matrix: 2 × 4 of type chr\n\\begin{tabular}{llll}\n\t apple  & cherry & orange & pineapple \\\\\n\t banana & grape  & mango  & watermelon\\\\\n\\end{tabular}\n",
            "text/plain": [
              "     [,1]   [,2]   [,3]   [,4]      \n",
              "[1,] apple  cherry orange pineapple \n",
              "[2,] banana grape  mango  watermelon"
            ]
          },
          "metadata": {}
        }
      ]
    }
  ]
}