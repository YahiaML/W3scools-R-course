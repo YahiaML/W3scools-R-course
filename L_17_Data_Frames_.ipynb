{
  "nbformat": 4,
  "nbformat_minor": 0,
  "metadata": {
    "colab": {
      "name": "L_17 Data Frames .ipynb",
      "provenance": [],
      "collapsed_sections": [],
      "authorship_tag": "ABX9TyMyq8G4OccMbhUF6hc29Z92",
      "include_colab_link": true
    },
    "kernelspec": {
      "name": "ir",
      "display_name": "R"
    },
    "language_info": {
      "name": "R"
    }
  },
  "cells": [
    {
      "cell_type": "markdown",
      "metadata": {
        "id": "view-in-github",
        "colab_type": "text"
      },
      "source": [
        "<a href=\"https://colab.research.google.com/github/YahiaML/W3scools-R-course/blob/main/L_17_Data_Frames_.ipynb\" target=\"_parent\"><img src=\"https://colab.research.google.com/assets/colab-badge.svg\" alt=\"Open In Colab\"/></a>"
      ]
    },
    {
      "cell_type": "markdown",
      "source": [
        "# Forming a Data Frame"
      ],
      "metadata": {
        "id": "OZvG-L9iW6Xb"
      }
    },
    {
      "cell_type": "code",
      "source": [
        "df <- data.frame (\n",
        "  Name = c(\"Yahia\", \"Abdo\", \"Ammar\", \"Saeed\", \"Waeel\"),\n",
        "  Age = c(21, 20, 19, 20, 20)\n",
        ")\n",
        "\n",
        "df"
      ],
      "metadata": {
        "colab": {
          "base_uri": "https://localhost:8080/",
          "height": 272
        },
        "id": "LUPRWIjWVzes",
        "outputId": "28fcf5e3-e0e3-4432-8881-a7d9b4174b5f"
      },
      "execution_count": null,
      "outputs": [
        {
          "output_type": "display_data",
          "data": {
            "text/html": [
              "<table class=\"dataframe\">\n",
              "<caption>A data.frame: 5 × 2</caption>\n",
              "<thead>\n",
              "\t<tr><th scope=col>Name</th><th scope=col>Age</th></tr>\n",
              "\t<tr><th scope=col>&lt;chr&gt;</th><th scope=col>&lt;dbl&gt;</th></tr>\n",
              "</thead>\n",
              "<tbody>\n",
              "\t<tr><td>Yahia</td><td>21</td></tr>\n",
              "\t<tr><td>Abdo </td><td>20</td></tr>\n",
              "\t<tr><td>Ammar</td><td>19</td></tr>\n",
              "\t<tr><td>Saeed</td><td>20</td></tr>\n",
              "\t<tr><td>Waeel</td><td>20</td></tr>\n",
              "</tbody>\n",
              "</table>\n"
            ],
            "text/markdown": "\nA data.frame: 5 × 2\n\n| Name &lt;chr&gt; | Age &lt;dbl&gt; |\n|---|---|\n| Yahia | 21 |\n| Abdo  | 20 |\n| Ammar | 19 |\n| Saeed | 20 |\n| Waeel | 20 |\n\n",
            "text/latex": "A data.frame: 5 × 2\n\\begin{tabular}{ll}\n Name & Age\\\\\n <chr> & <dbl>\\\\\n\\hline\n\t Yahia & 21\\\\\n\t Abdo  & 20\\\\\n\t Ammar & 19\\\\\n\t Saeed & 20\\\\\n\t Waeel & 20\\\\\n\\end{tabular}\n",
            "text/plain": [
              "  Name  Age\n",
              "1 Yahia 21 \n",
              "2 Abdo  20 \n",
              "3 Ammar 19 \n",
              "4 Saeed 20 \n",
              "5 Waeel 20 "
            ]
          },
          "metadata": {}
        }
      ]
    },
    {
      "cell_type": "markdown",
      "source": [
        "#Summarize the Data"
      ],
      "metadata": {
        "id": "f8vYCt0pXIWi"
      }
    },
    {
      "cell_type": "code",
      "source": [
        "df <- data.frame (\n",
        "  Name = c(\"Yahia\", \"Abdo\", \"Ammar\", \"Saeed\", \"Waeel\"),\n",
        "  Age = c(21, 20, 19, 20, 20)\n",
        ")\n",
        "\n",
        "summary(df)"
      ],
      "metadata": {
        "colab": {
          "base_uri": "https://localhost:8080/",
          "height": 139
        },
        "id": "HNYYfxTbXCA7",
        "outputId": "d82273c0-7cc6-49ea-a9d7-b1b4a3082fab"
      },
      "execution_count": null,
      "outputs": [
        {
          "output_type": "display_data",
          "data": {
            "text/plain": [
              "     Name                Age    \n",
              " Length:5           Min.   :19  \n",
              " Class :character   1st Qu.:20  \n",
              " Mode  :character   Median :20  \n",
              "                    Mean   :20  \n",
              "                    3rd Qu.:20  \n",
              "                    Max.   :21  "
            ]
          },
          "metadata": {}
        }
      ]
    },
    {
      "cell_type": "markdown",
      "source": [
        "#Access Items"
      ],
      "metadata": {
        "id": "SF1JfYtadK_X"
      }
    },
    {
      "cell_type": "code",
      "source": [
        "df <- data.frame (\n",
        "  Name = c(\"Yahia\", \"Abdo\", \"Ammar\", \"Saeed\", \"Waeel\"),\n",
        "  Age = c(21, 20, 19, 20, 20)\n",
        ")\n",
        "print(\"# Access the first column\")\n",
        "df[1]          # Access the first column\n",
        "\n",
        "print(\"# Access the first row\")\n",
        "df[1,]         # Access the first row\n",
        "\n",
        "print(\"# Access the third row in the second column\")\n",
        "df[3,2]        # Access the third row in the second column\n",
        "print(\"# Access the column by its name\")\n",
        "df[\"Name\"]     # Access the column by its name\n",
        "df$Name        # Access the column by its name"
      ],
      "metadata": {
        "colab": {
          "base_uri": "https://localhost:8080/",
          "height": 779
        },
        "id": "7-48EicmdJNY",
        "outputId": "91d5fa48-91ac-42ae-9ac7-f5dc419f22eb"
      },
      "execution_count": 3,
      "outputs": [
        {
          "output_type": "stream",
          "name": "stdout",
          "text": [
            "[1] \"# Access the first column\"\n"
          ]
        },
        {
          "output_type": "display_data",
          "data": {
            "text/html": [
              "<table class=\"dataframe\">\n",
              "<caption>A data.frame: 5 × 1</caption>\n",
              "<thead>\n",
              "\t<tr><th scope=col>Name</th></tr>\n",
              "\t<tr><th scope=col>&lt;chr&gt;</th></tr>\n",
              "</thead>\n",
              "<tbody>\n",
              "\t<tr><td>Yahia</td></tr>\n",
              "\t<tr><td>Abdo </td></tr>\n",
              "\t<tr><td>Ammar</td></tr>\n",
              "\t<tr><td>Saeed</td></tr>\n",
              "\t<tr><td>Waeel</td></tr>\n",
              "</tbody>\n",
              "</table>\n"
            ],
            "text/markdown": "\nA data.frame: 5 × 1\n\n| Name &lt;chr&gt; |\n|---|\n| Yahia |\n| Abdo  |\n| Ammar |\n| Saeed |\n| Waeel |\n\n",
            "text/latex": "A data.frame: 5 × 1\n\\begin{tabular}{l}\n Name\\\\\n <chr>\\\\\n\\hline\n\t Yahia\\\\\n\t Abdo \\\\\n\t Ammar\\\\\n\t Saeed\\\\\n\t Waeel\\\\\n\\end{tabular}\n",
            "text/plain": [
              "  Name \n",
              "1 Yahia\n",
              "2 Abdo \n",
              "3 Ammar\n",
              "4 Saeed\n",
              "5 Waeel"
            ]
          },
          "metadata": {}
        },
        {
          "output_type": "stream",
          "name": "stdout",
          "text": [
            "[1] \"# Access the first row\"\n"
          ]
        },
        {
          "output_type": "display_data",
          "data": {
            "text/html": [
              "<table class=\"dataframe\">\n",
              "<caption>A data.frame: 1 × 2</caption>\n",
              "<thead>\n",
              "\t<tr><th></th><th scope=col>Name</th><th scope=col>Age</th></tr>\n",
              "\t<tr><th></th><th scope=col>&lt;chr&gt;</th><th scope=col>&lt;dbl&gt;</th></tr>\n",
              "</thead>\n",
              "<tbody>\n",
              "\t<tr><th scope=row>1</th><td>Yahia</td><td>21</td></tr>\n",
              "</tbody>\n",
              "</table>\n"
            ],
            "text/markdown": "\nA data.frame: 1 × 2\n\n| <!--/--> | Name &lt;chr&gt; | Age &lt;dbl&gt; |\n|---|---|---|\n| 1 | Yahia | 21 |\n\n",
            "text/latex": "A data.frame: 1 × 2\n\\begin{tabular}{r|ll}\n  & Name & Age\\\\\n  & <chr> & <dbl>\\\\\n\\hline\n\t1 & Yahia & 21\\\\\n\\end{tabular}\n",
            "text/plain": [
              "  Name  Age\n",
              "1 Yahia 21 "
            ]
          },
          "metadata": {}
        },
        {
          "output_type": "stream",
          "name": "stdout",
          "text": [
            "[1] \"# Access the third row in the second column\"\n"
          ]
        },
        {
          "output_type": "display_data",
          "data": {
            "text/html": [
              "19"
            ],
            "text/markdown": "19",
            "text/latex": "19",
            "text/plain": [
              "[1] 19"
            ]
          },
          "metadata": {}
        },
        {
          "output_type": "stream",
          "name": "stdout",
          "text": [
            "[1] \"# Access the column by its name\"\n"
          ]
        },
        {
          "output_type": "display_data",
          "data": {
            "text/html": [
              "<table class=\"dataframe\">\n",
              "<caption>A data.frame: 5 × 1</caption>\n",
              "<thead>\n",
              "\t<tr><th scope=col>Name</th></tr>\n",
              "\t<tr><th scope=col>&lt;chr&gt;</th></tr>\n",
              "</thead>\n",
              "<tbody>\n",
              "\t<tr><td>Yahia</td></tr>\n",
              "\t<tr><td>Abdo </td></tr>\n",
              "\t<tr><td>Ammar</td></tr>\n",
              "\t<tr><td>Saeed</td></tr>\n",
              "\t<tr><td>Waeel</td></tr>\n",
              "</tbody>\n",
              "</table>\n"
            ],
            "text/markdown": "\nA data.frame: 5 × 1\n\n| Name &lt;chr&gt; |\n|---|\n| Yahia |\n| Abdo  |\n| Ammar |\n| Saeed |\n| Waeel |\n\n",
            "text/latex": "A data.frame: 5 × 1\n\\begin{tabular}{l}\n Name\\\\\n <chr>\\\\\n\\hline\n\t Yahia\\\\\n\t Abdo \\\\\n\t Ammar\\\\\n\t Saeed\\\\\n\t Waeel\\\\\n\\end{tabular}\n",
            "text/plain": [
              "  Name \n",
              "1 Yahia\n",
              "2 Abdo \n",
              "3 Ammar\n",
              "4 Saeed\n",
              "5 Waeel"
            ]
          },
          "metadata": {}
        },
        {
          "output_type": "display_data",
          "data": {
            "text/html": [
              "<style>\n",
              ".list-inline {list-style: none; margin:0; padding: 0}\n",
              ".list-inline>li {display: inline-block}\n",
              ".list-inline>li:not(:last-child)::after {content: \"\\00b7\"; padding: 0 .5ex}\n",
              "</style>\n",
              "<ol class=list-inline><li>'Yahia'</li><li>'Abdo'</li><li>'Ammar'</li><li>'Saeed'</li><li>'Waeel'</li></ol>\n"
            ],
            "text/markdown": "1. 'Yahia'\n2. 'Abdo'\n3. 'Ammar'\n4. 'Saeed'\n5. 'Waeel'\n\n\n",
            "text/latex": "\\begin{enumerate*}\n\\item 'Yahia'\n\\item 'Abdo'\n\\item 'Ammar'\n\\item 'Saeed'\n\\item 'Waeel'\n\\end{enumerate*}\n",
            "text/plain": [
              "[1] \"Yahia\" \"Abdo\"  \"Ammar\" \"Saeed\" \"Waeel\""
            ]
          },
          "metadata": {}
        }
      ]
    },
    {
      "cell_type": "markdown",
      "source": [
        "# Add Rows"
      ],
      "metadata": {
        "id": "OkOviDCyAaSi"
      }
    },
    {
      "cell_type": "code",
      "source": [
        "df <- data.frame (\n",
        "  Name = c(\"Yahia\", \"Abdo\", \"Ammar\", \"Saeed\", \"Waeel\"),\n",
        "  Age = c(21, 20, 19, 20, 20)\n",
        ")\n",
        "\n",
        "df <- rbind(df, c(\"Mohannad\", 20))\n",
        "df\n",
        "\n",
        "# Add an empty row\n",
        "df[nrow(df)+1,] <- NA\n",
        "df"
      ],
      "metadata": {
        "colab": {
          "base_uri": "https://localhost:8080/",
          "height": 587
        },
        "id": "D6Cy4dIEAcyx",
        "outputId": "8b3fadcf-ec4f-4b73-f9af-9b26e9201a2b"
      },
      "execution_count": null,
      "outputs": [
        {
          "output_type": "display_data",
          "data": {
            "text/html": [
              "<table class=\"dataframe\">\n",
              "<caption>A data.frame: 6 × 2</caption>\n",
              "<thead>\n",
              "\t<tr><th scope=col>Name</th><th scope=col>Age</th></tr>\n",
              "\t<tr><th scope=col>&lt;chr&gt;</th><th scope=col>&lt;chr&gt;</th></tr>\n",
              "</thead>\n",
              "<tbody>\n",
              "\t<tr><td>Yahia   </td><td>21</td></tr>\n",
              "\t<tr><td>Abdo    </td><td>20</td></tr>\n",
              "\t<tr><td>Ammar   </td><td>19</td></tr>\n",
              "\t<tr><td>Saeed   </td><td>20</td></tr>\n",
              "\t<tr><td>Waeel   </td><td>20</td></tr>\n",
              "\t<tr><td>Mohannad</td><td>20</td></tr>\n",
              "</tbody>\n",
              "</table>\n"
            ],
            "text/markdown": "\nA data.frame: 6 × 2\n\n| Name &lt;chr&gt; | Age &lt;chr&gt; |\n|---|---|\n| Yahia    | 21 |\n| Abdo     | 20 |\n| Ammar    | 19 |\n| Saeed    | 20 |\n| Waeel    | 20 |\n| Mohannad | 20 |\n\n",
            "text/latex": "A data.frame: 6 × 2\n\\begin{tabular}{ll}\n Name & Age\\\\\n <chr> & <chr>\\\\\n\\hline\n\t Yahia    & 21\\\\\n\t Abdo     & 20\\\\\n\t Ammar    & 19\\\\\n\t Saeed    & 20\\\\\n\t Waeel    & 20\\\\\n\t Mohannad & 20\\\\\n\\end{tabular}\n",
            "text/plain": [
              "  Name     Age\n",
              "1 Yahia    21 \n",
              "2 Abdo     20 \n",
              "3 Ammar    19 \n",
              "4 Saeed    20 \n",
              "5 Waeel    20 \n",
              "6 Mohannad 20 "
            ]
          },
          "metadata": {}
        },
        {
          "output_type": "display_data",
          "data": {
            "text/html": [
              "<table class=\"dataframe\">\n",
              "<caption>A data.frame: 7 × 2</caption>\n",
              "<thead>\n",
              "\t<tr><th></th><th scope=col>Name</th><th scope=col>Age</th></tr>\n",
              "\t<tr><th></th><th scope=col>&lt;chr&gt;</th><th scope=col>&lt;chr&gt;</th></tr>\n",
              "</thead>\n",
              "<tbody>\n",
              "\t<tr><th scope=row>1</th><td>Yahia   </td><td>21</td></tr>\n",
              "\t<tr><th scope=row>2</th><td>Abdo    </td><td>20</td></tr>\n",
              "\t<tr><th scope=row>3</th><td>Ammar   </td><td>19</td></tr>\n",
              "\t<tr><th scope=row>4</th><td>Saeed   </td><td>20</td></tr>\n",
              "\t<tr><th scope=row>5</th><td>Waeel   </td><td>20</td></tr>\n",
              "\t<tr><th scope=row>6</th><td>Mohannad</td><td>20</td></tr>\n",
              "\t<tr><th scope=row>7</th><td>NA      </td><td>NA</td></tr>\n",
              "</tbody>\n",
              "</table>\n"
            ],
            "text/markdown": "\nA data.frame: 7 × 2\n\n| <!--/--> | Name &lt;chr&gt; | Age &lt;chr&gt; |\n|---|---|---|\n| 1 | Yahia    | 21 |\n| 2 | Abdo     | 20 |\n| 3 | Ammar    | 19 |\n| 4 | Saeed    | 20 |\n| 5 | Waeel    | 20 |\n| 6 | Mohannad | 20 |\n| 7 | NA       | NA |\n\n",
            "text/latex": "A data.frame: 7 × 2\n\\begin{tabular}{r|ll}\n  & Name & Age\\\\\n  & <chr> & <chr>\\\\\n\\hline\n\t1 & Yahia    & 21\\\\\n\t2 & Abdo     & 20\\\\\n\t3 & Ammar    & 19\\\\\n\t4 & Saeed    & 20\\\\\n\t5 & Waeel    & 20\\\\\n\t6 & Mohannad & 20\\\\\n\t7 & NA       & NA\\\\\n\\end{tabular}\n",
            "text/plain": [
              "  Name     Age\n",
              "1 Yahia    21 \n",
              "2 Abdo     20 \n",
              "3 Ammar    19 \n",
              "4 Saeed    20 \n",
              "5 Waeel    20 \n",
              "6 Mohannad 20 \n",
              "7 NA       NA "
            ]
          },
          "metadata": {}
        }
      ]
    },
    {
      "cell_type": "markdown",
      "source": [
        "# Add columns"
      ],
      "metadata": {
        "id": "VmUgxyQGAs-C"
      }
    },
    {
      "cell_type": "code",
      "source": [
        "df <- data.frame (\n",
        "  Name = c(\"Yahia\", \"Abdo\", \"Ammar\", \"Saeed\", \"Waeel\"),\n",
        "  Age = c(21, 20, 19, 20, 20)\n",
        ")\n",
        "\n",
        "df$College <- c(\"science\", \"computer sci.\", \"Engineering\", \"computer sci.\", \"Engineering\")\n",
        "\n",
        "df"
      ],
      "metadata": {
        "colab": {
          "base_uri": "https://localhost:8080/",
          "height": 255
        },
        "id": "7eaG-Q-ZAvEI",
        "outputId": "221495ed-89e0-4e54-8707-ac370d1a1bea"
      },
      "execution_count": null,
      "outputs": [
        {
          "output_type": "display_data",
          "data": {
            "text/html": [
              "<table class=\"dataframe\">\n",
              "<caption>A data.frame: 5 × 3</caption>\n",
              "<thead>\n",
              "\t<tr><th scope=col>Name</th><th scope=col>Age</th><th scope=col>College</th></tr>\n",
              "\t<tr><th scope=col>&lt;chr&gt;</th><th scope=col>&lt;dbl&gt;</th><th scope=col>&lt;chr&gt;</th></tr>\n",
              "</thead>\n",
              "<tbody>\n",
              "\t<tr><td>Yahia</td><td>21</td><td>science      </td></tr>\n",
              "\t<tr><td>Abdo </td><td>20</td><td>computer sci.</td></tr>\n",
              "\t<tr><td>Ammar</td><td>19</td><td>Engineering  </td></tr>\n",
              "\t<tr><td>Saeed</td><td>20</td><td>computer sci.</td></tr>\n",
              "\t<tr><td>Waeel</td><td>20</td><td>Engineering  </td></tr>\n",
              "</tbody>\n",
              "</table>\n"
            ],
            "text/markdown": "\nA data.frame: 5 × 3\n\n| Name &lt;chr&gt; | Age &lt;dbl&gt; | College &lt;chr&gt; |\n|---|---|---|\n| Yahia | 21 | science       |\n| Abdo  | 20 | computer sci. |\n| Ammar | 19 | Engineering   |\n| Saeed | 20 | computer sci. |\n| Waeel | 20 | Engineering   |\n\n",
            "text/latex": "A data.frame: 5 × 3\n\\begin{tabular}{lll}\n Name & Age & College\\\\\n <chr> & <dbl> & <chr>\\\\\n\\hline\n\t Yahia & 21 & science      \\\\\n\t Abdo  & 20 & computer sci.\\\\\n\t Ammar & 19 & Engineering  \\\\\n\t Saeed & 20 & computer sci.\\\\\n\t Waeel & 20 & Engineering  \\\\\n\\end{tabular}\n",
            "text/plain": [
              "  Name  Age College      \n",
              "1 Yahia 21  science      \n",
              "2 Abdo  20  computer sci.\n",
              "3 Ammar 19  Engineering  \n",
              "4 Saeed 20  computer sci.\n",
              "5 Waeel 20  Engineering  "
            ]
          },
          "metadata": {}
        }
      ]
    },
    {
      "cell_type": "markdown",
      "source": [
        "#Remove rows and columns"
      ],
      "metadata": {
        "id": "5yX8C9vqComO"
      }
    },
    {
      "cell_type": "code",
      "source": [
        "df <- data.frame (\n",
        "  Name = c(\"Yahia\", \"Abdo\", \"Ammar\", \"Saeed\", \"Waeel\"),\n",
        "  Age = c(21, 20, 19, 20, 20),\n",
        "  College = c(\"science\", \"computer sci.\", \"Engineering\", \"computer sci.\", \"Engineering\")\n",
        ")\n",
        "\n",
        "df_removed_column <- df[-c(3)]        # Remove columns\n",
        "df_removed_column\n",
        "\n",
        "df_removed_row <- df[-c(1),]          # Remove rows\n",
        "df_removed_row"
      ],
      "metadata": {
        "colab": {
          "base_uri": "https://localhost:8080/",
          "height": 479
        },
        "id": "vc_RD6qLCsz1",
        "outputId": "28bbcd61-031c-498b-eb9b-3dd6bf4a6fe6"
      },
      "execution_count": null,
      "outputs": [
        {
          "output_type": "display_data",
          "data": {
            "text/html": [
              "<table class=\"dataframe\">\n",
              "<caption>A data.frame: 5 × 2</caption>\n",
              "<thead>\n",
              "\t<tr><th scope=col>Name</th><th scope=col>Age</th></tr>\n",
              "\t<tr><th scope=col>&lt;chr&gt;</th><th scope=col>&lt;dbl&gt;</th></tr>\n",
              "</thead>\n",
              "<tbody>\n",
              "\t<tr><td>Yahia</td><td>21</td></tr>\n",
              "\t<tr><td>Abdo </td><td>20</td></tr>\n",
              "\t<tr><td>Ammar</td><td>19</td></tr>\n",
              "\t<tr><td>Saeed</td><td>20</td></tr>\n",
              "\t<tr><td>Waeel</td><td>20</td></tr>\n",
              "</tbody>\n",
              "</table>\n"
            ],
            "text/markdown": "\nA data.frame: 5 × 2\n\n| Name &lt;chr&gt; | Age &lt;dbl&gt; |\n|---|---|\n| Yahia | 21 |\n| Abdo  | 20 |\n| Ammar | 19 |\n| Saeed | 20 |\n| Waeel | 20 |\n\n",
            "text/latex": "A data.frame: 5 × 2\n\\begin{tabular}{ll}\n Name & Age\\\\\n <chr> & <dbl>\\\\\n\\hline\n\t Yahia & 21\\\\\n\t Abdo  & 20\\\\\n\t Ammar & 19\\\\\n\t Saeed & 20\\\\\n\t Waeel & 20\\\\\n\\end{tabular}\n",
            "text/plain": [
              "  Name  Age\n",
              "1 Yahia 21 \n",
              "2 Abdo  20 \n",
              "3 Ammar 19 \n",
              "4 Saeed 20 \n",
              "5 Waeel 20 "
            ]
          },
          "metadata": {}
        },
        {
          "output_type": "display_data",
          "data": {
            "text/html": [
              "<table class=\"dataframe\">\n",
              "<caption>A data.frame: 4 × 3</caption>\n",
              "<thead>\n",
              "\t<tr><th></th><th scope=col>Name</th><th scope=col>Age</th><th scope=col>College</th></tr>\n",
              "\t<tr><th></th><th scope=col>&lt;chr&gt;</th><th scope=col>&lt;dbl&gt;</th><th scope=col>&lt;chr&gt;</th></tr>\n",
              "</thead>\n",
              "<tbody>\n",
              "\t<tr><th scope=row>2</th><td>Abdo </td><td>20</td><td>computer sci.</td></tr>\n",
              "\t<tr><th scope=row>3</th><td>Ammar</td><td>19</td><td>Engineering  </td></tr>\n",
              "\t<tr><th scope=row>4</th><td>Saeed</td><td>20</td><td>computer sci.</td></tr>\n",
              "\t<tr><th scope=row>5</th><td>Waeel</td><td>20</td><td>Engineering  </td></tr>\n",
              "</tbody>\n",
              "</table>\n"
            ],
            "text/markdown": "\nA data.frame: 4 × 3\n\n| <!--/--> | Name &lt;chr&gt; | Age &lt;dbl&gt; | College &lt;chr&gt; |\n|---|---|---|---|\n| 2 | Abdo  | 20 | computer sci. |\n| 3 | Ammar | 19 | Engineering   |\n| 4 | Saeed | 20 | computer sci. |\n| 5 | Waeel | 20 | Engineering   |\n\n",
            "text/latex": "A data.frame: 4 × 3\n\\begin{tabular}{r|lll}\n  & Name & Age & College\\\\\n  & <chr> & <dbl> & <chr>\\\\\n\\hline\n\t2 & Abdo  & 20 & computer sci.\\\\\n\t3 & Ammar & 19 & Engineering  \\\\\n\t4 & Saeed & 20 & computer sci.\\\\\n\t5 & Waeel & 20 & Engineering  \\\\\n\\end{tabular}\n",
            "text/plain": [
              "  Name  Age College      \n",
              "2 Abdo  20  computer sci.\n",
              "3 Ammar 19  Engineering  \n",
              "4 Saeed 20  computer sci.\n",
              "5 Waeel 20  Engineering  "
            ]
          },
          "metadata": {}
        }
      ]
    },
    {
      "cell_type": "code",
      "source": [
        "df <- data.frame (\n",
        "  Name = c(\"Yahia\", \"Abdo\", \"Ammar\", \"Saeed\", \"Waeel\"),\n",
        "  Age = c(21, 20, 19, 20, 20),\n",
        "  College = c(\"science\", \"computer sci.\", \"Engineering\", \"computer sci.\", \"Engineering\")\n",
        ")\n",
        "\n",
        "df_removed_column <- subset(df, select = -c(College) )       # Remove a column by name\n",
        "df_removed_column"
      ],
      "metadata": {
        "colab": {
          "base_uri": "https://localhost:8080/",
          "height": 255
        },
        "id": "3kuy_2bMEa2i",
        "outputId": "ab8a9c34-2fb1-4a30-d98b-5a359cb62b79"
      },
      "execution_count": null,
      "outputs": [
        {
          "output_type": "display_data",
          "data": {
            "text/html": [
              "<table class=\"dataframe\">\n",
              "<caption>A data.frame: 5 × 2</caption>\n",
              "<thead>\n",
              "\t<tr><th></th><th scope=col>Name</th><th scope=col>Age</th></tr>\n",
              "\t<tr><th></th><th scope=col>&lt;chr&gt;</th><th scope=col>&lt;dbl&gt;</th></tr>\n",
              "</thead>\n",
              "<tbody>\n",
              "\t<tr><th scope=row>1</th><td>Yahia</td><td>21</td></tr>\n",
              "\t<tr><th scope=row>2</th><td>Abdo </td><td>20</td></tr>\n",
              "\t<tr><th scope=row>3</th><td>Ammar</td><td>19</td></tr>\n",
              "\t<tr><th scope=row>4</th><td>Saeed</td><td>20</td></tr>\n",
              "\t<tr><th scope=row>5</th><td>Waeel</td><td>20</td></tr>\n",
              "</tbody>\n",
              "</table>\n"
            ],
            "text/markdown": "\nA data.frame: 5 × 2\n\n| <!--/--> | Name &lt;chr&gt; | Age &lt;dbl&gt; |\n|---|---|---|\n| 1 | Yahia | 21 |\n| 2 | Abdo  | 20 |\n| 3 | Ammar | 19 |\n| 4 | Saeed | 20 |\n| 5 | Waeel | 20 |\n\n",
            "text/latex": "A data.frame: 5 × 2\n\\begin{tabular}{r|ll}\n  & Name & Age\\\\\n  & <chr> & <dbl>\\\\\n\\hline\n\t1 & Yahia & 21\\\\\n\t2 & Abdo  & 20\\\\\n\t3 & Ammar & 19\\\\\n\t4 & Saeed & 20\\\\\n\t5 & Waeel & 20\\\\\n\\end{tabular}\n",
            "text/plain": [
              "  Name  Age\n",
              "1 Yahia 21 \n",
              "2 Abdo  20 \n",
              "3 Ammar 19 \n",
              "4 Saeed 20 \n",
              "5 Waeel 20 "
            ]
          },
          "metadata": {}
        }
      ]
    },
    {
      "cell_type": "markdown",
      "source": [
        "# Remove empty rows"
      ],
      "metadata": {
        "id": "7h2CLH_oF0x4"
      }
    },
    {
      "cell_type": "code",
      "source": [
        "df <- data.frame (\n",
        "  Name = c(\"Yahia\", \"Abdo\", \"Ammar\", \"Saeed\", \"Waeel\"),\n",
        "  Age = c(21, 20, 19, 20, 20)\n",
        ")\n",
        "\n",
        "# Add an empty row\n",
        "df[nrow(df)+1,] <- NA\n",
        "df\n",
        "\n",
        "# Remove the empty row\n",
        "df <- na.omit(df)\n",
        "df"
      ],
      "metadata": {
        "colab": {
          "base_uri": "https://localhost:8080/",
          "height": 524
        },
        "id": "9OirohE2F4aO",
        "outputId": "a9407f6c-e766-414a-d6b7-4bb164361b51"
      },
      "execution_count": null,
      "outputs": [
        {
          "output_type": "display_data",
          "data": {
            "text/html": [
              "<table class=\"dataframe\">\n",
              "<caption>A data.frame: 6 × 2</caption>\n",
              "<thead>\n",
              "\t<tr><th></th><th scope=col>Name</th><th scope=col>Age</th></tr>\n",
              "\t<tr><th></th><th scope=col>&lt;chr&gt;</th><th scope=col>&lt;dbl&gt;</th></tr>\n",
              "</thead>\n",
              "<tbody>\n",
              "\t<tr><th scope=row>1</th><td>Yahia</td><td>21</td></tr>\n",
              "\t<tr><th scope=row>2</th><td>Abdo </td><td>20</td></tr>\n",
              "\t<tr><th scope=row>3</th><td>Ammar</td><td>19</td></tr>\n",
              "\t<tr><th scope=row>4</th><td>Saeed</td><td>20</td></tr>\n",
              "\t<tr><th scope=row>5</th><td>Waeel</td><td>20</td></tr>\n",
              "\t<tr><th scope=row>6</th><td>NA   </td><td>NA</td></tr>\n",
              "</tbody>\n",
              "</table>\n"
            ],
            "text/markdown": "\nA data.frame: 6 × 2\n\n| <!--/--> | Name &lt;chr&gt; | Age &lt;dbl&gt; |\n|---|---|---|\n| 1 | Yahia | 21 |\n| 2 | Abdo  | 20 |\n| 3 | Ammar | 19 |\n| 4 | Saeed | 20 |\n| 5 | Waeel | 20 |\n| 6 | NA    | NA |\n\n",
            "text/latex": "A data.frame: 6 × 2\n\\begin{tabular}{r|ll}\n  & Name & Age\\\\\n  & <chr> & <dbl>\\\\\n\\hline\n\t1 & Yahia & 21\\\\\n\t2 & Abdo  & 20\\\\\n\t3 & Ammar & 19\\\\\n\t4 & Saeed & 20\\\\\n\t5 & Waeel & 20\\\\\n\t6 & NA    & NA\\\\\n\\end{tabular}\n",
            "text/plain": [
              "  Name  Age\n",
              "1 Yahia 21 \n",
              "2 Abdo  20 \n",
              "3 Ammar 19 \n",
              "4 Saeed 20 \n",
              "5 Waeel 20 \n",
              "6 NA    NA "
            ]
          },
          "metadata": {}
        },
        {
          "output_type": "display_data",
          "data": {
            "text/html": [
              "<table class=\"dataframe\">\n",
              "<caption>A data.frame: 5 × 2</caption>\n",
              "<thead>\n",
              "\t<tr><th></th><th scope=col>Name</th><th scope=col>Age</th></tr>\n",
              "\t<tr><th></th><th scope=col>&lt;chr&gt;</th><th scope=col>&lt;dbl&gt;</th></tr>\n",
              "</thead>\n",
              "<tbody>\n",
              "\t<tr><th scope=row>1</th><td>Yahia</td><td>21</td></tr>\n",
              "\t<tr><th scope=row>2</th><td>Abdo </td><td>20</td></tr>\n",
              "\t<tr><th scope=row>3</th><td>Ammar</td><td>19</td></tr>\n",
              "\t<tr><th scope=row>4</th><td>Saeed</td><td>20</td></tr>\n",
              "\t<tr><th scope=row>5</th><td>Waeel</td><td>20</td></tr>\n",
              "</tbody>\n",
              "</table>\n"
            ],
            "text/markdown": "\nA data.frame: 5 × 2\n\n| <!--/--> | Name &lt;chr&gt; | Age &lt;dbl&gt; |\n|---|---|---|\n| 1 | Yahia | 21 |\n| 2 | Abdo  | 20 |\n| 3 | Ammar | 19 |\n| 4 | Saeed | 20 |\n| 5 | Waeel | 20 |\n\n",
            "text/latex": "A data.frame: 5 × 2\n\\begin{tabular}{r|ll}\n  & Name & Age\\\\\n  & <chr> & <dbl>\\\\\n\\hline\n\t1 & Yahia & 21\\\\\n\t2 & Abdo  & 20\\\\\n\t3 & Ammar & 19\\\\\n\t4 & Saeed & 20\\\\\n\t5 & Waeel & 20\\\\\n\\end{tabular}\n",
            "text/plain": [
              "  Name  Age\n",
              "1 Yahia 21 \n",
              "2 Abdo  20 \n",
              "3 Ammar 19 \n",
              "4 Saeed 20 \n",
              "5 Waeel 20 "
            ]
          },
          "metadata": {}
        }
      ]
    },
    {
      "cell_type": "markdown",
      "source": [
        "# Change column name"
      ],
      "metadata": {
        "id": "UGQStXU2B6iv"
      }
    },
    {
      "cell_type": "code",
      "source": [
        "df <- data.frame (\n",
        "  Name = c(\"Yahia\", \"Abdo\", \"Ammar\", \"Saeed\", \"Waeel\"),\n",
        "  Age = c(21, 20, 19, 20, 20),\n",
        "  College = c(\"science\", \"computer sci.\", \"Engineering\", \"computer sci.\", \"Engineering\")\n",
        ")\n",
        "\n",
        "names(df)[3] <- \"Studying\"\n",
        "df"
      ],
      "metadata": {
        "colab": {
          "base_uri": "https://localhost:8080/",
          "height": 255
        },
        "id": "y5qY87WKB8-G",
        "outputId": "c2bacdac-c435-4cc8-d733-5c4449df72af"
      },
      "execution_count": null,
      "outputs": [
        {
          "output_type": "display_data",
          "data": {
            "text/html": [
              "<table class=\"dataframe\">\n",
              "<caption>A data.frame: 5 × 3</caption>\n",
              "<thead>\n",
              "\t<tr><th scope=col>Name</th><th scope=col>Age</th><th scope=col>Studying</th></tr>\n",
              "\t<tr><th scope=col>&lt;chr&gt;</th><th scope=col>&lt;dbl&gt;</th><th scope=col>&lt;chr&gt;</th></tr>\n",
              "</thead>\n",
              "<tbody>\n",
              "\t<tr><td>Yahia</td><td>21</td><td>science      </td></tr>\n",
              "\t<tr><td>Abdo </td><td>20</td><td>computer sci.</td></tr>\n",
              "\t<tr><td>Ammar</td><td>19</td><td>Engineering  </td></tr>\n",
              "\t<tr><td>Saeed</td><td>20</td><td>computer sci.</td></tr>\n",
              "\t<tr><td>Waeel</td><td>20</td><td>Engineering  </td></tr>\n",
              "</tbody>\n",
              "</table>\n"
            ],
            "text/markdown": "\nA data.frame: 5 × 3\n\n| Name &lt;chr&gt; | Age &lt;dbl&gt; | Studying &lt;chr&gt; |\n|---|---|---|\n| Yahia | 21 | science       |\n| Abdo  | 20 | computer sci. |\n| Ammar | 19 | Engineering   |\n| Saeed | 20 | computer sci. |\n| Waeel | 20 | Engineering   |\n\n",
            "text/latex": "A data.frame: 5 × 3\n\\begin{tabular}{lll}\n Name & Age & Studying\\\\\n <chr> & <dbl> & <chr>\\\\\n\\hline\n\t Yahia & 21 & science      \\\\\n\t Abdo  & 20 & computer sci.\\\\\n\t Ammar & 19 & Engineering  \\\\\n\t Saeed & 20 & computer sci.\\\\\n\t Waeel & 20 & Engineering  \\\\\n\\end{tabular}\n",
            "text/plain": [
              "  Name  Age Studying     \n",
              "1 Yahia 21  science      \n",
              "2 Abdo  20  computer sci.\n",
              "3 Ammar 19  Engineering  \n",
              "4 Saeed 20  computer sci.\n",
              "5 Waeel 20  Engineering  "
            ]
          },
          "metadata": {}
        }
      ]
    },
    {
      "cell_type": "markdown",
      "source": [
        "#Number of Rows and Columns"
      ],
      "metadata": {
        "id": "g3gIZIXWdZG2"
      }
    },
    {
      "cell_type": "code",
      "source": [
        "df <- data.frame (\n",
        "  Name = c(\"Yahia\", \"Abdo\", \"Ammar\", \"Saeed\", \"Waeel\"),\n",
        "  Age = c(21, 20, 19, 20, 20)\n",
        ")\n",
        "\n",
        "\n",
        "dim(df)\n",
        "nrow(df)\n",
        "ncol(df)"
      ],
      "metadata": {
        "colab": {
          "base_uri": "https://localhost:8080/",
          "height": 69
        },
        "id": "KmZO2I6odY2-",
        "outputId": "914df4a4-2efc-4e70-f235-9308dadc1b97"
      },
      "execution_count": null,
      "outputs": [
        {
          "output_type": "display_data",
          "data": {
            "text/html": [
              "<style>\n",
              ".list-inline {list-style: none; margin:0; padding: 0}\n",
              ".list-inline>li {display: inline-block}\n",
              ".list-inline>li:not(:last-child)::after {content: \"\\00b7\"; padding: 0 .5ex}\n",
              "</style>\n",
              "<ol class=list-inline><li>5</li><li>2</li></ol>\n"
            ],
            "text/markdown": "1. 5\n2. 2\n\n\n",
            "text/latex": "\\begin{enumerate*}\n\\item 5\n\\item 2\n\\end{enumerate*}\n",
            "text/plain": [
              "[1] 5 2"
            ]
          },
          "metadata": {}
        },
        {
          "output_type": "display_data",
          "data": {
            "text/html": [
              "5"
            ],
            "text/markdown": "5",
            "text/latex": "5",
            "text/plain": [
              "[1] 5"
            ]
          },
          "metadata": {}
        },
        {
          "output_type": "display_data",
          "data": {
            "text/html": [
              "2"
            ],
            "text/markdown": "2",
            "text/latex": "2",
            "text/plain": [
              "[1] 2"
            ]
          },
          "metadata": {}
        }
      ]
    },
    {
      "cell_type": "markdown",
      "source": [
        "#Data frame Length"
      ],
      "metadata": {
        "id": "kePIsrs_djdH"
      }
    },
    {
      "cell_type": "code",
      "source": [
        "df <- data.frame (\n",
        "  Name = c(\"Yahia\", \"Abdo\", \"Ammar\", \"Saeed\", \"Waeel\"),\n",
        "  Age = c(21, 20, 19, 20, 20),\n",
        "  College = c(\"science\", \"computer sci.\", \"Engineering\", \"computer sci.\", \"Engineering\")\n",
        ")\n",
        "\n",
        "length(df)\n"
      ],
      "metadata": {
        "colab": {
          "base_uri": "https://localhost:8080/",
          "height": 34
        },
        "id": "r1MFAd86dipO",
        "outputId": "d400ecf8-fa82-4ab1-e9d1-d1b5808f0a15"
      },
      "execution_count": null,
      "outputs": [
        {
          "output_type": "display_data",
          "data": {
            "text/html": [
              "3"
            ],
            "text/markdown": "3",
            "text/latex": "3",
            "text/plain": [
              "[1] 3"
            ]
          },
          "metadata": {}
        }
      ]
    },
    {
      "cell_type": "markdown",
      "source": [
        "# Combining Data Frames"
      ],
      "metadata": {
        "id": "z8FSKQn7KFoY"
      }
    },
    {
      "cell_type": "code",
      "source": [
        "df1 <- data.frame (\n",
        "  Name = c(\"Yahia\", \"Abdo\", \"Ammar\", \"Saeed\", \"Waeel\"),\n",
        "  Age = c(21, 20, 19, 20, 20),\n",
        "  College = c(\"science\", \"computer sci.\", \"Engineering\", \"computer sci.\", \"Engineering\")\n",
        ")\n",
        "\n",
        "df2 <- data.frame (\n",
        "  Name = c(\"Mohannad\", \"Anas\"),\n",
        "  Age = c(20, 20),\n",
        "  College = c(\"computer sci.\", \"Commerce\")\n",
        ")\n",
        "\n",
        "df3 <- rbind(df1, df2)       #with the same columns\n",
        "df3\n"
      ],
      "metadata": {
        "colab": {
          "base_uri": "https://localhost:8080/",
          "height": 318
        },
        "id": "TsL5GZJ5KGmP",
        "outputId": "83bac1d5-af10-43e7-8f80-a006dea3422b"
      },
      "execution_count": null,
      "outputs": [
        {
          "output_type": "display_data",
          "data": {
            "text/html": [
              "<table class=\"dataframe\">\n",
              "<caption>A data.frame: 7 × 3</caption>\n",
              "<thead>\n",
              "\t<tr><th scope=col>Name</th><th scope=col>Age</th><th scope=col>College</th></tr>\n",
              "\t<tr><th scope=col>&lt;chr&gt;</th><th scope=col>&lt;dbl&gt;</th><th scope=col>&lt;chr&gt;</th></tr>\n",
              "</thead>\n",
              "<tbody>\n",
              "\t<tr><td>Yahia   </td><td>21</td><td>science      </td></tr>\n",
              "\t<tr><td>Abdo    </td><td>20</td><td>computer sci.</td></tr>\n",
              "\t<tr><td>Ammar   </td><td>19</td><td>Engineering  </td></tr>\n",
              "\t<tr><td>Saeed   </td><td>20</td><td>computer sci.</td></tr>\n",
              "\t<tr><td>Waeel   </td><td>20</td><td>Engineering  </td></tr>\n",
              "\t<tr><td>Mohannad</td><td>20</td><td>computer sci.</td></tr>\n",
              "\t<tr><td>Anas    </td><td>20</td><td>computer sci.</td></tr>\n",
              "</tbody>\n",
              "</table>\n"
            ],
            "text/markdown": "\nA data.frame: 7 × 3\n\n| Name &lt;chr&gt; | Age &lt;dbl&gt; | College &lt;chr&gt; |\n|---|---|---|\n| Yahia    | 21 | science       |\n| Abdo     | 20 | computer sci. |\n| Ammar    | 19 | Engineering   |\n| Saeed    | 20 | computer sci. |\n| Waeel    | 20 | Engineering   |\n| Mohannad | 20 | computer sci. |\n| Anas     | 20 | computer sci. |\n\n",
            "text/latex": "A data.frame: 7 × 3\n\\begin{tabular}{lll}\n Name & Age & College\\\\\n <chr> & <dbl> & <chr>\\\\\n\\hline\n\t Yahia    & 21 & science      \\\\\n\t Abdo     & 20 & computer sci.\\\\\n\t Ammar    & 19 & Engineering  \\\\\n\t Saeed    & 20 & computer sci.\\\\\n\t Waeel    & 20 & Engineering  \\\\\n\t Mohannad & 20 & computer sci.\\\\\n\t Anas     & 20 & computer sci.\\\\\n\\end{tabular}\n",
            "text/plain": [
              "  Name     Age College      \n",
              "1 Yahia    21  science      \n",
              "2 Abdo     20  computer sci.\n",
              "3 Ammar    19  Engineering  \n",
              "4 Saeed    20  computer sci.\n",
              "5 Waeel    20  Engineering  \n",
              "6 Mohannad 20  computer sci.\n",
              "7 Anas     20  computer sci."
            ]
          },
          "metadata": {}
        }
      ]
    },
    {
      "cell_type": "code",
      "source": [
        "df1 <- data.frame (\n",
        "  Name = c(\"Yahia\", \"Abdo\", \"Ammar\", \"Saeed\", \"Waeel\"),\n",
        "  Age = c(21, 20, 19, 20, 20),\n",
        "  College = c(\"science\", \"computer sci.\", \"Engineering\", \"computer sci.\", \"Engineering\")\n",
        ")\n",
        "\n",
        "df2 <- data.frame (\n",
        "  GPA = c(2.0, 2.9, 2.5, 1.9, 2.9),\n",
        "  Sports = c(\"calisthenics\", \"Foot ball\", \"Foot ball\", \"Foot ball\", \"Foot ball\")\n",
        ")\n",
        "\n",
        "df3 <- cbind(df1, df2)       #with the same columns\n",
        "df3"
      ],
      "metadata": {
        "colab": {
          "base_uri": "https://localhost:8080/",
          "height": 255
        },
        "id": "Lx0U2uNqK65O",
        "outputId": "08f9fef8-be74-4a40-ee54-50477193003c"
      },
      "execution_count": null,
      "outputs": [
        {
          "output_type": "display_data",
          "data": {
            "text/html": [
              "<table class=\"dataframe\">\n",
              "<caption>A data.frame: 5 × 5</caption>\n",
              "<thead>\n",
              "\t<tr><th scope=col>Name</th><th scope=col>Age</th><th scope=col>College</th><th scope=col>GPA</th><th scope=col>Sports</th></tr>\n",
              "\t<tr><th scope=col>&lt;chr&gt;</th><th scope=col>&lt;dbl&gt;</th><th scope=col>&lt;chr&gt;</th><th scope=col>&lt;dbl&gt;</th><th scope=col>&lt;chr&gt;</th></tr>\n",
              "</thead>\n",
              "<tbody>\n",
              "\t<tr><td>Yahia</td><td>21</td><td>science      </td><td>2.0</td><td>calisthenics</td></tr>\n",
              "\t<tr><td>Abdo </td><td>20</td><td>computer sci.</td><td>2.9</td><td>Foot ball   </td></tr>\n",
              "\t<tr><td>Ammar</td><td>19</td><td>Engineering  </td><td>2.5</td><td>Foot ball   </td></tr>\n",
              "\t<tr><td>Saeed</td><td>20</td><td>computer sci.</td><td>1.9</td><td>Foot ball   </td></tr>\n",
              "\t<tr><td>Waeel</td><td>20</td><td>Engineering  </td><td>2.9</td><td>Foot ball   </td></tr>\n",
              "</tbody>\n",
              "</table>\n"
            ],
            "text/markdown": "\nA data.frame: 5 × 5\n\n| Name &lt;chr&gt; | Age &lt;dbl&gt; | College &lt;chr&gt; | GPA &lt;dbl&gt; | Sports &lt;chr&gt; |\n|---|---|---|---|---|\n| Yahia | 21 | science       | 2.0 | calisthenics |\n| Abdo  | 20 | computer sci. | 2.9 | Foot ball    |\n| Ammar | 19 | Engineering   | 2.5 | Foot ball    |\n| Saeed | 20 | computer sci. | 1.9 | Foot ball    |\n| Waeel | 20 | Engineering   | 2.9 | Foot ball    |\n\n",
            "text/latex": "A data.frame: 5 × 5\n\\begin{tabular}{lllll}\n Name & Age & College & GPA & Sports\\\\\n <chr> & <dbl> & <chr> & <dbl> & <chr>\\\\\n\\hline\n\t Yahia & 21 & science       & 2.0 & calisthenics\\\\\n\t Abdo  & 20 & computer sci. & 2.9 & Foot ball   \\\\\n\t Ammar & 19 & Engineering   & 2.5 & Foot ball   \\\\\n\t Saeed & 20 & computer sci. & 1.9 & Foot ball   \\\\\n\t Waeel & 20 & Engineering   & 2.9 & Foot ball   \\\\\n\\end{tabular}\n",
            "text/plain": [
              "  Name  Age College       GPA Sports      \n",
              "1 Yahia 21  science       2.0 calisthenics\n",
              "2 Abdo  20  computer sci. 2.9 Foot ball   \n",
              "3 Ammar 19  Engineering   2.5 Foot ball   \n",
              "4 Saeed 20  computer sci. 1.9 Foot ball   \n",
              "5 Waeel 20  Engineering   2.9 Foot ball   "
            ]
          },
          "metadata": {}
        }
      ]
    }
  ]
}