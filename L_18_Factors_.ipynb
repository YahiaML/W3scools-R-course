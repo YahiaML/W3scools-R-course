{
  "nbformat": 4,
  "nbformat_minor": 0,
  "metadata": {
    "colab": {
      "name": "L_18 Factors .ipynb",
      "provenance": [],
      "collapsed_sections": [],
      "authorship_tag": "ABX9TyO0LDEj4t7eteYcRsQJcKt8",
      "include_colab_link": true
    },
    "kernelspec": {
      "name": "ir",
      "display_name": "R"
    },
    "language_info": {
      "name": "R"
    }
  },
  "cells": [
    {
      "cell_type": "markdown",
      "metadata": {
        "id": "view-in-github",
        "colab_type": "text"
      },
      "source": [
        "<a href=\"https://colab.research.google.com/github/YahiaML/W3scools-R-course/blob/main/L_18_Factors_.ipynb\" target=\"_parent\"><img src=\"https://colab.research.google.com/assets/colab-badge.svg\" alt=\"Open In Colab\"/></a>"
      ]
    },
    {
      "cell_type": "markdown",
      "source": [
        "# Forming a Factor"
      ],
      "metadata": {
        "id": "OZvG-L9iW6Xb"
      }
    },
    {
      "cell_type": "markdown",
      "source": [
        "Factors are used to categorize data. Examples of factors are:\n",
        "\n",
        "**Demography:** Male/Female\n",
        "\n",
        "**Music:** Rock, Pop, Classic, Jazz\n",
        "\n",
        "**Training:** Strength, Stamina"
      ],
      "metadata": {
        "id": "u9gcUi6Cciiv"
      }
    },
    {
      "cell_type": "code",
      "source": [
        "Colleges <- factor(c(\"science\", \"computer sci.\", \"Engineering\", \"computer sci.\", \"Engineering\"))\n",
        "Colleges\n",
        "levels(Colleges)     #collect the unique charecters without repeating"
      ],
      "metadata": {
        "colab": {
          "base_uri": "https://localhost:8080/",
          "height": 86
        },
        "id": "LUPRWIjWVzes",
        "outputId": "bad72251-0619-418c-e58f-751fb42acd8a"
      },
      "execution_count": 54,
      "outputs": [
        {
          "output_type": "display_data",
          "data": {
            "text/html": [
              "<style>\n",
              ".list-inline {list-style: none; margin:0; padding: 0}\n",
              ".list-inline>li {display: inline-block}\n",
              ".list-inline>li:not(:last-child)::after {content: \"\\00b7\"; padding: 0 .5ex}\n",
              "</style>\n",
              "<ol class=list-inline><li>science</li><li>computer sci.</li><li>Engineering</li><li>computer sci.</li><li>Engineering</li></ol>\n",
              "\n",
              "<details>\n",
              "\t<summary style=display:list-item;cursor:pointer>\n",
              "\t\t<strong>Levels</strong>:\n",
              "\t</summary>\n",
              "\t<style>\n",
              "\t.list-inline {list-style: none; margin:0; padding: 0}\n",
              "\t.list-inline>li {display: inline-block}\n",
              "\t.list-inline>li:not(:last-child)::after {content: \"\\00b7\"; padding: 0 .5ex}\n",
              "\t</style>\n",
              "\t<ol class=list-inline><li>'computer sci.'</li><li>'Engineering'</li><li>'science'</li></ol>\n",
              "</details>"
            ],
            "text/markdown": "1. science\n2. computer sci.\n3. Engineering\n4. computer sci.\n5. Engineering\n\n\n\n**Levels**: 1. 'computer sci.'\n2. 'Engineering'\n3. 'science'\n\n\n",
            "text/latex": "\\begin{enumerate*}\n\\item science\n\\item computer sci.\n\\item Engineering\n\\item computer sci.\n\\item Engineering\n\\end{enumerate*}\n\n\\emph{Levels}: \\begin{enumerate*}\n\\item 'computer sci.'\n\\item 'Engineering'\n\\item 'science'\n\\end{enumerate*}\n",
            "text/plain": [
              "[1] science       computer sci. Engineering   computer sci. Engineering  \n",
              "Levels: computer sci. Engineering science"
            ]
          },
          "metadata": {}
        },
        {
          "output_type": "display_data",
          "data": {
            "text/html": [
              "<style>\n",
              ".list-inline {list-style: none; margin:0; padding: 0}\n",
              ".list-inline>li {display: inline-block}\n",
              ".list-inline>li:not(:last-child)::after {content: \"\\00b7\"; padding: 0 .5ex}\n",
              "</style>\n",
              "<ol class=list-inline><li>'computer sci.'</li><li>'Engineering'</li><li>'science'</li></ol>\n"
            ],
            "text/markdown": "1. 'computer sci.'\n2. 'Engineering'\n3. 'science'\n\n\n",
            "text/latex": "\\begin{enumerate*}\n\\item 'computer sci.'\n\\item 'Engineering'\n\\item 'science'\n\\end{enumerate*}\n",
            "text/plain": [
              "[1] \"computer sci.\" \"Engineering\"   \"science\"      "
            ]
          },
          "metadata": {}
        }
      ]
    },
    {
      "cell_type": "code",
      "source": [
        "Colleges <- factor(c(\"science\", \"computer sci.\", \"Engineering\", \"computer sci.\", \"Engineering\"), levels = c('computer sci.','Engineering','science', 'commerce'))\n",
        "Colleges\n",
        "levels(Colleges)    # We can add other levels that is not found in the factor"
      ],
      "metadata": {
        "colab": {
          "base_uri": "https://localhost:8080/",
          "height": 69
        },
        "id": "idLy4GtAddcl",
        "outputId": "73bd7c69-099c-413f-9371-ccf8196327f2"
      },
      "execution_count": 58,
      "outputs": [
        {
          "output_type": "display_data",
          "data": {
            "text/html": [
              "<style>\n",
              ".list-inline {list-style: none; margin:0; padding: 0}\n",
              ".list-inline>li {display: inline-block}\n",
              ".list-inline>li:not(:last-child)::after {content: \"\\00b7\"; padding: 0 .5ex}\n",
              "</style>\n",
              "<ol class=list-inline><li>science</li><li>computer sci.</li><li>Engineering</li><li>computer sci.</li><li>Engineering</li></ol>\n",
              "\n",
              "<details>\n",
              "\t<summary style=display:list-item;cursor:pointer>\n",
              "\t\t<strong>Levels</strong>:\n",
              "\t</summary>\n",
              "\t<style>\n",
              "\t.list-inline {list-style: none; margin:0; padding: 0}\n",
              "\t.list-inline>li {display: inline-block}\n",
              "\t.list-inline>li:not(:last-child)::after {content: \"\\00b7\"; padding: 0 .5ex}\n",
              "\t</style>\n",
              "\t<ol class=list-inline><li>'computer sci.'</li><li>'Engineering'</li><li>'science'</li><li>'commerce'</li></ol>\n",
              "</details>"
            ],
            "text/markdown": "1. science\n2. computer sci.\n3. Engineering\n4. computer sci.\n5. Engineering\n\n\n\n**Levels**: 1. 'computer sci.'\n2. 'Engineering'\n3. 'science'\n4. 'commerce'\n\n\n",
            "text/latex": "\\begin{enumerate*}\n\\item science\n\\item computer sci.\n\\item Engineering\n\\item computer sci.\n\\item Engineering\n\\end{enumerate*}\n\n\\emph{Levels}: \\begin{enumerate*}\n\\item 'computer sci.'\n\\item 'Engineering'\n\\item 'science'\n\\item 'commerce'\n\\end{enumerate*}\n",
            "text/plain": [
              "[1] science       computer sci. Engineering   computer sci. Engineering  \n",
              "Levels: computer sci. Engineering science commerce"
            ]
          },
          "metadata": {}
        },
        {
          "output_type": "display_data",
          "data": {
            "text/html": [
              "<style>\n",
              ".list-inline {list-style: none; margin:0; padding: 0}\n",
              ".list-inline>li {display: inline-block}\n",
              ".list-inline>li:not(:last-child)::after {content: \"\\00b7\"; padding: 0 .5ex}\n",
              "</style>\n",
              "<ol class=list-inline><li>'computer sci.'</li><li>'Engineering'</li><li>'science'</li><li>'commerce'</li></ol>\n"
            ],
            "text/markdown": "1. 'computer sci.'\n2. 'Engineering'\n3. 'science'\n4. 'commerce'\n\n\n",
            "text/latex": "\\begin{enumerate*}\n\\item 'computer sci.'\n\\item 'Engineering'\n\\item 'science'\n\\item 'commerce'\n\\end{enumerate*}\n",
            "text/plain": [
              "[1] \"computer sci.\" \"Engineering\"   \"science\"       \"commerce\"     "
            ]
          },
          "metadata": {}
        }
      ]
    },
    {
      "cell_type": "markdown",
      "source": [
        "#Access Factor"
      ],
      "metadata": {
        "id": "SF1JfYtadK_X"
      }
    },
    {
      "cell_type": "code",
      "source": [
        "Colleges <- factor(c(\"science\", \"computer sci.\", \"Engineering\", \"computer sci.\", \"Engineering\"), levels = c('computer sci.','Engineering','science', 'commerce'))\n",
        "Colleges[1]"
      ],
      "metadata": {
        "colab": {
          "base_uri": "https://localhost:8080/",
          "height": 52
        },
        "id": "7-48EicmdJNY",
        "outputId": "32c66f9c-6663-4eb6-89ec-8b8371a16ff3"
      },
      "execution_count": 59,
      "outputs": [
        {
          "output_type": "display_data",
          "data": {
            "text/html": [
              "science\n",
              "<details>\n",
              "\t<summary style=display:list-item;cursor:pointer>\n",
              "\t\t<strong>Levels</strong>:\n",
              "\t</summary>\n",
              "\t<style>\n",
              "\t.list-inline {list-style: none; margin:0; padding: 0}\n",
              "\t.list-inline>li {display: inline-block}\n",
              "\t.list-inline>li:not(:last-child)::after {content: \"\\00b7\"; padding: 0 .5ex}\n",
              "\t</style>\n",
              "\t<ol class=list-inline><li>'computer sci.'</li><li>'Engineering'</li><li>'science'</li><li>'commerce'</li></ol>\n",
              "</details>"
            ],
            "text/markdown": "science\n**Levels**: 1. 'computer sci.'\n2. 'Engineering'\n3. 'science'\n4. 'commerce'\n\n\n",
            "text/latex": "science\n\\emph{Levels}: \\begin{enumerate*}\n\\item 'computer sci.'\n\\item 'Engineering'\n\\item 'science'\n\\item 'commerce'\n\\end{enumerate*}\n",
            "text/plain": [
              "[1] science\n",
              "Levels: computer sci. Engineering science commerce"
            ]
          },
          "metadata": {}
        }
      ]
    },
    {
      "cell_type": "markdown",
      "source": [
        "# Change Item value"
      ],
      "metadata": {
        "id": "UGQStXU2B6iv"
      }
    },
    {
      "cell_type": "code",
      "source": [
        "Colleges <- factor(c(\"science\", \"computer sci.\", \"Engineering\", \"computer sci.\", \"Engineering\"), levels = c('computer sci.','Engineering','science', 'commerce'))\n",
        "\n",
        "Colleges[2] <- \"commerce\"     # we can not change it with values that are not foung in levels\n",
        "Colleges"
      ],
      "metadata": {
        "colab": {
          "base_uri": "https://localhost:8080/",
          "height": 52
        },
        "id": "y5qY87WKB8-G",
        "outputId": "9293953d-f46d-418d-89f3-c068dd8e9e27"
      },
      "execution_count": 60,
      "outputs": [
        {
          "output_type": "display_data",
          "data": {
            "text/html": [
              "<style>\n",
              ".list-inline {list-style: none; margin:0; padding: 0}\n",
              ".list-inline>li {display: inline-block}\n",
              ".list-inline>li:not(:last-child)::after {content: \"\\00b7\"; padding: 0 .5ex}\n",
              "</style>\n",
              "<ol class=list-inline><li>science</li><li>commerce</li><li>Engineering</li><li>computer sci.</li><li>Engineering</li></ol>\n",
              "\n",
              "<details>\n",
              "\t<summary style=display:list-item;cursor:pointer>\n",
              "\t\t<strong>Levels</strong>:\n",
              "\t</summary>\n",
              "\t<style>\n",
              "\t.list-inline {list-style: none; margin:0; padding: 0}\n",
              "\t.list-inline>li {display: inline-block}\n",
              "\t.list-inline>li:not(:last-child)::after {content: \"\\00b7\"; padding: 0 .5ex}\n",
              "\t</style>\n",
              "\t<ol class=list-inline><li>'computer sci.'</li><li>'Engineering'</li><li>'science'</li><li>'commerce'</li></ol>\n",
              "</details>"
            ],
            "text/markdown": "1. science\n2. commerce\n3. Engineering\n4. computer sci.\n5. Engineering\n\n\n\n**Levels**: 1. 'computer sci.'\n2. 'Engineering'\n3. 'science'\n4. 'commerce'\n\n\n",
            "text/latex": "\\begin{enumerate*}\n\\item science\n\\item commerce\n\\item Engineering\n\\item computer sci.\n\\item Engineering\n\\end{enumerate*}\n\n\\emph{Levels}: \\begin{enumerate*}\n\\item 'computer sci.'\n\\item 'Engineering'\n\\item 'science'\n\\item 'commerce'\n\\end{enumerate*}\n",
            "text/plain": [
              "[1] science       commerce      Engineering   computer sci. Engineering  \n",
              "Levels: computer sci. Engineering science commerce"
            ]
          },
          "metadata": {}
        }
      ]
    },
    {
      "cell_type": "markdown",
      "source": [
        "#Factor Length"
      ],
      "metadata": {
        "id": "kePIsrs_djdH"
      }
    },
    {
      "cell_type": "code",
      "source": [
        "Colleges <- factor(c(\"science\", \"computer sci.\", \"Engineering\", \"computer sci.\", \"Engineering\"), levels = c('computer sci.','Engineering','science', 'commerce'))\n",
        "\n",
        "length(Colleges)\n"
      ],
      "metadata": {
        "colab": {
          "base_uri": "https://localhost:8080/",
          "height": 34
        },
        "id": "r1MFAd86dipO",
        "outputId": "3b54710a-269c-4089-9443-ae0a0d7539b2"
      },
      "execution_count": 61,
      "outputs": [
        {
          "output_type": "display_data",
          "data": {
            "text/html": [
              "5"
            ],
            "text/markdown": "5",
            "text/latex": "5",
            "text/plain": [
              "[1] 5"
            ]
          },
          "metadata": {}
        }
      ]
    }
  ]
}