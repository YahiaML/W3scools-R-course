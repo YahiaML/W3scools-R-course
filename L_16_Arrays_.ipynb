{
  "nbformat": 4,
  "nbformat_minor": 0,
  "metadata": {
    "colab": {
      "name": "L_16 Arrays .ipynb",
      "provenance": [],
      "collapsed_sections": [],
      "authorship_tag": "ABX9TyMGAfhaOCzNMBm+BL6/o4nC",
      "include_colab_link": true
    },
    "kernelspec": {
      "name": "ir",
      "display_name": "R"
    },
    "language_info": {
      "name": "R"
    }
  },
  "cells": [
    {
      "cell_type": "markdown",
      "metadata": {
        "id": "view-in-github",
        "colab_type": "text"
      },
      "source": [
        "<a href=\"https://colab.research.google.com/github/YahiaML/W3scools-R-course/blob/main/L_16_Arrays_.ipynb\" target=\"_parent\"><img src=\"https://colab.research.google.com/assets/colab-badge.svg\" alt=\"Open In Colab\"/></a>"
      ]
    },
    {
      "cell_type": "markdown",
      "source": [
        "# Forming an Array"
      ],
      "metadata": {
        "id": "OZvG-L9iW6Xb"
      }
    },
    {
      "cell_type": "code",
      "source": [
        "# An array with one dimension with values ranging from 1 to 24\n",
        "thisarray <- c(1:24)\n",
        "thisarray\n",
        "\n",
        "# An array with more than one dimension\n",
        "multiarray <- array(thisarray, dim = c(4, 3, 2))   # dim=c(num of rows, num of columns, num of dimensions) \n",
        "multiarray"
      ],
      "metadata": {
        "colab": {
          "base_uri": "https://localhost:8080/",
          "height": 52
        },
        "id": "LUPRWIjWVzes",
        "outputId": "a399b1ae-4e74-4f5b-9862-cf12da6618b8"
      },
      "execution_count": 1,
      "outputs": [
        {
          "output_type": "display_data",
          "data": {
            "text/html": [
              "<style>\n",
              ".list-inline {list-style: none; margin:0; padding: 0}\n",
              ".list-inline>li {display: inline-block}\n",
              ".list-inline>li:not(:last-child)::after {content: \"\\00b7\"; padding: 0 .5ex}\n",
              "</style>\n",
              "<ol class=list-inline><li>1</li><li>2</li><li>3</li><li>4</li><li>5</li><li>6</li><li>7</li><li>8</li><li>9</li><li>10</li><li>11</li><li>12</li><li>13</li><li>14</li><li>15</li><li>16</li><li>17</li><li>18</li><li>19</li><li>20</li><li>21</li><li>22</li><li>23</li><li>24</li></ol>\n"
            ],
            "text/markdown": "1. 1\n2. 2\n3. 3\n4. 4\n5. 5\n6. 6\n7. 7\n8. 8\n9. 9\n10. 10\n11. 11\n12. 12\n13. 13\n14. 14\n15. 15\n16. 16\n17. 17\n18. 18\n19. 19\n20. 20\n21. 21\n22. 22\n23. 23\n24. 24\n\n\n",
            "text/latex": "\\begin{enumerate*}\n\\item 1\n\\item 2\n\\item 3\n\\item 4\n\\item 5\n\\item 6\n\\item 7\n\\item 8\n\\item 9\n\\item 10\n\\item 11\n\\item 12\n\\item 13\n\\item 14\n\\item 15\n\\item 16\n\\item 17\n\\item 18\n\\item 19\n\\item 20\n\\item 21\n\\item 22\n\\item 23\n\\item 24\n\\end{enumerate*}\n",
            "text/plain": [
              " [1]  1  2  3  4  5  6  7  8  9 10 11 12 13 14 15 16 17 18 19 20 21 22 23 24"
            ]
          },
          "metadata": {}
        },
        {
          "output_type": "display_data",
          "data": {
            "text/html": [
              "<style>\n",
              ".list-inline {list-style: none; margin:0; padding: 0}\n",
              ".list-inline>li {display: inline-block}\n",
              ".list-inline>li:not(:last-child)::after {content: \"\\00b7\"; padding: 0 .5ex}\n",
              "</style>\n",
              "<ol class=list-inline><li>1</li><li>2</li><li>3</li><li>4</li><li>5</li><li>6</li><li>7</li><li>8</li><li>9</li><li>10</li><li>11</li><li>12</li><li>13</li><li>14</li><li>15</li><li>16</li><li>17</li><li>18</li><li>19</li><li>20</li><li>21</li><li>22</li><li>23</li><li>24</li></ol>\n"
            ],
            "text/markdown": "1. 1\n2. 2\n3. 3\n4. 4\n5. 5\n6. 6\n7. 7\n8. 8\n9. 9\n10. 10\n11. 11\n12. 12\n13. 13\n14. 14\n15. 15\n16. 16\n17. 17\n18. 18\n19. 19\n20. 20\n21. 21\n22. 22\n23. 23\n24. 24\n\n\n",
            "text/latex": "\\begin{enumerate*}\n\\item 1\n\\item 2\n\\item 3\n\\item 4\n\\item 5\n\\item 6\n\\item 7\n\\item 8\n\\item 9\n\\item 10\n\\item 11\n\\item 12\n\\item 13\n\\item 14\n\\item 15\n\\item 16\n\\item 17\n\\item 18\n\\item 19\n\\item 20\n\\item 21\n\\item 22\n\\item 23\n\\item 24\n\\end{enumerate*}\n",
            "text/plain": [
              ", , 1\n",
              "\n",
              "     [,1] [,2] [,3]\n",
              "[1,]    1    5    9\n",
              "[2,]    2    6   10\n",
              "[3,]    3    7   11\n",
              "[4,]    4    8   12\n",
              "\n",
              ", , 2\n",
              "\n",
              "     [,1] [,2] [,3]\n",
              "[1,]   13   17   21\n",
              "[2,]   14   18   22\n",
              "[3,]   15   19   23\n",
              "[4,]   16   20   24\n"
            ]
          },
          "metadata": {}
        }
      ]
    },
    {
      "cell_type": "markdown",
      "source": [
        "#Access Array Items"
      ],
      "metadata": {
        "id": "f8vYCt0pXIWi"
      }
    },
    {
      "cell_type": "code",
      "source": [
        "multiarray <- array(c(1:24), dim = c(4, 3, 2))\n",
        "\n",
        "multiarray[2, 3, 2]   # [row position, column position, matrix level (num of dimensions)] \n",
        "\n",
        "multiarray[2, 3, 2]   # Get a value\n",
        "\n",
        "multiarray[c(1),,1]   #get first row from matrix one\n",
        "\n",
        "multiarray[,c(1),1]   #get first column from matrix one"
      ],
      "metadata": {
        "colab": {
          "base_uri": "https://localhost:8080/",
          "height": 86
        },
        "id": "HNYYfxTbXCA7",
        "outputId": "3788878f-6f78-49fb-ef08-16c4e0e0a614"
      },
      "execution_count": 3,
      "outputs": [
        {
          "output_type": "display_data",
          "data": {
            "text/html": [
              "22"
            ],
            "text/markdown": "22",
            "text/latex": "22",
            "text/plain": [
              "[1] 22"
            ]
          },
          "metadata": {}
        },
        {
          "output_type": "display_data",
          "data": {
            "text/html": [
              "22"
            ],
            "text/markdown": "22",
            "text/latex": "22",
            "text/plain": [
              "[1] 22"
            ]
          },
          "metadata": {}
        },
        {
          "output_type": "display_data",
          "data": {
            "text/html": [
              "<style>\n",
              ".list-inline {list-style: none; margin:0; padding: 0}\n",
              ".list-inline>li {display: inline-block}\n",
              ".list-inline>li:not(:last-child)::after {content: \"\\00b7\"; padding: 0 .5ex}\n",
              "</style>\n",
              "<ol class=list-inline><li>1</li><li>5</li><li>9</li></ol>\n"
            ],
            "text/markdown": "1. 1\n2. 5\n3. 9\n\n\n",
            "text/latex": "\\begin{enumerate*}\n\\item 1\n\\item 5\n\\item 9\n\\end{enumerate*}\n",
            "text/plain": [
              "[1] 1 5 9"
            ]
          },
          "metadata": {}
        },
        {
          "output_type": "display_data",
          "data": {
            "text/html": [
              "<style>\n",
              ".list-inline {list-style: none; margin:0; padding: 0}\n",
              ".list-inline>li {display: inline-block}\n",
              ".list-inline>li:not(:last-child)::after {content: \"\\00b7\"; padding: 0 .5ex}\n",
              "</style>\n",
              "<ol class=list-inline><li>1</li><li>2</li><li>3</li><li>4</li></ol>\n"
            ],
            "text/markdown": "1. 1\n2. 2\n3. 3\n4. 4\n\n\n",
            "text/latex": "\\begin{enumerate*}\n\\item 1\n\\item 2\n\\item 3\n\\item 4\n\\end{enumerate*}\n",
            "text/plain": [
              "[1] 1 2 3 4"
            ]
          },
          "metadata": {}
        }
      ]
    },
    {
      "cell_type": "markdown",
      "source": [
        "**Note:**\n",
        "\n",
        "A comma (,) before c() means that we want to access the column.\n",
        "\n",
        "A comma (,) after c() means that we want to access the row."
      ],
      "metadata": {
        "id": "bBDtidzjI0fK"
      }
    },
    {
      "cell_type": "markdown",
      "source": [
        "#Check if an Item Exists"
      ],
      "metadata": {
        "id": "SF1JfYtadK_X"
      }
    },
    {
      "cell_type": "code",
      "source": [
        "multiarray <- array(c(1:24), dim = c(4, 3, 2))\n",
        "\n",
        "2 %in% multiarray"
      ],
      "metadata": {
        "colab": {
          "base_uri": "https://localhost:8080/",
          "height": 34
        },
        "id": "7-48EicmdJNY",
        "outputId": "1f8271d0-c2be-4d8b-92dd-adb7b4f9e644"
      },
      "execution_count": 10,
      "outputs": [
        {
          "output_type": "display_data",
          "data": {
            "text/html": [
              "TRUE"
            ],
            "text/markdown": "TRUE",
            "text/latex": "TRUE",
            "text/plain": [
              "[1] TRUE"
            ]
          },
          "metadata": {}
        }
      ]
    },
    {
      "cell_type": "markdown",
      "source": [
        "#Number of Rows and Columns"
      ],
      "metadata": {
        "id": "g3gIZIXWdZG2"
      }
    },
    {
      "cell_type": "code",
      "source": [
        "multiarray <- array(c(1:24), dim = c(4, 3, 2))\n",
        "\n",
        "dim(multiarray)\n",
        "nrow(multiarray)\n",
        "ncol(multiarray)"
      ],
      "metadata": {
        "colab": {
          "base_uri": "https://localhost:8080/",
          "height": 69
        },
        "id": "KmZO2I6odY2-",
        "outputId": "12e961af-d997-4360-dcb0-854c2061aa68"
      },
      "execution_count": 9,
      "outputs": [
        {
          "output_type": "display_data",
          "data": {
            "text/html": [
              "<style>\n",
              ".list-inline {list-style: none; margin:0; padding: 0}\n",
              ".list-inline>li {display: inline-block}\n",
              ".list-inline>li:not(:last-child)::after {content: \"\\00b7\"; padding: 0 .5ex}\n",
              "</style>\n",
              "<ol class=list-inline><li>4</li><li>3</li><li>2</li></ol>\n"
            ],
            "text/markdown": "1. 4\n2. 3\n3. 2\n\n\n",
            "text/latex": "\\begin{enumerate*}\n\\item 4\n\\item 3\n\\item 2\n\\end{enumerate*}\n",
            "text/plain": [
              "[1] 4 3 2"
            ]
          },
          "metadata": {}
        },
        {
          "output_type": "display_data",
          "data": {
            "text/html": [
              "4"
            ],
            "text/markdown": "4",
            "text/latex": "4",
            "text/plain": [
              "[1] 4"
            ]
          },
          "metadata": {}
        },
        {
          "output_type": "display_data",
          "data": {
            "text/html": [
              "3"
            ],
            "text/markdown": "3",
            "text/latex": "3",
            "text/plain": [
              "[1] 3"
            ]
          },
          "metadata": {}
        }
      ]
    },
    {
      "cell_type": "markdown",
      "source": [
        "#Array Length"
      ],
      "metadata": {
        "id": "kePIsrs_djdH"
      }
    },
    {
      "cell_type": "code",
      "source": [
        "multiarray <- array(c(1:24), dim = c(4, 3, 2))\n",
        "\n",
        "length(multiarray)\n"
      ],
      "metadata": {
        "colab": {
          "base_uri": "https://localhost:8080/",
          "height": 34
        },
        "id": "r1MFAd86dipO",
        "outputId": "e589fc7a-963c-4616-f77c-1b186a094a50"
      },
      "execution_count": 8,
      "outputs": [
        {
          "output_type": "display_data",
          "data": {
            "text/html": [
              "24"
            ],
            "text/markdown": "24",
            "text/latex": "24",
            "text/plain": [
              "[1] 24"
            ]
          },
          "metadata": {}
        }
      ]
    },
    {
      "cell_type": "markdown",
      "source": [
        "#Loop Through an Array"
      ],
      "metadata": {
        "id": "cFfio1E_dqDm"
      }
    },
    {
      "cell_type": "code",
      "source": [
        "multiarray <- array(c(1:24), dim = c(4, 3, 2))\n",
        "\n",
        "for(x in multiarray){\n",
        "  print(x)\n",
        "}"
      ],
      "metadata": {
        "colab": {
          "base_uri": "https://localhost:8080/"
        },
        "id": "UfZbJZYUJTu_",
        "outputId": "75765bb3-0761-430b-f462-085ef975ef75"
      },
      "execution_count": 7,
      "outputs": [
        {
          "output_type": "stream",
          "name": "stdout",
          "text": [
            "[1] 1\n",
            "[1] 2\n",
            "[1] 3\n",
            "[1] 4\n",
            "[1] 5\n",
            "[1] 6\n",
            "[1] 7\n",
            "[1] 8\n",
            "[1] 9\n",
            "[1] 10\n",
            "[1] 11\n",
            "[1] 12\n",
            "[1] 13\n",
            "[1] 14\n",
            "[1] 15\n",
            "[1] 16\n",
            "[1] 17\n",
            "[1] 18\n",
            "[1] 19\n",
            "[1] 20\n",
            "[1] 21\n",
            "[1] 22\n",
            "[1] 23\n",
            "[1] 24\n"
          ]
        }
      ]
    }
  ]
}