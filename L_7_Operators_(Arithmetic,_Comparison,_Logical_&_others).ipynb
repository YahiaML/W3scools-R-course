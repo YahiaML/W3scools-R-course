{
  "nbformat": 4,
  "nbformat_minor": 0,
  "metadata": {
    "colab": {
      "name": "L_7 Operators (Arithmetic, Comparison, Logical & others).ipynb",
      "provenance": [],
      "collapsed_sections": [],
      "authorship_tag": "ABX9TyNxFAh9quasJfGElZ+eVILu"
    },
    "kernelspec": {
      "name": "ir",
      "display_name": "R"
    },
    "language_info": {
      "name": "R"
    }
  },
  "cells": [
    {
      "cell_type": "markdown",
      "source": [
        "#Arithmetic Operators\n",
        "*\tAddition\tx + y\t\n",
        "*\tSubtraction\tx - y\t\n",
        "*\tMultiplication\tx * y\t\n",
        "*\tDivision\tx / y\t\n",
        "*\tExponent\tx ^ y\tor X**Y\n",
        "*\tModulus (Remainder from division)\tx %% y\t(returns the first number after the decimal point)\n",
        "*\tInteger Division\tx%/%y"
      ],
      "metadata": {
        "id": "--OIQClNB_Jw"
      }
    },
    {
      "cell_type": "code",
      "source": [
        "paste(\"5+3 =\", 5+3)\n",
        "paste(\"5-3 =\", 5-3)\n",
        "paste(\"5+3 =\", 5+3)\n",
        "paste(\"5*3 =\", 5*3)\n",
        "paste(\"5/3 =\", 5/3)\n",
        "paste(\"3**2 =\", 3**2)\n",
        "paste(\"3^2 =\", 3^2)\n",
        "paste(\"7 %/% 3 =\", 7 %/% 3)\n",
        "paste(\"15 %% 8 =\", 15 %% 8)"
      ],
      "metadata": {
        "colab": {
          "base_uri": "https://localhost:8080/",
          "height": 173
        },
        "id": "mZ3XcVbFAKYz",
        "outputId": "884992f9-5233-49b6-8b24-b389ab4c76d2"
      },
      "execution_count": 19,
      "outputs": [
        {
          "output_type": "display_data",
          "data": {
            "text/html": [
              "'5+3 = 8'"
            ],
            "text/markdown": "'5+3 = 8'",
            "text/latex": "'5+3 = 8'",
            "text/plain": [
              "[1] \"5+3 = 8\""
            ]
          },
          "metadata": {}
        },
        {
          "output_type": "display_data",
          "data": {
            "text/html": [
              "'5-3 = 2'"
            ],
            "text/markdown": "'5-3 = 2'",
            "text/latex": "'5-3 = 2'",
            "text/plain": [
              "[1] \"5-3 = 2\""
            ]
          },
          "metadata": {}
        },
        {
          "output_type": "display_data",
          "data": {
            "text/html": [
              "'5+3 = 8'"
            ],
            "text/markdown": "'5+3 = 8'",
            "text/latex": "'5+3 = 8'",
            "text/plain": [
              "[1] \"5+3 = 8\""
            ]
          },
          "metadata": {}
        },
        {
          "output_type": "display_data",
          "data": {
            "text/html": [
              "'5*3 = 15'"
            ],
            "text/markdown": "'5*3 = 15'",
            "text/latex": "'5*3 = 15'",
            "text/plain": [
              "[1] \"5*3 = 15\""
            ]
          },
          "metadata": {}
        },
        {
          "output_type": "display_data",
          "data": {
            "text/html": [
              "'5/3 = 1.66666666666667'"
            ],
            "text/markdown": "'5/3 = 1.66666666666667'",
            "text/latex": "'5/3 = 1.66666666666667'",
            "text/plain": [
              "[1] \"5/3 = 1.66666666666667\""
            ]
          },
          "metadata": {}
        },
        {
          "output_type": "display_data",
          "data": {
            "text/html": [
              "'3**2 = 9'"
            ],
            "text/markdown": "'3**2 = 9'",
            "text/latex": "'3**2 = 9'",
            "text/plain": [
              "[1] \"3**2 = 9\""
            ]
          },
          "metadata": {}
        },
        {
          "output_type": "display_data",
          "data": {
            "text/html": [
              "'3^2 = 9'"
            ],
            "text/markdown": "'3^2 = 9'",
            "text/latex": "'3\\textasciicircum{}2 = 9'",
            "text/plain": [
              "[1] \"3^2 = 9\""
            ]
          },
          "metadata": {}
        },
        {
          "output_type": "display_data",
          "data": {
            "text/html": [
              "'7 %/% 3 = 2'"
            ],
            "text/markdown": "'7 %/% 3 = 2'",
            "text/latex": "'7 \\%/\\% 3 = 2'",
            "text/plain": [
              "[1] \"7 %/% 3 = 2\""
            ]
          },
          "metadata": {}
        },
        {
          "output_type": "display_data",
          "data": {
            "text/html": [
              "'15 %% 8 = 7'"
            ],
            "text/markdown": "'15 %% 8 = 7'",
            "text/latex": "'15 \\%\\% 8 = 7'",
            "text/plain": [
              "[1] \"15 %% 8 = 7\""
            ]
          },
          "metadata": {}
        }
      ]
    },
    {
      "cell_type": "markdown",
      "source": [
        "#Comparison Operators\n",
        "*\tEqual\tx == y\t\n",
        "*\tNot equal\tx != y\t\n",
        "*Greater than\tx > y\t\n",
        "*\tLess than\tx < y\t\n",
        "*\tGreater than or equal to\tx >= y\t\n",
        "*\tLess than or equal to\tx <= y"
      ],
      "metadata": {
        "id": "yTANfWpbEckL"
      }
    },
    {
      "cell_type": "code",
      "source": [
        "\"Yahia\" == \"Yahia\"\n",
        "\"Yahia\" != \"Mahmoud\"\n",
        "\"Yahia\" >  \"Mahmoud\"                      # returns TRUE bec. Yahia starts with Y\n",
        "nchar(\"Yahia\") < nchar(\"Mahmoud\")\n",
        "9 >= 5\n",
        "9 <= 5"
      ],
      "metadata": {
        "colab": {
          "base_uri": "https://localhost:8080/",
          "height": 121
        },
        "id": "EjEEQW91EoBZ",
        "outputId": "1bbe01fc-f8a5-44f6-a8a0-898055f0a09c"
      },
      "execution_count": 22,
      "outputs": [
        {
          "output_type": "display_data",
          "data": {
            "text/html": [
              "TRUE"
            ],
            "text/markdown": "TRUE",
            "text/latex": "TRUE",
            "text/plain": [
              "[1] TRUE"
            ]
          },
          "metadata": {}
        },
        {
          "output_type": "display_data",
          "data": {
            "text/html": [
              "TRUE"
            ],
            "text/markdown": "TRUE",
            "text/latex": "TRUE",
            "text/plain": [
              "[1] TRUE"
            ]
          },
          "metadata": {}
        },
        {
          "output_type": "display_data",
          "data": {
            "text/html": [
              "TRUE"
            ],
            "text/markdown": "TRUE",
            "text/latex": "TRUE",
            "text/plain": [
              "[1] TRUE"
            ]
          },
          "metadata": {}
        },
        {
          "output_type": "display_data",
          "data": {
            "text/html": [
              "TRUE"
            ],
            "text/markdown": "TRUE",
            "text/latex": "TRUE",
            "text/plain": [
              "[1] TRUE"
            ]
          },
          "metadata": {}
        },
        {
          "output_type": "display_data",
          "data": {
            "text/html": [
              "TRUE"
            ],
            "text/markdown": "TRUE",
            "text/latex": "TRUE",
            "text/plain": [
              "[1] TRUE"
            ]
          },
          "metadata": {}
        },
        {
          "output_type": "display_data",
          "data": {
            "text/html": [
              "FALSE"
            ],
            "text/markdown": "FALSE",
            "text/latex": "FALSE",
            "text/plain": [
              "[1] FALSE"
            ]
          },
          "metadata": {}
        }
      ]
    },
    {
      "cell_type": "markdown",
      "source": [
        "#Logical Operators\n",
        "&\t **Element**-wise Logical AND operator. It returns TRUE if both **elements** are TRUE\n",
        "\n",
        "&&\t**Logical** AND operator - Returns TRUE if both **statements** are TRUE\n",
        "\n",
        "|\t**Element**wise- Logical OR operator. It returns TRUE if one of the **statement** is TRUE\n",
        "\n",
        "||\t**Logical** OR operator. It returns TRUE if one of the **statement** is TRUE.\n",
        "\n",
        "!\tLogical NOT - returns FALSE if statement is TRUE"
      ],
      "metadata": {
        "id": "PIZl-XMbFV-6"
      }
    },
    {
      "cell_type": "code",
      "source": [
        "x <- 1:5\n",
        "print(\"Without & :\")\n",
        "x > 2\n",
        "cat(\"\\n\")\n",
        "print(\"with &\")\n",
        "2< x & x < 4\n",
        "cat(\"\\n\")\n",
        "print(\"with &&\")\n",
        "1< x && x > 4\n",
        "\n"
      ],
      "metadata": {
        "colab": {
          "base_uri": "https://localhost:8080/",
          "height": 191
        },
        "id": "Hez-CX5AFi8w",
        "outputId": "94c98ebe-5e91-4d9e-d66e-847f01da2df4"
      },
      "execution_count": 52,
      "outputs": [
        {
          "output_type": "stream",
          "name": "stdout",
          "text": [
            "[1] \"Without & :\"\n"
          ]
        },
        {
          "output_type": "display_data",
          "data": {
            "text/html": [
              "<style>\n",
              ".list-inline {list-style: none; margin:0; padding: 0}\n",
              ".list-inline>li {display: inline-block}\n",
              ".list-inline>li:not(:last-child)::after {content: \"\\00b7\"; padding: 0 .5ex}\n",
              "</style>\n",
              "<ol class=list-inline><li>FALSE</li><li>FALSE</li><li>TRUE</li><li>TRUE</li><li>TRUE</li></ol>\n"
            ],
            "text/markdown": "1. FALSE\n2. FALSE\n3. TRUE\n4. TRUE\n5. TRUE\n\n\n",
            "text/latex": "\\begin{enumerate*}\n\\item FALSE\n\\item FALSE\n\\item TRUE\n\\item TRUE\n\\item TRUE\n\\end{enumerate*}\n",
            "text/plain": [
              "[1] FALSE FALSE  TRUE  TRUE  TRUE"
            ]
          },
          "metadata": {}
        },
        {
          "output_type": "stream",
          "name": "stdout",
          "text": [
            "\n",
            "[1] \"with &\"\n"
          ]
        },
        {
          "output_type": "display_data",
          "data": {
            "text/html": [
              "<style>\n",
              ".list-inline {list-style: none; margin:0; padding: 0}\n",
              ".list-inline>li {display: inline-block}\n",
              ".list-inline>li:not(:last-child)::after {content: \"\\00b7\"; padding: 0 .5ex}\n",
              "</style>\n",
              "<ol class=list-inline><li>FALSE</li><li>FALSE</li><li>TRUE</li><li>FALSE</li><li>FALSE</li></ol>\n"
            ],
            "text/markdown": "1. FALSE\n2. FALSE\n3. TRUE\n4. FALSE\n5. FALSE\n\n\n",
            "text/latex": "\\begin{enumerate*}\n\\item FALSE\n\\item FALSE\n\\item TRUE\n\\item FALSE\n\\item FALSE\n\\end{enumerate*}\n",
            "text/plain": [
              "[1] FALSE FALSE  TRUE FALSE FALSE"
            ]
          },
          "metadata": {}
        },
        {
          "output_type": "stream",
          "name": "stdout",
          "text": [
            "\n",
            "[1] \"with &&\"\n"
          ]
        },
        {
          "output_type": "stream",
          "name": "stderr",
          "text": [
            "Warning message in 1 < x && x > 4:\n",
            "“'length(x) = 5 > 1' in coercion to 'logical(1)'”\n"
          ]
        },
        {
          "output_type": "display_data",
          "data": {
            "text/html": [
              "FALSE"
            ],
            "text/markdown": "FALSE",
            "text/latex": "FALSE",
            "text/plain": [
              "[1] FALSE"
            ]
          },
          "metadata": {}
        }
      ]
    },
    {
      "cell_type": "markdown",
      "source": [
        "*\tCreates a series of numbers in a sequence\tx <- 1:10\n",
        "\n",
        "*\tFind out if an element belongs to a vector\tx %in% y\n"
      ],
      "metadata": {
        "id": "zEusEG4zMK9y"
      }
    },
    {
      "cell_type": "code",
      "source": [
        "x <- 1:10\n",
        "6 %in% x   # 6 in  x is not going to work\n",
        "11 %in% x"
      ],
      "metadata": {
        "colab": {
          "base_uri": "https://localhost:8080/",
          "height": 52
        },
        "id": "DKoF9kllMLEF",
        "outputId": "ba2e5925-c7b9-45b0-a31f-990d54ff69db"
      },
      "execution_count": 57,
      "outputs": [
        {
          "output_type": "display_data",
          "data": {
            "text/html": [
              "TRUE"
            ],
            "text/markdown": "TRUE",
            "text/latex": "TRUE",
            "text/plain": [
              "[1] TRUE"
            ]
          },
          "metadata": {}
        },
        {
          "output_type": "display_data",
          "data": {
            "text/html": [
              "FALSE"
            ],
            "text/markdown": "FALSE",
            "text/latex": "FALSE",
            "text/plain": [
              "[1] FALSE"
            ]
          },
          "metadata": {}
        }
      ]
    }
  ]
}