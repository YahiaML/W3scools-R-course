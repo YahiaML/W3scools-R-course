{
  "nbformat": 4,
  "nbformat_minor": 0,
  "metadata": {
    "colab": {
      "name": "L_5 String.ipynb",
      "provenance": [],
      "collapsed_sections": [],
      "authorship_tag": "ABX9TyOMWTD/0wNzzj4iu1TBm+2b"
    },
    "kernelspec": {
      "name": "ir",
      "display_name": "R"
    },
    "language_info": {
      "name": "R"
    }
  },
  "cells": [
    {
      "cell_type": "markdown",
      "source": [
        "#Print a pragraph"
      ],
      "metadata": {
        "id": "zvRP-y7APuLk"
      }
    },
    {
      "cell_type": "code",
      "source": [
        "str <- \"Yahia Mah Ali\n",
        "Mostafa Mahmoud Ali\n",
        "Abdo Ammar Saeed Waeel\"\n",
        "\n",
        "str "
      ],
      "metadata": {
        "colab": {
          "base_uri": "https://localhost:8080/",
          "height": 34
        },
        "id": "tRXCYdTWOGr3",
        "outputId": "0d9f7a35-e590-4422-dec3-43164d918c42"
      },
      "execution_count": 32,
      "outputs": [
        {
          "output_type": "display_data",
          "data": {
            "text/html": [
              "'Yahia Mah Ali\\nMostafa Mahmoud Ali\\nAbdo Ammar Saeed Waeel'"
            ],
            "text/markdown": "'Yahia Mah Ali\\nMostafa Mahmoud Ali\\nAbdo Ammar Saeed Waeel'",
            "text/latex": "'Yahia Mah Ali\\textbackslash{}nMostafa Mahmoud Ali\\textbackslash{}nAbdo Ammar Saeed Waeel'",
            "text/plain": [
              "[1] \"Yahia Mah Ali\\nMostafa Mahmoud Ali\\nAbdo Ammar Saeed Waeel\""
            ]
          },
          "metadata": {}
        }
      ]
    },
    {
      "cell_type": "code",
      "source": [
        "str <- \"Yahia Mah Ali\n",
        "Mostafa Mahmoud Ali\n",
        "Abdo Ammar Saeed Waeel\"\n",
        "\n",
        "cat(str) "
      ],
      "metadata": {
        "colab": {
          "base_uri": "https://localhost:8080/"
        },
        "id": "1tw9Y2HIPDEn",
        "outputId": "6f9a4c22-f688-494d-8800-5580692ec159"
      },
      "execution_count": 40,
      "outputs": [
        {
          "output_type": "stream",
          "name": "stdout",
          "text": [
            "Yahia Mah Ali\n",
            "Mostafa Mahmoud Ali\n",
            "Abdo Ammar Saeed Waeel"
          ]
        }
      ]
    },
    {
      "cell_type": "code",
      "source": [
        "str <- 'Yahia Mah Ali\\nMostafa Mahmoud Ali\\nAbdo Ammar Saeed Waeel'\n",
        "cat(str) "
      ],
      "metadata": {
        "colab": {
          "base_uri": "https://localhost:8080/"
        },
        "id": "P1l9vpMgPiVG",
        "outputId": "5ff5e34a-06b8-45c6-e15d-7f18211f3b99"
      },
      "execution_count": 41,
      "outputs": [
        {
          "output_type": "stream",
          "name": "stdout",
          "text": [
            "Yahia Mah Ali\n",
            "Mostafa Mahmoud Ali\n",
            "Abdo Ammar Saeed Waeel"
          ]
        }
      ]
    },
    {
      "cell_type": "markdown",
      "source": [
        "# Str length"
      ],
      "metadata": {
        "id": "jmY2j_s6P3aU"
      }
    },
    {
      "cell_type": "code",
      "source": [
        "str <- \"Yahia\"\n",
        "\n",
        "nchar(str)"
      ],
      "metadata": {
        "colab": {
          "base_uri": "https://localhost:8080/",
          "height": 34
        },
        "id": "NLjHEj3BP2aW",
        "outputId": "e0bcb29c-586d-4ce4-f315-ef82cc3ea017"
      },
      "execution_count": 43,
      "outputs": [
        {
          "output_type": "display_data",
          "data": {
            "text/html": [
              "5"
            ],
            "text/markdown": "5",
            "text/latex": "5",
            "text/plain": [
              "[1] 5"
            ]
          },
          "metadata": {}
        }
      ]
    },
    {
      "cell_type": "markdown",
      "source": [
        "#check if a charackter is found in a text"
      ],
      "metadata": {
        "id": "mxm776H-QBg7"
      }
    },
    {
      "cell_type": "code",
      "source": [
        "str <- \"Yahia Mah Ali Ibrahim\"\n",
        "grepl(\"Yahia\", str)\n",
        "grepl(\"Mostafa\", str)\n",
        "grepl(\"yahia\", str) # case senstive"
      ],
      "metadata": {
        "colab": {
          "base_uri": "https://localhost:8080/",
          "height": 69
        },
        "id": "kEQHdD21QI2k",
        "outputId": "35fa3ce9-2b6b-41b8-b165-3de39c8f92b9"
      },
      "execution_count": 45,
      "outputs": [
        {
          "output_type": "display_data",
          "data": {
            "text/html": [
              "TRUE"
            ],
            "text/markdown": "TRUE",
            "text/latex": "TRUE",
            "text/plain": [
              "[1] TRUE"
            ]
          },
          "metadata": {}
        },
        {
          "output_type": "display_data",
          "data": {
            "text/html": [
              "FALSE"
            ],
            "text/markdown": "FALSE",
            "text/latex": "FALSE",
            "text/plain": [
              "[1] FALSE"
            ]
          },
          "metadata": {}
        },
        {
          "output_type": "display_data",
          "data": {
            "text/html": [
              "FALSE"
            ],
            "text/markdown": "FALSE",
            "text/latex": "FALSE",
            "text/plain": [
              "[1] FALSE"
            ]
          },
          "metadata": {}
        }
      ]
    },
    {
      "cell_type": "markdown",
      "source": [
        "# print 2 or more strings"
      ],
      "metadata": {
        "id": "8c0Vh87MQhMb"
      }
    },
    {
      "cell_type": "code",
      "source": [
        "str1 <- \"Yahia\"\n",
        "str2 <- \"Mahmoud\"\n",
        "\n",
        "#print(str1, str2)\n",
        "paste(str1, str2)"
      ],
      "metadata": {
        "colab": {
          "base_uri": "https://localhost:8080/",
          "height": 34
        },
        "id": "2M57TYhgQrTT",
        "outputId": "62d9f6fb-9b9f-4c13-d88d-5aaa5035325e"
      },
      "execution_count": 49,
      "outputs": [
        {
          "output_type": "display_data",
          "data": {
            "text/html": [
              "'Yahia Mahmoud'"
            ],
            "text/markdown": "'Yahia Mahmoud'",
            "text/latex": "'Yahia Mahmoud'",
            "text/plain": [
              "[1] \"Yahia Mahmoud\""
            ]
          },
          "metadata": {}
        }
      ]
    },
    {
      "cell_type": "code",
      "source": [
        "name <- \"Yahia\"\n",
        "\n",
        "paste(\"My name is\", name) # You can join, two or more elements, by using the paste() function\n",
        "\n",
        "#print(\"My name is\", name) will not work"
      ],
      "metadata": {
        "colab": {
          "base_uri": "https://localhost:8080/",
          "height": 34
        },
        "id": "MvhpYoDLQhUT",
        "outputId": "14f1b6e3-63c3-4f4b-c30c-021a322a926f"
      },
      "execution_count": 47,
      "outputs": [
        {
          "output_type": "display_data",
          "data": {
            "text/html": [
              "'My name is Yahia'"
            ],
            "text/markdown": "'My name is Yahia'",
            "text/latex": "'My name is Yahia'",
            "text/plain": [
              "[1] \"My name is Yahia\""
            ]
          },
          "metadata": {}
        }
      ]
    },
    {
      "cell_type": "markdown",
      "source": [
        "#Escape Characters"
      ],
      "metadata": {
        "id": "8rwKb2FSRDpj"
      }
    },
    {
      "cell_type": "markdown",
      "source": [
        "\n",
        "Code\t     Result\n",
        "\n",
        "\\\\\t  |   Backslash\n",
        "\n",
        "\\n\t  |   New Line\n",
        "\n",
        "\\r\t  |   Carriage Return (ignores wht is behind)\n",
        "\n",
        "\\t\t  |   Tab\n",
        "\n",
        "\\b\t  |  Backspace (delets 1 charecter behind)\n"
      ],
      "metadata": {
        "id": "sAPWxQ1ARp4x"
      }
    },
    {
      "cell_type": "code",
      "source": [
        "str <- \"My name is \\\"Yahia\\\"\"\n",
        "#str <- 'My name is \"Yahia\"'\n",
        "str\n",
        "cat(str)"
      ],
      "metadata": {
        "colab": {
          "base_uri": "https://localhost:8080/",
          "height": 52
        },
        "id": "gqhVmkmdRDw8",
        "outputId": "29fc7d3a-d2c3-4433-93a0-0bf61a2580df"
      },
      "execution_count": 51,
      "outputs": [
        {
          "output_type": "display_data",
          "data": {
            "text/html": [
              "'My name is \"Yahia\"'"
            ],
            "text/markdown": "'My name is \"Yahia\"'",
            "text/latex": "'My name is \"Yahia\"'",
            "text/plain": [
              "[1] \"My name is \\\"Yahia\\\"\""
            ]
          },
          "metadata": {}
        },
        {
          "output_type": "stream",
          "name": "stdout",
          "text": [
            "My name is \"Yahia\""
          ]
        }
      ]
    },
    {
      "cell_type": "code",
      "source": [
        "str <- 'My name is \\\\Yahia\\\\ '\n",
        "\n",
        "cat(str)"
      ],
      "metadata": {
        "colab": {
          "base_uri": "https://localhost:8080/"
        },
        "id": "SsCABPaERYvb",
        "outputId": "e16bf3d3-49ce-41a3-c037-16f0a280ea26"
      },
      "execution_count": 60,
      "outputs": [
        {
          "output_type": "stream",
          "name": "stdout",
          "text": [
            "My name is \\Yahia\\ "
          ]
        }
      ]
    },
    {
      "cell_type": "code",
      "source": [
        "str <- 'My name is Yahia\\r and I love cairo'\n",
        "\n",
        "cat(str) # ignores what is behind"
      ],
      "metadata": {
        "colab": {
          "base_uri": "https://localhost:8080/"
        },
        "id": "C_-DWVGOSMLK",
        "outputId": "ae35f30f-9faa-4fff-ccc6-b7037b556e73"
      },
      "execution_count": 62,
      "outputs": [
        {
          "output_type": "stream",
          "name": "stdout",
          "text": [
            "My name is Yahia\r and I love cairo"
          ]
        }
      ]
    },
    {
      "cell_type": "code",
      "source": [
        "str <- 'My name is \\tYahia\\t and I love cairo'\n",
        "cat(str)"
      ],
      "metadata": {
        "colab": {
          "base_uri": "https://localhost:8080/"
        },
        "id": "dauVaYzxSykP",
        "outputId": "c7b5f78e-4c48-4ba5-a870-386eebc91a8f"
      },
      "execution_count": 63,
      "outputs": [
        {
          "output_type": "stream",
          "name": "stdout",
          "text": [
            "My name is \tYahia\t and I love cairo"
          ]
        }
      ]
    },
    {
      "cell_type": "code",
      "source": [
        "str <- 'My name is \\bYahia\\b and I love cairo'\n",
        "cat(str)"
      ],
      "metadata": {
        "colab": {
          "base_uri": "https://localhost:8080/"
        },
        "id": "6CRFu6xBS3Z3",
        "outputId": "6779dba0-d62c-401c-a8b9-6401d2d2fabb"
      },
      "execution_count": 64,
      "outputs": [
        {
          "output_type": "stream",
          "name": "stdout",
          "text": [
            "My name is \bYahia\b and I love cairo"
          ]
        }
      ]
    }
  ]
}