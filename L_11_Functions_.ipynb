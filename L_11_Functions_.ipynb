{
  "nbformat": 4,
  "nbformat_minor": 0,
  "metadata": {
    "colab": {
      "name": "L_11 Functions .ipynb",
      "provenance": [],
      "collapsed_sections": [],
      "authorship_tag": "ABX9TyMe2v+xVPXSlv2SMl+c5gu4"
    },
    "kernelspec": {
      "name": "ir",
      "display_name": "R"
    },
    "language_info": {
      "name": "R"
    }
  },
  "cells": [
    {
      "cell_type": "markdown",
      "source": [
        "# Creating and Calling a Function"
      ],
      "metadata": {
        "id": "cF_EV4Q17zbu"
      }
    },
    {
      "cell_type": "code",
      "source": [
        "Yahia_function <- function() {         # create a function with the name Yahia_function\n",
        "  print(\"Yahia Mahmoud Ali\")\n",
        "}\n",
        "\n",
        "Yahia_function() # call the function named Yahia_function"
      ],
      "metadata": {
        "colab": {
          "base_uri": "https://localhost:8080/"
        },
        "id": "ORUuq-oY73eM",
        "outputId": "1f099085-12d5-48d3-b5ca-be542b4f3c1d"
      },
      "execution_count": 110,
      "outputs": [
        {
          "output_type": "stream",
          "name": "stdout",
          "text": [
            "[1] \"Yahia Mahmoud Ali\"\n"
          ]
        }
      ]
    },
    {
      "cell_type": "markdown",
      "source": [
        "# Arguments"
      ],
      "metadata": {
        "id": "6d1LrrNg8Ulk"
      }
    },
    {
      "cell_type": "code",
      "source": [
        "Yahia_function <- function(stud_name) {\n",
        "  paste(\"Azharian\",stud_name)\n",
        "}\n",
        "\n",
        "Yahia_function(\"Yahia\")\n",
        "Yahia_function(\"Abdo\")\n",
        "Yahia_function(\"Kamel\")"
      ],
      "metadata": {
        "colab": {
          "base_uri": "https://localhost:8080/",
          "height": 69
        },
        "id": "WSO6lH9y8WsL",
        "outputId": "f9ac9f80-dd46-45b7-e4c1-bd48a0cfdfe9"
      },
      "execution_count": 112,
      "outputs": [
        {
          "output_type": "display_data",
          "data": {
            "text/html": [
              "'Azharian Yahia'"
            ],
            "text/markdown": "'Azharian Yahia'",
            "text/latex": "'Azharian Yahia'",
            "text/plain": [
              "[1] \"Azharian Yahia\""
            ]
          },
          "metadata": {}
        },
        {
          "output_type": "display_data",
          "data": {
            "text/html": [
              "'Azharian Abdo'"
            ],
            "text/markdown": "'Azharian Abdo'",
            "text/latex": "'Azharian Abdo'",
            "text/plain": [
              "[1] \"Azharian Abdo\""
            ]
          },
          "metadata": {}
        },
        {
          "output_type": "display_data",
          "data": {
            "text/html": [
              "'Azharian Kamel'"
            ],
            "text/markdown": "'Azharian Kamel'",
            "text/latex": "'Azharian Kamel'",
            "text/plain": [
              "[1] \"Azharian Kamel\""
            ]
          },
          "metadata": {}
        }
      ]
    },
    {
      "cell_type": "markdown",
      "source": [
        "# Default Argument Value"
      ],
      "metadata": {
        "id": "VN98nFdc81Pj"
      }
    },
    {
      "cell_type": "code",
      "source": [
        "Yahia_function <- function(Name = \"Someone\",Country = \"Egypt\") {\n",
        "  paste(Name, \"is from\", Country)\n",
        "}\n",
        "Yahia_function()\n",
        "Yahia_function(\"Yahia\")\n",
        "Yahia_function(\"Tommy\", \"US\")\n",
        "Yahia_function(\"Hany\", \"UAE\")"
      ],
      "metadata": {
        "colab": {
          "base_uri": "https://localhost:8080/",
          "height": 86
        },
        "id": "C-Wcrhfz81Yr",
        "outputId": "9b11966f-5ffd-4993-b53a-88529b6af6be"
      },
      "execution_count": 113,
      "outputs": [
        {
          "output_type": "display_data",
          "data": {
            "text/html": [
              "'Someone is from Egypt'"
            ],
            "text/markdown": "'Someone is from Egypt'",
            "text/latex": "'Someone is from Egypt'",
            "text/plain": [
              "[1] \"Someone is from Egypt\""
            ]
          },
          "metadata": {}
        },
        {
          "output_type": "display_data",
          "data": {
            "text/html": [
              "'Yahia is from Egypt'"
            ],
            "text/markdown": "'Yahia is from Egypt'",
            "text/latex": "'Yahia is from Egypt'",
            "text/plain": [
              "[1] \"Yahia is from Egypt\""
            ]
          },
          "metadata": {}
        },
        {
          "output_type": "display_data",
          "data": {
            "text/html": [
              "'Tommy is from US'"
            ],
            "text/markdown": "'Tommy is from US'",
            "text/latex": "'Tommy is from US'",
            "text/plain": [
              "[1] \"Tommy is from US\""
            ]
          },
          "metadata": {}
        },
        {
          "output_type": "display_data",
          "data": {
            "text/html": [
              "'Hany is from UAE'"
            ],
            "text/markdown": "'Hany is from UAE'",
            "text/latex": "'Hany is from UAE'",
            "text/plain": [
              "[1] \"Hany is from UAE\""
            ]
          },
          "metadata": {}
        }
      ]
    },
    {
      "cell_type": "markdown",
      "source": [
        "# Return"
      ],
      "metadata": {
        "id": "l78c8Mn9-PnK"
      }
    },
    {
      "cell_type": "code",
      "source": [
        "exponent <- function(num) {\n",
        "  return(num^2)\n",
        "}\n",
        "\n",
        "exponent(1)\n",
        "exponent(2)\n",
        "exponent(3)"
      ],
      "metadata": {
        "colab": {
          "base_uri": "https://localhost:8080/",
          "height": 69
        },
        "id": "eQks-D28-RPZ",
        "outputId": "7f803003-a8d3-4eb4-bcec-0f9482a7a3e5"
      },
      "execution_count": 114,
      "outputs": [
        {
          "output_type": "display_data",
          "data": {
            "text/html": [
              "1"
            ],
            "text/markdown": "1",
            "text/latex": "1",
            "text/plain": [
              "[1] 1"
            ]
          },
          "metadata": {}
        },
        {
          "output_type": "display_data",
          "data": {
            "text/html": [
              "4"
            ],
            "text/markdown": "4",
            "text/latex": "4",
            "text/plain": [
              "[1] 4"
            ]
          },
          "metadata": {}
        },
        {
          "output_type": "display_data",
          "data": {
            "text/html": [
              "9"
            ],
            "text/markdown": "9",
            "text/latex": "9",
            "text/plain": [
              "[1] 9"
            ]
          },
          "metadata": {}
        }
      ]
    },
    {
      "cell_type": "markdown",
      "source": [
        "# Nested Functions"
      ],
      "metadata": {
        "id": "ZgHxhp-M-_nf"
      }
    },
    {
      "cell_type": "code",
      "source": [
        "Nested_function <- function(x, y) {\n",
        "  return(x + y)\n",
        "}\n",
        "\n",
        "Nested_function(Nested_function(2,2), Nested_function(3,3))"
      ],
      "metadata": {
        "colab": {
          "base_uri": "https://localhost:8080/",
          "height": 34
        },
        "id": "6ajDoj0N--pw",
        "outputId": "079407fa-09fe-4468-8f47-dc3789af4c62"
      },
      "execution_count": 116,
      "outputs": [
        {
          "output_type": "display_data",
          "data": {
            "text/html": [
              "10"
            ],
            "text/markdown": "10",
            "text/latex": "10",
            "text/plain": [
              "[1] 10"
            ]
          },
          "metadata": {}
        }
      ]
    }
  ]
}