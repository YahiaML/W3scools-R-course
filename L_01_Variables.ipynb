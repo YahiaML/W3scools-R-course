{
  "nbformat": 4,
  "nbformat_minor": 0,
  "metadata": {
    "colab": {
      "name": "l_1 Variables.ipynb",
      "provenance": [],
      "collapsed_sections": [],
      "authorship_tag": "ABX9TyMA5CUUyVPa42XRy5MUYs7A"
    },
    "kernelspec": {
      "name": "ir",
      "display_name": "R"
    },
    "language_info": {
      "name": "R"
    }
  },
  "cells": [
    {
      "cell_type": "code",
      "execution_count": 5,
      "metadata": {
        "colab": {
          "base_uri": "https://localhost:8080/",
          "height": 69
        },
        "id": "6m1tl2aRIeCZ",
        "outputId": "4b8c8b26-ae85-4f21-b25d-fe3755486c22"
      },
      "outputs": [
        {
          "output_type": "display_data",
          "data": {
            "text/html": [
              "'yahia'"
            ],
            "text/markdown": "'yahia'",
            "text/latex": "'yahia'",
            "text/plain": [
              "[1] \"yahia\""
            ]
          },
          "metadata": {}
        },
        {
          "output_type": "display_data",
          "data": {
            "text/html": [
              "50"
            ],
            "text/markdown": "50",
            "text/latex": "50",
            "text/plain": [
              "[1] 50"
            ]
          },
          "metadata": {}
        },
        {
          "output_type": "stream",
          "name": "stdout",
          "text": [
            "[1] \"yahia\"\n"
          ]
        }
      ],
      "source": [
        "name <- \"yahia\"  # <- equals = in python\n",
        "\n",
        "number <- 50\n",
        "\n",
        "name\n",
        "number\n",
        "print(name)"
      ]
    },
    {
      "cell_type": "code",
      "source": [
        "name <- \"Yahia\"\n",
        "\n",
        "paste(\"My name is\", name) # You can join, two or more elements, by using the paste() function\n",
        "\n",
        "#print(\"My name is\", name) will not work"
      ],
      "metadata": {
        "colab": {
          "base_uri": "https://localhost:8080/",
          "height": 34
        },
        "id": "gSYNj9yoJZbo",
        "outputId": "e78aeaa6-0810-4010-997a-4328c526c559"
      },
      "execution_count": 4,
      "outputs": [
        {
          "output_type": "display_data",
          "data": {
            "text/html": [
              "'My name is Yahia'"
            ],
            "text/markdown": "'My name is Yahia'",
            "text/latex": "'My name is Yahia'",
            "text/plain": [
              "[1] \"My name is Yahia\""
            ]
          },
          "metadata": {}
        }
      ]
    },
    {
      "cell_type": "code",
      "source": [
        "# Assign the same value to multiple variables in one line\n",
        "var1 <- var2 <- var3 <- \"Orange\"\n",
        "\n",
        "# Print variable values\n",
        "var1\n",
        "var2\n",
        "var3"
      ],
      "metadata": {
        "colab": {
          "base_uri": "https://localhost:8080/",
          "height": 69
        },
        "id": "IG4qjTIZJvok",
        "outputId": "5f402b02-9328-4cb0-9e1d-1c6cfab474d5"
      },
      "execution_count": 6,
      "outputs": [
        {
          "output_type": "display_data",
          "data": {
            "text/html": [
              "'Orange'"
            ],
            "text/markdown": "'Orange'",
            "text/latex": "'Orange'",
            "text/plain": [
              "[1] \"Orange\""
            ]
          },
          "metadata": {}
        },
        {
          "output_type": "display_data",
          "data": {
            "text/html": [
              "'Orange'"
            ],
            "text/markdown": "'Orange'",
            "text/latex": "'Orange'",
            "text/plain": [
              "[1] \"Orange\""
            ]
          },
          "metadata": {}
        },
        {
          "output_type": "display_data",
          "data": {
            "text/html": [
              "'Orange'"
            ],
            "text/markdown": "'Orange'",
            "text/latex": "'Orange'",
            "text/plain": [
              "[1] \"Orange\""
            ]
          },
          "metadata": {}
        }
      ]
    }
  ]
}
