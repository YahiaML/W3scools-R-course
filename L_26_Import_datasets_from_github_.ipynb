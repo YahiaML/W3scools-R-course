{
  "nbformat": 4,
  "nbformat_minor": 0,
  "metadata": {
    "colab": {
      "name": "L_26 Import datasets from github .ipynb",
      "provenance": [],
      "collapsed_sections": [],
      "authorship_tag": "ABX9TyM4RGV7ZBaQI2Tj/x1iQdd0",
      "include_colab_link": true
    },
    "kernelspec": {
      "name": "ir",
      "display_name": "R"
    },
    "language_info": {
      "name": "R"
    }
  },
  "cells": [
    {
      "cell_type": "markdown",
      "metadata": {
        "id": "view-in-github",
        "colab_type": "text"
      },
      "source": [
        "<a href=\"https://colab.research.google.com/github/YahiaML/W3scools-R-course/blob/main/L_26_Import_datasets_from_github_.ipynb\" target=\"_parent\"><img src=\"https://colab.research.google.com/assets/colab-badge.svg\" alt=\"Open In Colab\"/></a>"
      ]
    },
    {
      "cell_type": "code",
      "source": [
        "library (readr)\n",
        "\n",
        "urlfile=\"https://raw.githubusercontent.com/genomicsclass/dagdata/master/inst/extdata/femaleMiceWeights.csv\"\n",
        "\n",
        "mydata<-read_csv(url(urlfile))"
      ],
      "metadata": {
        "colab": {
          "base_uri": "https://localhost:8080/"
        },
        "id": "2zw1cHdUFfnc",
        "outputId": "f8002791-f9fc-48be-a9f9-50fded30d435"
      },
      "execution_count": 24,
      "outputs": [
        {
          "output_type": "stream",
          "name": "stderr",
          "text": [
            "\u001b[1mRows: \u001b[22m\u001b[34m24\u001b[39m \u001b[1mColumns: \u001b[22m\u001b[34m2\u001b[39m\n",
            "\u001b[36m──\u001b[39m \u001b[1mColumn specification\u001b[22m \u001b[36m────────────────────────────────────────────────────────\u001b[39m\n",
            "\u001b[1mDelimiter:\u001b[22m \",\"\n",
            "\u001b[31mchr\u001b[39m (1): Diet\n",
            "\u001b[32mdbl\u001b[39m (1): Bodyweight\n",
            "\n",
            "\u001b[36mℹ\u001b[39m Use `spec()` to retrieve the full column specification for this data.\n",
            "\u001b[36mℹ\u001b[39m Specify the column types or set `show_col_types = FALSE` to quiet this message.\n"
          ]
        }
      ]
    },
    {
      "cell_type": "code",
      "source": [
        "mydata"
      ],
      "metadata": {
        "colab": {
          "base_uri": "https://localhost:8080/",
          "height": 851
        },
        "id": "h5QzSh0YQWuA",
        "outputId": "77f7ac97-8392-40e0-c2df-c18f3a6c30de"
      },
      "execution_count": 25,
      "outputs": [
        {
          "output_type": "display_data",
          "data": {
            "text/html": [
              "<table class=\"dataframe\">\n",
              "<caption>A spec_tbl_df: 24 × 2</caption>\n",
              "<thead>\n",
              "\t<tr><th scope=col>Diet</th><th scope=col>Bodyweight</th></tr>\n",
              "\t<tr><th scope=col>&lt;chr&gt;</th><th scope=col>&lt;dbl&gt;</th></tr>\n",
              "</thead>\n",
              "<tbody>\n",
              "\t<tr><td>chow</td><td>21.51</td></tr>\n",
              "\t<tr><td>chow</td><td>28.14</td></tr>\n",
              "\t<tr><td>chow</td><td>24.04</td></tr>\n",
              "\t<tr><td>chow</td><td>23.45</td></tr>\n",
              "\t<tr><td>chow</td><td>23.68</td></tr>\n",
              "\t<tr><td>chow</td><td>19.79</td></tr>\n",
              "\t<tr><td>chow</td><td>28.40</td></tr>\n",
              "\t<tr><td>chow</td><td>20.98</td></tr>\n",
              "\t<tr><td>chow</td><td>22.51</td></tr>\n",
              "\t<tr><td>chow</td><td>20.10</td></tr>\n",
              "\t<tr><td>chow</td><td>26.91</td></tr>\n",
              "\t<tr><td>chow</td><td>26.25</td></tr>\n",
              "\t<tr><td>hf  </td><td>25.71</td></tr>\n",
              "\t<tr><td>hf  </td><td>26.37</td></tr>\n",
              "\t<tr><td>hf  </td><td>22.80</td></tr>\n",
              "\t<tr><td>hf  </td><td>25.34</td></tr>\n",
              "\t<tr><td>hf  </td><td>24.97</td></tr>\n",
              "\t<tr><td>hf  </td><td>28.14</td></tr>\n",
              "\t<tr><td>hf  </td><td>29.58</td></tr>\n",
              "\t<tr><td>hf  </td><td>30.92</td></tr>\n",
              "\t<tr><td>hf  </td><td>34.02</td></tr>\n",
              "\t<tr><td>hf  </td><td>21.90</td></tr>\n",
              "\t<tr><td>hf  </td><td>31.53</td></tr>\n",
              "\t<tr><td>hf  </td><td>20.73</td></tr>\n",
              "</tbody>\n",
              "</table>\n"
            ],
            "text/markdown": "\nA spec_tbl_df: 24 × 2\n\n| Diet &lt;chr&gt; | Bodyweight &lt;dbl&gt; |\n|---|---|\n| chow | 21.51 |\n| chow | 28.14 |\n| chow | 24.04 |\n| chow | 23.45 |\n| chow | 23.68 |\n| chow | 19.79 |\n| chow | 28.40 |\n| chow | 20.98 |\n| chow | 22.51 |\n| chow | 20.10 |\n| chow | 26.91 |\n| chow | 26.25 |\n| hf   | 25.71 |\n| hf   | 26.37 |\n| hf   | 22.80 |\n| hf   | 25.34 |\n| hf   | 24.97 |\n| hf   | 28.14 |\n| hf   | 29.58 |\n| hf   | 30.92 |\n| hf   | 34.02 |\n| hf   | 21.90 |\n| hf   | 31.53 |\n| hf   | 20.73 |\n\n",
            "text/latex": "A spec\\_tbl\\_df: 24 × 2\n\\begin{tabular}{ll}\n Diet & Bodyweight\\\\\n <chr> & <dbl>\\\\\n\\hline\n\t chow & 21.51\\\\\n\t chow & 28.14\\\\\n\t chow & 24.04\\\\\n\t chow & 23.45\\\\\n\t chow & 23.68\\\\\n\t chow & 19.79\\\\\n\t chow & 28.40\\\\\n\t chow & 20.98\\\\\n\t chow & 22.51\\\\\n\t chow & 20.10\\\\\n\t chow & 26.91\\\\\n\t chow & 26.25\\\\\n\t hf   & 25.71\\\\\n\t hf   & 26.37\\\\\n\t hf   & 22.80\\\\\n\t hf   & 25.34\\\\\n\t hf   & 24.97\\\\\n\t hf   & 28.14\\\\\n\t hf   & 29.58\\\\\n\t hf   & 30.92\\\\\n\t hf   & 34.02\\\\\n\t hf   & 21.90\\\\\n\t hf   & 31.53\\\\\n\t hf   & 20.73\\\\\n\\end{tabular}\n",
            "text/plain": [
              "   Diet Bodyweight\n",
              "1  chow 21.51     \n",
              "2  chow 28.14     \n",
              "3  chow 24.04     \n",
              "4  chow 23.45     \n",
              "5  chow 23.68     \n",
              "6  chow 19.79     \n",
              "7  chow 28.40     \n",
              "8  chow 20.98     \n",
              "9  chow 22.51     \n",
              "10 chow 20.10     \n",
              "11 chow 26.91     \n",
              "12 chow 26.25     \n",
              "13 hf   25.71     \n",
              "14 hf   26.37     \n",
              "15 hf   22.80     \n",
              "16 hf   25.34     \n",
              "17 hf   24.97     \n",
              "18 hf   28.14     \n",
              "19 hf   29.58     \n",
              "20 hf   30.92     \n",
              "21 hf   34.02     \n",
              "22 hf   21.90     \n",
              "23 hf   31.53     \n",
              "24 hf   20.73     "
            ]
          },
          "metadata": {}
        }
      ]
    }
  ]
}